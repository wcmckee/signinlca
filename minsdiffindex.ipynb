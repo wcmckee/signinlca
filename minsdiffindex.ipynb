{
 "cells": [
  {
   "cell_type": "markdown",
   "metadata": {},
   "source": [
    "Minutes Difference Index\n",
    "\n",
    "script to tell changes that happen to the data in sellcoffee/index.html and how it is different to files just moved to archieve. \n",
    "\n",
    "Keep an eye on the numbers and usersnames in index.html - annouching changes such as \n",
    "\n",
    "wcmckee increased in 4 minutes\n",
    "poi increased in 1 min\n",
    "\n",
    "wcmckee has logged onto naples yellow.\n",
    "\n",
    "\n",
    "\n",
    "cp most recent archieve to a special folder where it is accessed to compare the changes. \n"
   ]
  },
  {
   "cell_type": "code",
   "execution_count": null,
   "metadata": {
    "collapsed": true
   },
   "outputs": [],
   "source": []
  }
 ],
 "metadata": {
  "kernelspec": {
   "display_name": "Python 2",
   "language": "python",
   "name": "python2"
  },
  "language_info": {
   "codemirror_mode": {
    "name": "ipython",
    "version": 2
   },
   "file_extension": ".py",
   "mimetype": "text/x-python",
   "name": "python",
   "nbconvert_exporter": "python",
   "pygments_lexer": "ipython2",
   "version": "2.7.3"
  }
 },
 "nbformat": 4,
 "nbformat_minor": 0
}
