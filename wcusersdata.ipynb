{
 "cells": [
  {
   "cell_type": "markdown",
   "metadata": {},
   "source": [
    "wcUsersData\n",
    "\n",
    "Script to get users logged into the system.\n",
    "\n",
    "Saves the output of users as the hostname of the system.\n",
    "Convert to a dict and json object, merging with other hostname output.\n",
    "\n",
    "Runs script every min and if user is found then - time from their account \n",
    "\n",
    "File with, usernames, time remaining on user.\n",
    "\n",
    "time file is a json object.\n",
    "{'username' : 'wcmckee', 'time' : 320 }\n",
    "\n",
    "time is amount of time left on account.\n",
    "\n",
    "script to check this object and if 0 - lock account. ELSE, allow login. \n",
    "\n",
    "Script to add time to acoun,, auto add time to certain groups/user a day. \n",
    "\n",
    "\n",
    "\n",
    "username 45"
   ]
  },
  {
   "cell_type": "code",
   "execution_count": 5,
   "metadata": {
    "collapsed": true
   },
   "outputs": [],
   "source": [
    "import os\n",
    "import socket\n",
    "import json"
   ]
  },
  {
   "cell_type": "code",
   "execution_count": 6,
   "metadata": {
    "collapsed": true
   },
   "outputs": [],
   "source": [
    "usertimedict = dict()"
   ]
  },
  {
   "cell_type": "code",
   "execution_count": 7,
   "metadata": {
    "collapsed": false
   },
   "outputs": [],
   "source": [
    "lisho = os.listdir('/home')"
   ]
  },
  {
   "cell_type": "code",
   "execution_count": 8,
   "metadata": {
    "collapsed": true
   },
   "outputs": [],
   "source": [
    "for ish in lisho:\n",
    "    usertimedict.update({ish : 0})"
   ]
  },
  {
   "cell_type": "code",
   "execution_count": 9,
   "metadata": {
    "collapsed": false
   },
   "outputs": [
    {
     "data": {
      "text/plain": [
       "{'blag': 0,\n",
       " 'blah': 0,\n",
       " 'charle': 0,\n",
       " 'checkthis': 0,\n",
       " 'clittle': 0,\n",
       " 'figlet': 0,\n",
       " 'gerty': 0,\n",
       " 'jblog': 0,\n",
       " 'jchick': 0,\n",
       " 'joecheck': 0,\n",
       " 'joeman': 0,\n",
       " 'joemanz': 0,\n",
       " 'pjohns': 0,\n",
       " 'poi': 0,\n",
       " 'point': 0,\n",
       " 'poiu': 0,\n",
       " 'pytest': 0,\n",
       " 'qwe': 0,\n",
       " 'red': 0,\n",
       " 'signinlca.py': 0,\n",
       " 'sjohns': 0,\n",
       " 'ssung': 0,\n",
       " 'tnow': 0,\n",
       " 'wblack': 0,\n",
       " 'wcm': 0,\n",
       " 'wcmckee': 0,\n",
       " 'webmck': 0,\n",
       " 'wez': 0,\n",
       " 'wkee': 0,\n",
       " 'wmen': 0}"
      ]
     },
     "execution_count": 9,
     "metadata": {},
     "output_type": "execute_result"
    }
   ],
   "source": [
    "usertimedict"
   ]
  },
  {
   "cell_type": "code",
   "execution_count": 10,
   "metadata": {
    "collapsed": false
   },
   "outputs": [
    {
     "name": "stdout",
     "output_type": "stream",
     "text": [
      "add how much time: 15\n"
     ]
    }
   ],
   "source": [
    "addtime = (raw_input('add how much time: '))"
   ]
  },
  {
   "cell_type": "code",
   "execution_count": 11,
   "metadata": {
    "collapsed": true
   },
   "outputs": [],
   "source": [
    "#letim = len(addtime)"
   ]
  },
  {
   "cell_type": "code",
   "execution_count": 12,
   "metadata": {
    "collapsed": false
   },
   "outputs": [],
   "source": [
    "#letim"
   ]
  },
  {
   "cell_type": "code",
   "execution_count": 13,
   "metadata": {
    "collapsed": false
   },
   "outputs": [
    {
     "data": {
      "text/plain": [
       "'15'"
      ]
     },
     "execution_count": 13,
     "metadata": {},
     "output_type": "execute_result"
    }
   ],
   "source": [
    "addtime"
   ]
  },
  {
   "cell_type": "code",
   "execution_count": 14,
   "metadata": {
    "collapsed": false
   },
   "outputs": [
    {
     "data": {
      "text/plain": [
       "str"
      ]
     },
     "execution_count": 14,
     "metadata": {},
     "output_type": "execute_result"
    }
   ],
   "source": [
    "type(addtime)"
   ]
  },
  {
   "cell_type": "code",
   "execution_count": 15,
   "metadata": {
    "collapsed": false
   },
   "outputs": [],
   "source": [
    "intime = int(addtime)"
   ]
  },
  {
   "cell_type": "code",
   "execution_count": 16,
   "metadata": {
    "collapsed": false
   },
   "outputs": [],
   "source": [
    "for ish in lisho:\n",
    "    usertimedict.update({ish : intime})"
   ]
  },
  {
   "cell_type": "code",
   "execution_count": 17,
   "metadata": {
    "collapsed": false
   },
   "outputs": [
    {
     "data": {
      "text/plain": [
       "{'blag': 15,\n",
       " 'blah': 15,\n",
       " 'charle': 15,\n",
       " 'checkthis': 15,\n",
       " 'clittle': 15,\n",
       " 'figlet': 15,\n",
       " 'gerty': 15,\n",
       " 'jblog': 15,\n",
       " 'jchick': 15,\n",
       " 'joecheck': 15,\n",
       " 'joeman': 15,\n",
       " 'joemanz': 15,\n",
       " 'pjohns': 15,\n",
       " 'poi': 15,\n",
       " 'point': 15,\n",
       " 'poiu': 15,\n",
       " 'pytest': 15,\n",
       " 'qwe': 15,\n",
       " 'red': 15,\n",
       " 'signinlca.py': 15,\n",
       " 'sjohns': 15,\n",
       " 'ssung': 15,\n",
       " 'tnow': 15,\n",
       " 'wblack': 15,\n",
       " 'wcm': 15,\n",
       " 'wcmckee': 15,\n",
       " 'webmck': 15,\n",
       " 'wez': 15,\n",
       " 'wkee': 15,\n",
       " 'wmen': 15}"
      ]
     },
     "execution_count": 17,
     "metadata": {},
     "output_type": "execute_result"
    }
   ],
   "source": [
    "usertimedict"
   ]
  },
  {
   "cell_type": "code",
   "execution_count": 19,
   "metadata": {
    "collapsed": true
   },
   "outputs": [],
   "source": [
    "myhn = socket.gethostname()"
   ]
  },
  {
   "cell_type": "code",
   "execution_count": 37,
   "metadata": {
    "collapsed": false
   },
   "outputs": [
    {
     "name": "stdout",
     "output_type": "stream",
     "text": [
      "Which user to edit time: point\n",
      "How much time to add: 100\n"
     ]
    }
   ],
   "source": [
    "#Edit just one person\n",
    "\n",
    "edione = raw_input('Which user to edit time: ')\n",
    "timedi = raw_input('How much time to add: ')\n",
    "\n",
    "usertimedict.update({edione : timedi})"
   ]
  },
  {
   "cell_type": "code",
   "execution_count": 20,
   "metadata": {
    "collapsed": false
   },
   "outputs": [],
   "source": [
    "jstim = json.dumps(usertimedict)"
   ]
  },
  {
   "cell_type": "code",
   "execution_count": 21,
   "metadata": {
    "collapsed": false
   },
   "outputs": [
    {
     "data": {
      "text/plain": [
       "'{\"wcmckee\": 15, \"joemanz\": 15, \"point\": 15, \"qwe\": 15, \"wkee\": 15, \"checkthis\": 15, \"poiu\": 15, \"blah\": 15, \"charle\": 15, \"poi\": 15, \"tnow\": 15, \"clittle\": 15, \"wblack\": 15, \"ssung\": 15, \"wmen\": 15, \"blag\": 15, \"signinlca.py\": 15, \"sjohns\": 15, \"gerty\": 15, \"webmck\": 15, \"joeman\": 15, \"joecheck\": 15, \"jchick\": 15, \"pytest\": 15, \"jblog\": 15, \"pjohns\": 15, \"wez\": 15, \"figlet\": 15, \"wcm\": 15, \"red\": 15}'"
      ]
     },
     "execution_count": 21,
     "metadata": {},
     "output_type": "execute_result"
    }
   ],
   "source": [
    "jstim"
   ]
  },
  {
   "cell_type": "code",
   "execution_count": 24,
   "metadata": {
    "collapsed": false
   },
   "outputs": [],
   "source": [
    "opus = open('/home/wcmckee/sellcoffee/hostnames/' + myhn, 'w')\n",
    "\n",
    "opus.write(jstim)\n",
    "opus.close()"
   ]
  },
  {
   "cell_type": "code",
   "execution_count": 26,
   "metadata": {
    "collapsed": false
   },
   "outputs": [
    {
     "name": "stdout",
     "output_type": "stream",
     "text": [
      "{\"wcmckee\": 15, \"joemanz\": 15, \"point\": 15, \"qwe\": 15, \"wkee\": 15, \"checkthis\": 15, \"poiu\": 15, \"blah\": 15, \"charle\": 15, \"poi\": 15, \"tnow\": 15, \"clittle\": 15, \"wblack\": 15, \"ssung\": 15, \"wmen\": 15, \"blag\": 15, \"signinlca.py\": 15, \"sjohns\": 15, \"gerty\": 15, \"webmck\": 15, \"joeman\": 15, \"joecheck\": 15, \"jchick\": 15, \"pytest\": 15, \"jblog\": 15, \"pjohns\": 15, \"wez\": 15, \"figlet\": 15, \"wcm\": 15, \"red\": 15}\n"
     ]
    }
   ],
   "source": [
    "rdopuw = open('/home/wcmckee/sellcoffee/hostnames/localhost', 'r')\n",
    "\n",
    "print rdopuw.read()"
   ]
  },
  {
   "cell_type": "code",
   "execution_count": 33,
   "metadata": {
    "collapsed": false
   },
   "outputs": [
    {
     "data": {
      "text/plain": [
       "'point'"
      ]
     },
     "execution_count": 33,
     "metadata": {},
     "output_type": "execute_result"
    }
   ],
   "source": [
    "edione"
   ]
  },
  {
   "cell_type": "code",
   "execution_count": 34,
   "metadata": {
    "collapsed": true
   },
   "outputs": [],
   "source": [
    "limedi = int(timedi)"
   ]
  },
  {
   "cell_type": "code",
   "execution_count": 35,
   "metadata": {
    "collapsed": false
   },
   "outputs": [
    {
     "data": {
      "text/plain": [
       "15"
      ]
     },
     "execution_count": 35,
     "metadata": {},
     "output_type": "execute_result"
    }
   ],
   "source": [
    "limedi"
   ]
  },
  {
   "cell_type": "code",
   "execution_count": 9,
   "metadata": {
    "collapsed": false
   },
   "outputs": [],
   "source": [
    "osscm = ('users > ' + myhn + '.txt')"
   ]
  },
  {
   "cell_type": "code",
   "execution_count": 11,
   "metadata": {
    "collapsed": false
   },
   "outputs": [
    {
     "data": {
      "text/plain": [
       "'users > naplesyellow.txt'"
      ]
     },
     "execution_count": 11,
     "metadata": {},
     "output_type": "execute_result"
    }
   ],
   "source": [
    "osscm"
   ]
  },
  {
   "cell_type": "code",
   "execution_count": null,
   "metadata": {
    "collapsed": true
   },
   "outputs": [],
   "source": []
  },
  {
   "cell_type": "code",
   "execution_count": null,
   "metadata": {
    "collapsed": true
   },
   "outputs": [],
   "source": []
  },
  {
   "cell_type": "code",
   "execution_count": 12,
   "metadata": {
    "collapsed": false
   },
   "outputs": [],
   "source": [
    "os.chdir('/home/wcmckee/sellcoffee/')"
   ]
  },
  {
   "cell_type": "code",
   "execution_count": 13,
   "metadata": {
    "collapsed": false
   },
   "outputs": [
    {
     "data": {
      "text/plain": [
       "0"
      ]
     },
     "execution_count": 13,
     "metadata": {},
     "output_type": "execute_result"
    }
   ],
   "source": [
    "os.system(osscm)"
   ]
  },
  {
   "cell_type": "code",
   "execution_count": 14,
   "metadata": {
    "collapsed": true
   },
   "outputs": [],
   "source": [
    "ophos = open('/home/wcmckee/sellcoffee/' + myhn + '.txt')"
   ]
  },
  {
   "cell_type": "code",
   "execution_count": 15,
   "metadata": {
    "collapsed": false
   },
   "outputs": [
    {
     "data": {
      "text/plain": [
       "'noby wcmckee wcmckee wcmckee wcmckee wcmckee\\n'"
      ]
     },
     "execution_count": 15,
     "metadata": {},
     "output_type": "execute_result"
    }
   ],
   "source": [
    "print ophos.read()"
   ]
  },
  {
   "cell_type": "code",
   "execution_count": 17,
   "metadata": {
    "collapsed": false
   },
   "outputs": [],
   "source": [
    "ophos.close()"
   ]
  },
  {
   "cell_type": "code",
   "execution_count": 38,
   "metadata": {
    "collapsed": true
   },
   "outputs": [],
   "source": [
    "import sys"
   ]
  },
  {
   "cell_type": "code",
   "execution_count": 42,
   "metadata": {
    "collapsed": false
   },
   "outputs": [
    {
     "data": {
      "text/plain": [
       "['IPython.config.re',\n",
       " 'IPython.core.error',\n",
       " 'curses.sys',\n",
       " 'zmq.sugar.weakref',\n",
       " 'IPython.kernel.connect',\n",
       " 'ctypes.os',\n",
       " 'pexpect.select',\n",
       " 'runpy',\n",
       " 'gc',\n",
       " 'pty',\n",
       " 'IPython.utils.pprint',\n",
       " 'logging.weakref',\n",
       " 'pprint',\n",
       " 'IPython.kernel.inprocess.zmq',\n",
       " 'IPython.kernel.blocking.client',\n",
       " 'IPython.kernel.comm.uuid',\n",
       " 'zmq',\n",
       " 'IPython.terminal.sys',\n",
       " 'string',\n",
       " 'IPython.config.sys',\n",
       " 'IPython.utils.logging',\n",
       " 'IPython.config.json',\n",
       " 'encodings.utf_8',\n",
       " 'IPython.kernel.zmq.serialize',\n",
       " 'IPython.html.IPython',\n",
       " 'IPython.kernel.channels',\n",
       " 'json.encoder',\n",
       " 'datetime',\n",
       " 'zmq.devices.threading',\n",
       " 'zmq.backend.cython.utils',\n",
       " 'IPython.utils.pickleshare',\n",
       " 'IPython.utils.errno',\n",
       " 'IPython.core.debugger',\n",
       " 'IPython.kernel.inprocess.manager',\n",
       " 'IPython.core.displayhook',\n",
       " 'curses.os',\n",
       " 'IPython.lib.IPython',\n",
       " 'IPython.core.magics.auto',\n",
       " 'IPython.lib.select',\n",
       " 'shlex',\n",
       " 'IPython.config',\n",
       " 'IPython.core.ultratb',\n",
       " 'IPython.kernel.launcher',\n",
       " 'multiprocessing',\n",
       " 'IPython.utils.resource',\n",
       " 'dis',\n",
       " 'IPython.kernel.IPython',\n",
       " 'logging.threading',\n",
       " 'IPython.core.splitinput',\n",
       " 'IPython.lib.types',\n",
       " 'IPython.terminal.ipapp',\n",
       " 'IPython.core.excolors',\n",
       " 'IPython.utils.tempfile',\n",
       " 'IPython.extensions.textwrap',\n",
       " 'IPython.core.inspect',\n",
       " 'IPython.utils.version',\n",
       " 'IPython.lib.getpass',\n",
       " 'abc',\n",
       " 'IPython.core.displaypub',\n",
       " 'zmq.utils.sys',\n",
       " 'bdb',\n",
       " 'tarfile',\n",
       " 'IPython.core.mimetypes',\n",
       " 'IPython.external.path.hashlib',\n",
       " 'UserDict',\n",
       " 'zmq.sugar.warnings',\n",
       " 'zmq.devices.monitoredqueue',\n",
       " 'IPython.utils.jsonutil',\n",
       " 'IPython.utils.openpy',\n",
       " 'IPython.core.alias',\n",
       " 'inspect',\n",
       " 'IPython.core.datetime',\n",
       " 'ctypes.tempfile',\n",
       " 'simplejson.decoder',\n",
       " 'IPython.external.path.functools',\n",
       " 'IPython.lib.collections',\n",
       " 'IPython.kernel.zmq.cPickle',\n",
       " 'exceptions',\n",
       " 'json.scanner',\n",
       " 'IPython.utils.zmq',\n",
       " 'codecs',\n",
       " 'IPython.core.shadowns',\n",
       " 'IPython.kernel.subprocess',\n",
       " 'importlib',\n",
       " 'IPython.core.magics.extension',\n",
       " 'IPython.utils.shutil',\n",
       " 'StringIO',\n",
       " 'weakref',\n",
       " 'pexpect.termios',\n",
       " 'IPython.utils.datetime',\n",
       " 'IPython.kernel.zmq',\n",
       " 'IPython.core.display',\n",
       " 'IPython.utils.eventful',\n",
       " 'IPython.terminal',\n",
       " 'encodings.binascii',\n",
       " 'base64',\n",
       " '_sre',\n",
       " 'IPython.core.json',\n",
       " 'sqlite3.dbapi2',\n",
       " 'IPython',\n",
       " 'logging.re',\n",
       " 'select',\n",
       " 'IPython.external.path.os',\n",
       " '_heapq',\n",
       " 'IPython.core.display_trap',\n",
       " 'zmq.sugar.constants',\n",
       " 'zmq.backend.cython.time',\n",
       " 'binascii',\n",
       " 'pexpect.time',\n",
       " 'zmq.backend.cython._poll',\n",
       " 'IPython.core.logger',\n",
       " 'IPython.config.collections',\n",
       " 'tokenize',\n",
       " 'IPython.kernel.kernelspec',\n",
       " 'cPickle',\n",
       " 'simplejson.sys',\n",
       " 'IPython.core.magics.errno',\n",
       " 'IPython.utils.encoding',\n",
       " 'IPython.core.ast',\n",
       " 'IPython.core.keyword',\n",
       " 'IPython.lib.os',\n",
       " 'IPython.core.magics.itertools',\n",
       " 'zmq.backend.cython.cPickle',\n",
       " 'IPython.core.getipython',\n",
       " 'IPython.core.magics.cProfile',\n",
       " 'IPython.core.magics.display',\n",
       " 'IPython.core.page',\n",
       " '_ast',\n",
       " 'IPython.utils.process',\n",
       " 'zmq.sugar.tracker',\n",
       " 'zmq.backend.cython.codecs',\n",
       " 'encodings.aliases',\n",
       " 'pexpect.resource',\n",
       " 'fnmatch',\n",
       " 'sre_parse',\n",
       " 'tornado.concurrent',\n",
       " 'pickle',\n",
       " 'IPython.kernel.blocking.IPython',\n",
       " 'logging.cStringIO',\n",
       " 'simplejson.simplejson',\n",
       " 'numbers',\n",
       " 'IPython.utils.shlex',\n",
       " 'IPython.core.magics.signal',\n",
       " 'IPython.kernel.zmq.heartbeat',\n",
       " 'IPython.html.nbextensions',\n",
       " 'IPython.utils.platform',\n",
       " 'strop',\n",
       " 'IPython.kernel.manager',\n",
       " 'IPython.core.history',\n",
       " 'IPython.external.decorator',\n",
       " 'IPython.utils.ipstruct',\n",
       " 'IPython.kernel.channelsabc',\n",
       " 'zmq.utils.sixcerpt',\n",
       " 'IPython.extensions.__future__',\n",
       " 'IPython.config.application',\n",
       " 'zipfile',\n",
       " 'htmlentitydefs',\n",
       " 'zmq.backend.cython.threading',\n",
       " 'IPython.external.path.fnmatch',\n",
       " 'pexpect.os',\n",
       " 'codeop',\n",
       " 'tornado.platform.interface',\n",
       " 'IPython.core.magics.osm',\n",
       " 'os.path',\n",
       " 'IPython.core.magics.time',\n",
       " 'IPython.utils.socket',\n",
       " 'argparse',\n",
       " 'IPython.kernel.io',\n",
       " 'simplegeneric',\n",
       " 'pexpect.struct',\n",
       " '_weakrefset',\n",
       " 'zmq.backend.select',\n",
       " 'IPython.external.pexpect',\n",
       " 'IPython.kernel.zmq.ipkernel',\n",
       " 'tty',\n",
       " 'functools',\n",
       " 'sysconfig',\n",
       " 'IPython.terminal.embed',\n",
       " 'IPython.kernel.inprocess.client',\n",
       " 'zmq.devices',\n",
       " 'sqlite3.collections',\n",
       " 'IPython.external.path.__future__',\n",
       " 'uuid',\n",
       " 'tempfile',\n",
       " 'IPython.kernel.zmq.thread',\n",
       " 'IPython.config.configurable',\n",
       " 'imp',\n",
       " 'multiprocessing.os',\n",
       " 'IPython.utils.tempdir',\n",
       " 'IPython.lib.deepreload',\n",
       " 'multiprocessing.itertools',\n",
       " 'IPython.kernel.zmq.IPython',\n",
       " 'IPython.core.magics.logging',\n",
       " 'pexpect.codecs',\n",
       " 'zmq.zmq',\n",
       " 'IPython.utils.pickleutil',\n",
       " 'IPython.core.traceback',\n",
       " 'IPython.html.sys',\n",
       " 'IPython.core.__main__',\n",
       " 'IPython.extensions',\n",
       " 'IPython.utils.hashlib',\n",
       " 'IPython.config.IPython',\n",
       " 'zmq.eventloop.__future__',\n",
       " 'decorator',\n",
       " 'IPython.core.zipimport',\n",
       " 'IPython.core.magics.execution',\n",
       " 'IPython.terminal.interactiveshell',\n",
       " 'zmq.backend.cython.context',\n",
       " 'IPython.core.warnings',\n",
       " 'IPython.utils.imp',\n",
       " 'logging.handlers',\n",
       " 'token',\n",
       " 'IPython.kernel.json',\n",
       " 'IPython.testing.sys',\n",
       " 'IPython.core.pylabtools',\n",
       " 'IPython.utils.warnings',\n",
       " 'IPython.core.magics.gc',\n",
       " 'cStringIO',\n",
       " 'cmd',\n",
       " 'IPython.kernel.zmq.signal',\n",
       " 'IPython.core.io',\n",
       " 'IPython.core.magics.namespace',\n",
       " 'IPython.kernel.inprocess.Queue',\n",
       " 'zmq.os',\n",
       " 'zmq.sugar.frame',\n",
       " 'zmq.backend.zmq',\n",
       " 'multiprocessing.process',\n",
       " 'ctypes.errno',\n",
       " 'encodings',\n",
       " 'IPython.kernel.zmq.kernelapp',\n",
       " 'IPython.core.magics.history',\n",
       " 'IPython.core.__future__',\n",
       " 'sqlite3._sqlite3',\n",
       " 'zmq.backend.cython.struct',\n",
       " 'IPython.kernel.zmq.atexit',\n",
       " 'IPython.core.interactiveshell',\n",
       " 'IPython.utils.base64',\n",
       " 'zmq.sugar.poll',\n",
       " 'IPython.core.operator',\n",
       " 'IPython.core.crashhandler',\n",
       " 'IPython.utils',\n",
       " 'IPython.core.magics.ast',\n",
       " 're',\n",
       " 'IPython.kernel.zmq.sys',\n",
       " 'IPython.core.magics.IPython',\n",
       " 'IPython.utils.capture',\n",
       " 'sqlite3.time',\n",
       " 'math',\n",
       " 'IPython.core.IPython',\n",
       " 'IPython.kernel.comm.sys',\n",
       " 'IPython.utils.distutils',\n",
       " 'IPython.core.importlib',\n",
       " 'ast',\n",
       " 'IPython.lib.sys',\n",
       " 'simplejson.scanner',\n",
       " 'zmq.utils.constant_names',\n",
       " 'IPython.external.path.codecs',\n",
       " 'ctypes.struct',\n",
       " 'IPython.core.errno',\n",
       " '_sysconfigdata_nd',\n",
       " '_locale',\n",
       " 'IPython.core.logging',\n",
       " 'logging',\n",
       " 'IPython.kernel.zmq.uuid',\n",
       " 'thread',\n",
       " 'traceback',\n",
       " 'IPython.utils.tokenutil',\n",
       " 'IPython.core.builtin_trap',\n",
       " 'zmq.backend.platform',\n",
       " 'IPython.utils.coloransi',\n",
       " 'multiprocessing.util',\n",
       " 'IPython.utils._process_posix',\n",
       " 'IPython.core.completerlib',\n",
       " 'pexpect.fcntl',\n",
       " 'ctypes.re',\n",
       " '_collections',\n",
       " 'IPython.html.os',\n",
       " 'zmq.sugar.codecs',\n",
       " 'multiprocessing.sys',\n",
       " 'array',\n",
       " 'IPython.kernel.blocking.channels',\n",
       " 'IPython.utils.locale',\n",
       " 'IPython.core.magics.pdb',\n",
       " 'zmq.devices.time',\n",
       " 'ctypes.sys',\n",
       " 'IPython.core.magics.config',\n",
       " 'pexpect',\n",
       " 'posixpath',\n",
       " 'ctypes.util',\n",
       " 'IPython.external.simplegeneric',\n",
       " 'zmq.zipimport',\n",
       " 'IPython.utils._sysinfo',\n",
       " 'zmq.eventloop.ioloop',\n",
       " 'IPython.lib.imp',\n",
       " 'types',\n",
       " 'zmq.backend.cython._device',\n",
       " 'IPython.utils.textwrap',\n",
       " 'IPython.core.linecache',\n",
       " 'json._json',\n",
       " 'IPython.lib.StringIO',\n",
       " '_codecs',\n",
       " 'zmq.backend.cython.zmq',\n",
       " 'json.sys',\n",
       " 'IPython.utils.os',\n",
       " 'IPython.extensions.inspect',\n",
       " 'IPython.core.magics.code',\n",
       " 'copy',\n",
       " 'hashlib',\n",
       " 'zmq.error',\n",
       " 'keyword',\n",
       " 'IPython.extensions.IPython',\n",
       " 'posix',\n",
       " 'IPython.core.hashlib',\n",
       " 'IPython.config.logging',\n",
       " 'IPython.utils.codeutil',\n",
       " '_curses',\n",
       " 'IPython.utils.generics',\n",
       " 'IPython.kernel.zmq.zmq',\n",
       " 'sre_compile',\n",
       " '_hashlib',\n",
       " 'IPython.utils.ulinecache',\n",
       " 'IPython.external.path.errno',\n",
       " 'IPython.core.sqlite3',\n",
       " 'getpass',\n",
       " 'logging.collections',\n",
       " 'IPython.core.threading',\n",
       " 'zmq.eventloop.zmq',\n",
       " '__main__',\n",
       " 'multiprocessing.atexit',\n",
       " 'calendar',\n",
       " 'pexpect.pty',\n",
       " 'IPython.kernel.zmq.iostream',\n",
       " 'IPython.core.pprint',\n",
       " 'encodings.codecs',\n",
       " 'IPython.utils.__builtin__',\n",
       " 'IPython.terminal.os',\n",
       " 'zmq.utils.jsonapi',\n",
       " 'IPython.kernel.zmq.io',\n",
       " 'IPython.kernel.blocking.Queue',\n",
       " 'curses.curses',\n",
       " 'IPython.kernel.zmq.os',\n",
       " 'IPython.core.completer',\n",
       " 'IPython.kernel.zmq.warnings',\n",
       " '_ssl',\n",
       " 'IPython.external.path.glob',\n",
       " 'IPython.utils.sys',\n",
       " 'warnings',\n",
       " 'tornado',\n",
       " 'IPython.lib.clipboard',\n",
       " 'glob',\n",
       " 'IPython.utils.inspect',\n",
       " 'zmq.backend.cython.sys',\n",
       " 'pexpect.errno',\n",
       " '_sqlite3',\n",
       " 'IPython.external.path._path',\n",
       " 'zmq.backend.cython.random',\n",
       " 'IPython.kernel.zmq.getpass',\n",
       " 'IPython.kernel.managerabc',\n",
       " 'multiprocessing._multiprocessing',\n",
       " 'IPython.html.zipfile',\n",
       " 'IPython.html',\n",
       " 'zmq.backend.cython.error',\n",
       " 'IPython.utils.wildcard',\n",
       " 'IPython.core.extensions',\n",
       " '_io',\n",
       " 'linecache',\n",
       " 'IPython.utils.contextlib',\n",
       " 'IPython.kernel.inprocess.socket',\n",
       " 'IPython.core.compilerop',\n",
       " 'simplejson.cStringIO',\n",
       " 'IPython.config.argparse',\n",
       " 'hmac',\n",
       " 'IPython.utils.stat',\n",
       " 'IPython.external.decorator.decorator',\n",
       " '_multiprocessing',\n",
       " 'IPython.terminal.__future__',\n",
       " 'random',\n",
       " 'zmq.sugar.context',\n",
       " 'subprocess',\n",
       " 'IPython.extensions.storemagic',\n",
       " 'logging.os',\n",
       " 'ctypes._endian',\n",
       " 'encodings.encodings',\n",
       " 'IPython.external.path.re',\n",
       " 'logging.stat',\n",
       " 'distutils',\n",
       " 'IPython.core.magic',\n",
       " 'IPython.utils.dir2',\n",
       " '_json',\n",
       " 'IPython.lib.contextlib',\n",
       " 'logging.thread',\n",
       " 'cProfile',\n",
       " 'IPython.utils.copy_reg',\n",
       " 'IPython.lib.re',\n",
       " 'IPython.kernel.zmq.errno',\n",
       " 'IPython.utils.copy',\n",
       " 'IPython.kernel.zmq.datetime',\n",
       " 'repr',\n",
       " 'ssl',\n",
       " 'IPython.core.payload',\n",
       " 'tornado.platform.posix',\n",
       " 'distutils.re',\n",
       " '_lsprof',\n",
       " 'IPython.utils._tokenize_py2',\n",
       " 'resource',\n",
       " 'IPython.kernel.shutil',\n",
       " 'zmq.sugar',\n",
       " 'IPython.kernel.os',\n",
       " 'IPython.html.urlparse',\n",
       " 'IPython.kernel.inprocess.blocking',\n",
       " 'IPython.utils.IPython',\n",
       " 'pydoc',\n",
       " 'threading',\n",
       " 'IPython.core.prefilter',\n",
       " 'IPython.lib.datetime',\n",
       " 'IPython.core.events',\n",
       " 'IPython.core.textwrap',\n",
       " 'locale',\n",
       " 'atexit',\n",
       " 'IPython.external',\n",
       " 'IPython.utils.struct',\n",
       " 'IPython.core.autocall',\n",
       " 'IPython.core.sys',\n",
       " 'pexpect.sys',\n",
       " 'zmq.backend.cython.message',\n",
       " 'IPython.core.magics.__future__',\n",
       " 'timeit',\n",
       " 'zmq.devices.basedevice',\n",
       " 'IPython.kernel.comm',\n",
       " 'tornado.log',\n",
       " 'urllib',\n",
       " 'IPython.kernel.zmq.hashlib',\n",
       " 'zmq.devices.proxydevice',\n",
       " 'IPython.external.pexpect.pexpect',\n",
       " 'zmq.sys',\n",
       " 'fcntl',\n",
       " 'IPython.utils.path',\n",
       " 'IPython.core.atexit',\n",
       " 'zmq.utils',\n",
       " 'Queue',\n",
       " 'ctypes',\n",
       " 'IPython.core.magics.subprocess',\n",
       " 'IPython.core.magics.re',\n",
       " 'IPython.utils._process_common',\n",
       " 'IPython.lib.distutils',\n",
       " 'IPython.kernel.zmq.datapub',\n",
       " 'json.re',\n",
       " 'IPython.utils.collections',\n",
       " 'itertools',\n",
       " 'opcode',\n",
       " 'pstats',\n",
       " 'pdb',\n",
       " 'IPython.kernel.zmq.parentpoller',\n",
       " 'IPython.extensions.os',\n",
       " 'IPython.core.magics.atexit',\n",
       " 'IPython.kernel.comm.IPython',\n",
       " 'IPython.kernel.zmq.logging',\n",
       " 'IPython.testing',\n",
       " 'sqlite3.datetime',\n",
       " 'zmq.sugar.socket',\n",
       " 'IPython.html.shutil',\n",
       " 'logging.errno',\n",
       " 'platform',\n",
       " 'curses._curses',\n",
       " 'encodings.unicode_escape',\n",
       " 'IPython.external.path',\n",
       " 'IPython.core.hooks',\n",
       " 'IPython.display',\n",
       " 'pkgutil',\n",
       " 'IPython.core.tokenize',\n",
       " 'IPython.external.path.pwd',\n",
       " 'IPython.lib.__future__',\n",
       " 'zmq.devices.zmq',\n",
       " 'zmq.backend.cython',\n",
       " 'logging.struct',\n",
       " 'sre_constants',\n",
       " 'zmq.backend.os',\n",
       " 'json',\n",
       " 'IPython.lib.backgroundjobs',\n",
       " 'IPython.config.__future__',\n",
       " 'IPython.kernel.zmq.time',\n",
       " 'IPython.external.path.shutil',\n",
       " 'zmq.utils.itertools',\n",
       " 'zmq.eventloop',\n",
       " 'IPython.kernel.zmq.platform',\n",
       " 'termios',\n",
       " 'IPython.IPython',\n",
       " 'logging.atexit',\n",
       " 'logging.cPickle',\n",
       " 'IPython.kernel',\n",
       " 'logging.socket',\n",
       " 'multiprocessing.multiprocessing',\n",
       " 'IPython.core.bdb',\n",
       " 'simplejson._speedups',\n",
       " 'storemagic',\n",
       " 'zlib',\n",
       " 'simplejson.re',\n",
       " 'IPython.external.path.warnings',\n",
       " 'json.decoder',\n",
       " 'copy_reg',\n",
       " 'tornado.platform.auto',\n",
       " 'IPython.utils.linecache',\n",
       " 'site',\n",
       " 'IPython.external.path.operator',\n",
       " 'IPython.core.shutil',\n",
       " 'zmq.devices.monitoredqueuedevice',\n",
       " 'io',\n",
       " 'shutil',\n",
       " 'IPython.utils.random',\n",
       " 'zmq.sugar.zmq',\n",
       " 'zmq.backend.sys',\n",
       " 'IPython.lib.warnings',\n",
       " 'IPython.utils.decorators',\n",
       " 'encodings.hex_codec',\n",
       " 'IPython.testing.skipdoctest',\n",
       " 'IPython.core.magics.timeit',\n",
       " 'IPython.core.magics.script',\n",
       " 'sqlite3',\n",
       " 'IPython.utils.localinterfaces',\n",
       " 'IPython.kernel.clientabc',\n",
       " 'IPython.core.macro',\n",
       " 'IPython.kernel.sys',\n",
       " 'IPython.kernel.zmq.__future__',\n",
       " 'IPython.core.magics.pprint',\n",
       " 'IPython.utils.data',\n",
       " 'json.json',\n",
       " 'IPython.core.types',\n",
       " 'sys',\n",
       " 'IPython.utils.log',\n",
       " 'IPython.kernel.comm.comm',\n",
       " 'IPython.terminal.IPython',\n",
       " 'multiprocessing.subprocess',\n",
       " 'importlib.sys',\n",
       " 'multiprocessing.weakref',\n",
       " 'IPython.core.magics.StringIO',\n",
       " 'IPython.core.usage',\n",
       " 'IPython.utils.importstring',\n",
       " 'IPython.kernel.adapter',\n",
       " '_weakref',\n",
       " 'IPython.core.inputtransformer',\n",
       " 'urlparse',\n",
       " 'IPython.lib.threading',\n",
       " 'IPython.kernel.zmq.kernelbase',\n",
       " 'IPython.core.application',\n",
       " 'IPython.core',\n",
       " 'IPython.core.magics.io',\n",
       " 'IPython.utils.terminal',\n",
       " 'IPython.core.StringIO',\n",
       " 'logging.logging',\n",
       " 'heapq',\n",
       " 'IPython.utils.math',\n",
       " 'IPython.core.time',\n",
       " 'zmq.glob',\n",
       " 'IPython.kernel.comm.manager',\n",
       " 'IPython.kernel.zmq.displayhook',\n",
       " 'zmq.backend.cython.socket',\n",
       " 'IPython.core.oinspect',\n",
       " 'zmq.sugar.attrsettr',\n",
       " 'tornado.escape',\n",
       " 'IPython.core.os',\n",
       " 'zmq.backend.cython.constants',\n",
       " 'struct',\n",
       " 'IPython.utils.strdispatch',\n",
       " 'IPython.core.inputsplitter',\n",
       " 'IPython.utils.tokenize2',\n",
       " 'IPython.utils.traitlets',\n",
       " '_abcoll',\n",
       " 'collections',\n",
       " 'IPython.html.tarfile',\n",
       " 'IPython.lib.inputhook',\n",
       " 'zmq.sugar.atexit',\n",
       " 'IPython.core.pydoc',\n",
       " 'distutils.types',\n",
       " 'IPython.extensions.sys',\n",
       " 'IPython.utils.warn',\n",
       " 'zipimport',\n",
       " 'IPython.core.struct',\n",
       " 'textwrap',\n",
       " 'IPython.lib.subprocess',\n",
       " 'IPython.core.codeop',\n",
       " 'IPython.kernel.inprocess',\n",
       " 'tornado.util',\n",
       " 'pexpect.traceback',\n",
       " 'IPython.core.magics.bdb',\n",
       " 'zmq.backend.cython._version',\n",
       " 'pexpect.types',\n",
       " 'IPython.lib.random',\n",
       " 'IPython.utils.frame',\n",
       " 'signal',\n",
       " 'IPython.core.payloadpage',\n",
       " '_ctypes',\n",
       " 'IPython.terminal.warnings',\n",
       " 'IPython.utils.zmqrelated',\n",
       " 'IPython.kernel.multikernelmanager',\n",
       " 'IPython.core.magics',\n",
       " 'IPython.external.simplegeneric.simplegeneric',\n",
       " 'decimal',\n",
       " 'IPython.kernel.zmq.session',\n",
       " 'zmq.eventloop.zmqstream',\n",
       " 'IPython.core.getopt',\n",
       " 'IPython.kernel.inprocess.channels',\n",
       " 'IPython.config.os',\n",
       " 'IPython.lib.display',\n",
       " 'stat',\n",
       " 'zmq.backend.cython.copy',\n",
       " 'IPython.utils.token',\n",
       " 'IPython.utils.module_paths',\n",
       " 'logging.traceback',\n",
       " 'IPython.core.magic_arguments',\n",
       " 'tornado.stack_context',\n",
       " 'IPython.utils.re',\n",
       " 'IPython.utils.sysinfo',\n",
       " 'IPython.core.argparse',\n",
       " 'IPython.utils.io',\n",
       " 'IPython.core.subprocess',\n",
       " 'IPython.html.urllib',\n",
       " 'ctypes._ctypes',\n",
       " 'encodings.ascii',\n",
       " 'IPython.utils.subprocess',\n",
       " 'IPython.utils.syspathcontext',\n",
       " 'IPython.core.itertools',\n",
       " 'IPython.lib',\n",
       " 'zmq.sugar.random',\n",
       " 'IPython.utils.PyColorize',\n",
       " 'logging.sys',\n",
       " 'pexpect.re',\n",
       " 'IPython.lib.ctypes',\n",
       " '_functools',\n",
       " 'IPython.kernel.zmq.random',\n",
       " 'socket',\n",
       " 'simplejson.compat',\n",
       " 'IPython.kernel.zmq.socket',\n",
       " 'zmq.sugar.version',\n",
       " 'pexpect.signal',\n",
       " 'IPython.core.magics.basic',\n",
       " 'IPython.utils.contexts',\n",
       " 'IPython.core.imp',\n",
       " 'zmq.eventloop.sys',\n",
       " 'IPython.core.socket',\n",
       " 'IPython.core.pdb',\n",
       " 'os',\n",
       " 'marshal',\n",
       " 'distutils.version',\n",
       " '__future__',\n",
       " 'IPython.kernel.abc',\n",
       " 'distutils.string',\n",
       " 'curses',\n",
       " 'IPython.core.magics.pstats',\n",
       " '__builtin__',\n",
       " 'IPython.kernel.blocking',\n",
       " 'operator',\n",
       " 'json.struct',\n",
       " 'IPython.core.shellapp',\n",
       " 'IPython.external.path.sys',\n",
       " 'zmq.eventloop.tornado',\n",
       " 'IPython.core.re',\n",
       " 'errno',\n",
       " '_socket',\n",
       " 'IPython.utils.rlineimpl',\n",
       " 'IPython.core.magics.json',\n",
       " 'IPython.core.glob',\n",
       " 'IPython.core.abc',\n",
       " 'IPython.kernel.zmq.ctypes',\n",
       " 'simplejson.encoder',\n",
       " '_warnings',\n",
       " 'IPython.core.magics.sys',\n",
       " 'IPython.core.latex_symbols',\n",
       " 'zmq.eventloop.cPickle',\n",
       " 'IPython.utils.text',\n",
       " 'encodings.__builtin__',\n",
       " 'IPython.utils.__future__',\n",
       " 'simplejson',\n",
       " 'tornado.platform',\n",
       " 'IPython.core.profiledir',\n",
       " 'IPython.utils.cPickle',\n",
       " 'pwd',\n",
       " 'curses.wrapper',\n",
       " 'zmq.backend',\n",
       " 'IPython.utils.types',\n",
       " 'IPython.core.magics.inspect',\n",
       " '_sysconfigdata',\n",
       " '_struct',\n",
       " 'IPython.core.magics.pylab',\n",
       " 'IPython.kernel.zmq.traceback',\n",
       " 'IPython.core.functools',\n",
       " 'IPython.lib.signal',\n",
       " 'logging.time',\n",
       " 'IPython.kernel.zmq.threading',\n",
       " 'IPython.kernel.zmq.zmqshell',\n",
       " 'logging.warnings',\n",
       " 'IPython.terminal.bdb',\n",
       " 'multiprocessing.signal',\n",
       " 'logging.codecs',\n",
       " '_random',\n",
       " 'zmq.utils.zmq',\n",
       " 'contextlib',\n",
       " 'IPython.utils.time',\n",
       " 'IPython.core.magics.os',\n",
       " 'IPython.lib.hashlib',\n",
       " 'IPython.utils.glob',\n",
       " 'zmq.sugar.cPickle',\n",
       " 'zmq.utils.strtypes',\n",
       " 'IPython.core.string',\n",
       " 'grp',\n",
       " 'IPython.core.release',\n",
       " 'IPython.lib.pretty',\n",
       " '_strptime',\n",
       " 'gettext',\n",
       " 'IPython.external.path.tempfile',\n",
       " 'IPython.utils.string',\n",
       " 'IPython.utils.timing',\n",
       " 'pexpect.tty',\n",
       " 'getopt',\n",
       " 'zmq.sugar.time',\n",
       " 'zmq.eventloop.Queue',\n",
       " 'genericpath',\n",
       " 'mimetypes',\n",
       " 'IPython.kernel.inprocess.abc',\n",
       " 'IPython.core.prompts',\n",
       " 'IPython.core.formatters',\n",
       " 'IPython.lib.security',\n",
       " 'tornado.speedups',\n",
       " 'time',\n",
       " 'multiprocessing.threading',\n",
       " 'zmq.sugar.threading',\n",
       " 'IPython.config.loader',\n",
       " 'zmq.devices.multiprocessing',\n",
       " 'ctypes.ctypes',\n",
       " 'IPython.utils.functools',\n",
       " 'readline',\n",
       " 'zmq.utils.interop',\n",
       " 'IPython.kernel.zmq.hmac',\n",
       " 'sitecustomize',\n",
       " 'IPython.kernel.zmq.pprint',\n",
       " 'IPython.html.__future__',\n",
       " 'IPython.kernel.client',\n",
       " 'IPython.core.magics.deprecated',\n",
       " 'IPython.utils.signatures',\n",
       " 'IPython.core.tempfile',\n",
       " 'IPython.config.copy',\n",
       " 'IPython.kernel.inprocess.IPython',\n",
       " 'IPython.utils.py3compat',\n",
       " 'tornado.ioloop']"
      ]
     },
     "execution_count": 42,
     "metadata": {},
     "output_type": "execute_result"
    }
   ],
   "source": [
    "sys.modules.keys()"
   ]
  },
  {
   "cell_type": "code",
   "execution_count": null,
   "metadata": {
    "collapsed": true
   },
   "outputs": [],
   "source": []
  }
 ],
 "metadata": {
  "kernelspec": {
   "display_name": "Python 2",
   "name": "python2"
  },
  "language_info": {
   "codemirror_mode": {
    "name": "ipython",
    "version": 2
   },
   "file_extension": ".py",
   "mimetype": "text/x-python",
   "name": "python",
   "nbconvert_exporter": "python",
   "pygments_lexer": "ipython2",
   "version": "2.7.8"
  }
 },
 "nbformat": 4,
 "nbformat_minor": 0
}
