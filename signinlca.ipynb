{
 "cells": [
  {
   "cell_type": "markdown",
   "metadata": {},
   "source": [
    "signinlca\n",
    "\n",
    "script to signin for volunteers at lca2015\n",
    "\n",
    "test!\n",
    "\n",
    "The script asks for input of firstname, lastname, tshirt size, amount of coffee volc and comments. \n",
    "It creates a python dict with this data along with the current date and hour. \n",
    "It gets the username of user and saves the data in the users home dir under the folder signinlca. \n",
    "It saves the data as a json object.\n",
    "Currently saves the file as firstname + lastname. Could this be improved?\n",
    "\n",
    "\n",
    "TODO\n",
    "\n",
    "add option to choose to login or logout. Y/N option for each one. \n",
    "\n",
    "add logout script that appends to the login data. saves, time/date/comment. anything else?\n",
    "\n",
    "Asign to jobs/room?\n",
    "\n",
    "Graph up total hour worked in day/week\n",
    "\n",
    "scp/rsync data to server/web page.\n"
   ]
  },
  {
   "cell_type": "code",
   "execution_count": 306,
   "metadata": {
    "collapsed": false
   },
   "outputs": [],
   "source": [
    "import os\n",
    "#import time\n",
    "import json\n",
    "import getpass\n",
    "import arrow\n",
    "\n",
    "import hashlib"
   ]
  },
  {
   "cell_type": "code",
   "execution_count": 307,
   "metadata": {
    "collapsed": true
   },
   "outputs": [],
   "source": [
    "gmtz = arrow.utcnow()"
   ]
  },
  {
   "cell_type": "code",
   "execution_count": 308,
   "metadata": {
    "collapsed": false
   },
   "outputs": [
    {
     "data": {
      "text/plain": [
       "'2015'"
      ]
     },
     "execution_count": 308,
     "metadata": {},
     "output_type": "execute_result"
    }
   ],
   "source": [
    "yrmt = gmtz.strftime(\"%Y\")\n",
    "mthza = gmtz.strftime(\"%m\")\n",
    "dthaq = gmtz.strftime(\"%d\")\n",
    "gmtz.strftime(\"%Y\")\n",
    "#yearz = strftime(\"%y\", gmtime())\n",
    "#monthz = strftime(\"%m\", gmtime())\n",
    "#dayz = strftime(\"%d\", gmtime())\n"
   ]
  },
  {
   "cell_type": "code",
   "execution_count": 309,
   "metadata": {
    "collapsed": false
   },
   "outputs": [
    {
     "data": {
      "text/plain": [
       "'2015'"
      ]
     },
     "execution_count": 309,
     "metadata": {},
     "output_type": "execute_result"
    }
   ],
   "source": [
    "yrmt"
   ]
  },
  {
   "cell_type": "code",
   "execution_count": 310,
   "metadata": {
    "collapsed": false
   },
   "outputs": [
    {
     "data": {
      "text/plain": [
       "'02'"
      ]
     },
     "execution_count": 310,
     "metadata": {},
     "output_type": "execute_result"
    }
   ],
   "source": [
    "mthza"
   ]
  },
  {
   "cell_type": "code",
   "execution_count": 311,
   "metadata": {
    "collapsed": false
   },
   "outputs": [
    {
     "data": {
      "text/plain": [
       "'12'"
      ]
     },
     "execution_count": 311,
     "metadata": {},
     "output_type": "execute_result"
    }
   ],
   "source": [
    "dthaq"
   ]
  },
  {
   "cell_type": "code",
   "execution_count": 312,
   "metadata": {
    "collapsed": false
   },
   "outputs": [
    {
     "ename": "SyntaxError",
     "evalue": "invalid syntax (<ipython-input-312-9105a6f925d3>, line 2)",
     "output_type": "error",
     "traceback": [
      "\u001b[1;36m  File \u001b[1;32m\"<ipython-input-312-9105a6f925d3>\"\u001b[1;36m, line \u001b[1;32m2\u001b[0m\n\u001b[1;33m    = str(yrmt) + str(mthza) + str(dthaq)\u001b[0m\n\u001b[1;37m    ^\u001b[0m\n\u001b[1;31mSyntaxError\u001b[0m\u001b[1;31m:\u001b[0m invalid syntax\n"
     ]
    }
   ],
   "source": [
    "\n",
    "= str(yrmt) + str(mthza) + str(dthaq)"
   ]
  },
  {
   "cell_type": "code",
   "execution_count": 354,
   "metadata": {
    "collapsed": false
   },
   "outputs": [],
   "source": [
    "def returndate():\n",
    "    return (dthaq + '-' + mthza + '-' + yrmt)\n",
    "\n",
    "def returntime():\n",
    "    return gmtz.strftime('%H:%M:%S')\n",
    "\n",
    "puser = getpass.getuser()\n",
    "\n",
    "yrnum = gmtz.strftime(\"%Y\")\n",
    "mnthnum = gmtz.strftime(\"%m\")\n",
    "dayzum = gmtz.strftime(\"%d\")\n",
    "\n",
    "signpath = ('/home/' + puser + '/signinlca')\n",
    "yrpath = (signpath + '/' + yrnum)\n",
    "mnthpath = (yrpath + '/' + mnthnum)\n",
    "dayzpath = (mnthpath + '/' + dayzum)\n"
   ]
  },
  {
   "cell_type": "code",
   "execution_count": 355,
   "metadata": {
    "collapsed": false
   },
   "outputs": [
    {
     "name": "stdout",
     "output_type": "stream",
     "text": [
      "Path is there\n"
     ]
    }
   ],
   "source": [
    "if os.path.isdir(signpath) == True:\n",
    "    print 'Path is there'\n",
    "else:\n",
    "    print 'Path not there'\n",
    "    os.mkdir(signpath)"
   ]
  },
  {
   "cell_type": "code",
   "execution_count": 356,
   "metadata": {
    "collapsed": false
   },
   "outputs": [
    {
     "name": "stdout",
     "output_type": "stream",
     "text": [
      "Year Path is there\n",
      "Month Path not there\n",
      "Day Path not there\n"
     ]
    }
   ],
   "source": [
    "if os.path.isdir(yrpath) == True:\n",
    "    print 'Year Path is there'\n",
    "else:\n",
    "    print 'Year Path not there'\n",
    "    os.mkdir(yrpath)\n",
    "    \n",
    "if os.path.isdir(mnthpath) == True:\n",
    "    print 'Month Path is there'\n",
    "else:\n",
    "    print 'Month Path not there'\n",
    "    os.mkdir(mnthpath)\n",
    "    \n",
    "if os.path.isdir(dayzpath) == True:\n",
    "    print 'Day Path is there'\n",
    "else:\n",
    "    print 'Day Path not there'\n",
    "    os.mkdir(dayzpath)"
   ]
  },
  {
   "cell_type": "code",
   "execution_count": 357,
   "metadata": {
    "collapsed": false
   },
   "outputs": [
    {
     "data": {
      "text/plain": [
       "'/home/wcmckee/signinlca/2015/02/12'"
      ]
     },
     "execution_count": 357,
     "metadata": {},
     "output_type": "execute_result"
    }
   ],
   "source": [
    "dayzpath"
   ]
  },
  {
   "cell_type": "code",
   "execution_count": 358,
   "metadata": {
    "collapsed": true
   },
   "outputs": [],
   "source": [
    "os.chdir(dayzpath)"
   ]
  },
  {
   "cell_type": "markdown",
   "metadata": {},
   "source": [
    "Make new account, use existing account. \n",
    "\n",
    "Database of existing accounts... static page of files.\n",
    "\n",
    "Add password to account \n",
    "\n",
    "If you signin, doesn't ask if want to sign out.\n",
    "\n",
    "If you signout, doesn't ask if you want to sign in.\n",
    "\n",
    "Hash passwords"
   ]
  },
  {
   "cell_type": "markdown",
   "metadata": {},
   "source": [
    "When creating account asked for username (which could be firstname + lastname), and password. Passwords are hashed and when user tries to login the password inputed is compared to the hashed password. \n",
    "\n",
    "Save that hash as a varible that is then complared with the saved hash password."
   ]
  },
  {
   "cell_type": "code",
   "execution_count": 358,
   "metadata": {
    "collapsed": true
   },
   "outputs": [],
   "source": []
  },
  {
   "cell_type": "code",
   "execution_count": 359,
   "metadata": {
    "collapsed": true
   },
   "outputs": [],
   "source": [
    "from IPython.lib import passwd "
   ]
  },
  {
   "cell_type": "code",
   "execution_count": 361,
   "metadata": {
    "collapsed": false
   },
   "outputs": [
    {
     "name": "stdout",
     "output_type": "stream",
     "text": [
      "signup y/n y\n",
      "Welcome to signup!\n"
     ]
    }
   ],
   "source": [
    "signup = raw_input('signup y/n ')\n",
    "if 'y' in signup:\n",
    "    print('Welcome to signup!')"
   ]
  },
  {
   "cell_type": "code",
   "execution_count": 362,
   "metadata": {
    "collapsed": false
   },
   "outputs": [
    {
     "name": "stdout",
     "output_type": "stream",
     "text": [
      "firstname: helen\n",
      "last name: mcas\n",
      "username: wcm\n",
      "Enter password: ········\n",
      "Verify password: ········\n"
     ]
    }
   ],
   "source": [
    "if 'y' in signup:\n",
    "    firnam = raw_input('firstname: ')\n",
    "    lasnam = raw_input('last name: ')\n",
    "    usenam = raw_input('username: ')\n",
    "    passworz = passwd()"
   ]
  },
  {
   "cell_type": "code",
   "execution_count": 363,
   "metadata": {
    "collapsed": false
   },
   "outputs": [],
   "source": [
    "decri = hashlib.sha512(firnam + lasnam)"
   ]
  },
  {
   "cell_type": "code",
   "execution_count": 364,
   "metadata": {
    "collapsed": false
   },
   "outputs": [],
   "source": [
    "#decri.update('testing')"
   ]
  },
  {
   "cell_type": "code",
   "execution_count": 364,
   "metadata": {
    "collapsed": false
   },
   "outputs": [],
   "source": []
  },
  {
   "cell_type": "code",
   "execution_count": 365,
   "metadata": {
    "collapsed": false
   },
   "outputs": [
    {
     "name": "stdout",
     "output_type": "stream",
     "text": [
      "signin? y/ny\n",
      "firstname: helen\n",
      "lastname: wcas\n",
      "username: wcm\n",
      "Enter password: ········\n",
      "Verify password: ········\n"
     ]
    }
   ],
   "source": [
    "signin = raw_input('signin? y/n')\n",
    "\n",
    "if 'y' in signin:\n",
    "    uzname = raw_input('firstname: ')\n",
    "    lzname = raw_input('lastname: ')\n",
    "    uzernam = raw_input('username: ')\n",
    "    passwaz = passwd()"
   ]
  },
  {
   "cell_type": "code",
   "execution_count": 366,
   "metadata": {
    "collapsed": false
   },
   "outputs": [
    {
     "data": {
      "text/plain": [
       "'sha1:f687ce2232a3:ea3a2ead8b0463de11eb60014a6379e1185c50aa'"
      ]
     },
     "execution_count": 366,
     "metadata": {},
     "output_type": "execute_result"
    }
   ],
   "source": [
    "passwaz"
   ]
  },
  {
   "cell_type": "code",
   "execution_count": 367,
   "metadata": {
    "collapsed": false
   },
   "outputs": [
    {
     "data": {
      "text/plain": [
       "'sha1:e078d7f5a91d:908ca0f7f5a8eb31e6345dbf50b88af36282a047'"
      ]
     },
     "execution_count": 367,
     "metadata": {},
     "output_type": "execute_result"
    }
   ],
   "source": [
    "passworz"
   ]
  },
  {
   "cell_type": "code",
   "execution_count": 368,
   "metadata": {
    "collapsed": false
   },
   "outputs": [
    {
     "data": {
      "text/plain": [
       "'helen'"
      ]
     },
     "execution_count": 368,
     "metadata": {},
     "output_type": "execute_result"
    }
   ],
   "source": [
    "firnam"
   ]
  },
  {
   "cell_type": "code",
   "execution_count": 369,
   "metadata": {
    "collapsed": false
   },
   "outputs": [
    {
     "data": {
      "text/plain": [
       "'helen'"
      ]
     },
     "execution_count": 369,
     "metadata": {},
     "output_type": "execute_result"
    }
   ],
   "source": [
    "uzname"
   ]
  },
  {
   "cell_type": "code",
   "execution_count": 370,
   "metadata": {
    "collapsed": false
   },
   "outputs": [
    {
     "name": "stdout",
     "output_type": "stream",
     "text": [
      "testing: test123\n"
     ]
    }
   ],
   "source": [
    "rers = hashlib.sha512(raw_input('testing: '))"
   ]
  },
  {
   "cell_type": "code",
   "execution_count": 371,
   "metadata": {
    "collapsed": false
   },
   "outputs": [
    {
     "data": {
      "text/plain": [
       "'114cbc6562329fd2caa3d2e2649c8bbf1f937bbbb2a6af17001950f8d3ec6b0612c7b2772971cab630c4bbd21663338d1208b13f49522ec933d7635e915ea95b'"
      ]
     },
     "execution_count": 371,
     "metadata": {},
     "output_type": "execute_result"
    }
   ],
   "source": [
    "decri.hexdigest()"
   ]
  },
  {
   "cell_type": "code",
   "execution_count": 372,
   "metadata": {
    "collapsed": false
   },
   "outputs": [],
   "source": [
    "terbo = hashlib.sha1(usenam)"
   ]
  },
  {
   "cell_type": "code",
   "execution_count": 372,
   "metadata": {
    "collapsed": true
   },
   "outputs": [],
   "source": []
  },
  {
   "cell_type": "code",
   "execution_count": 373,
   "metadata": {
    "collapsed": false
   },
   "outputs": [
    {
     "data": {
      "text/plain": [
       "'wcm'"
      ]
     },
     "execution_count": 373,
     "metadata": {},
     "output_type": "execute_result"
    }
   ],
   "source": [
    "usenam"
   ]
  },
  {
   "cell_type": "code",
   "execution_count": 374,
   "metadata": {
    "collapsed": false
   },
   "outputs": [],
   "source": [
    "daetim = hashlib.sha1(rers.hexdigest())"
   ]
  },
  {
   "cell_type": "code",
   "execution_count": 375,
   "metadata": {
    "collapsed": false
   },
   "outputs": [
    {
     "data": {
      "text/plain": [
       "'74357e6b29850a18dac30cff315c66965081c1eb'"
      ]
     },
     "execution_count": 375,
     "metadata": {},
     "output_type": "execute_result"
    }
   ],
   "source": [
    "terbo.hexdigest()"
   ]
  },
  {
   "cell_type": "code",
   "execution_count": 376,
   "metadata": {
    "collapsed": false
   },
   "outputs": [
    {
     "data": {
      "text/plain": [
       "'helen'"
      ]
     },
     "execution_count": 376,
     "metadata": {},
     "output_type": "execute_result"
    }
   ],
   "source": [
    "firnam"
   ]
  },
  {
   "cell_type": "code",
   "execution_count": 377,
   "metadata": {
    "collapsed": false
   },
   "outputs": [],
   "source": [
    "faetim = hashlib.sha1(firnam)"
   ]
  },
  {
   "cell_type": "code",
   "execution_count": 378,
   "metadata": {
    "collapsed": false
   },
   "outputs": [
    {
     "data": {
      "text/plain": [
       "'95d2847f2c702d42e287526ae9b60fbdb34f1b4f'"
      ]
     },
     "execution_count": 378,
     "metadata": {},
     "output_type": "execute_result"
    }
   ],
   "source": [
    "daetim.hexdigest()"
   ]
  },
  {
   "cell_type": "code",
   "execution_count": 379,
   "metadata": {
    "collapsed": false
   },
   "outputs": [
    {
     "data": {
      "text/plain": [
       "'6469cae2f553d304b9fdfc5c08fe688f83a0ed79'"
      ]
     },
     "execution_count": 379,
     "metadata": {},
     "output_type": "execute_result"
    }
   ],
   "source": [
    "faetim.hexdigest()"
   ]
  },
  {
   "cell_type": "code",
   "execution_count": 380,
   "metadata": {
    "collapsed": false
   },
   "outputs": [
    {
     "name": "stdout",
     "output_type": "stream",
     "text": [
      "they are not the same\n"
     ]
    }
   ],
   "source": [
    "if daetim.hexdigest == terbo.hexdigest:\n",
    "    print 'They are the same'\n",
    "else:\n",
    "    print 'they are not the same'"
   ]
  },
  {
   "cell_type": "code",
   "execution_count": 384,
   "metadata": {
    "collapsed": false
   },
   "outputs": [
    {
     "data": {
      "text/plain": [
       "'d41d8cd98f00b204e9800998ecf8427e'"
      ]
     },
     "execution_count": 384,
     "metadata": {},
     "output_type": "execute_result"
    }
   ],
   "source": [
    "m.hexdigest()"
   ]
  },
  {
   "cell_type": "markdown",
   "metadata": {},
   "source": [
    "I have their signin data. Now what to do with it? Save it as a json object to be then used when they signin later? \n",
    "\n",
    "More security on it? Hash their usernames, firstnames, 2nd password?"
   ]
  },
  {
   "cell_type": "code",
   "execution_count": 385,
   "metadata": {
    "collapsed": false
   },
   "outputs": [
    {
     "data": {
      "text/plain": [
       "'sha1:e078d7f5a91d:908ca0f7f5a8eb31e6345dbf50b88af36282a047'"
      ]
     },
     "execution_count": 385,
     "metadata": {},
     "output_type": "execute_result"
    }
   ],
   "source": [
    "passworz"
   ]
  },
  {
   "cell_type": "code",
   "execution_count": 386,
   "metadata": {
    "collapsed": false
   },
   "outputs": [
    {
     "name": "stdout",
     "output_type": "stream",
     "text": [
      "signin y/n y\n",
      "You signed in\n"
     ]
    }
   ],
   "source": [
    "loginz = raw_input('signin y/n ')\n",
    "if 'y' in loginz:\n",
    "    print('You signed in')\n",
    "    #logoutz = None\n",
    "else:\n",
    "    logoutz = raw_input('signouts y/n ')"
   ]
  },
  {
   "cell_type": "code",
   "execution_count": 387,
   "metadata": {
    "collapsed": false
   },
   "outputs": [
    {
     "name": "stdout",
     "output_type": "stream",
     "text": [
      "first name: helen\n",
      "last name: testing\n",
      "tshirt size: S\n",
      "coffee volc: 3\n",
      "comments: boring day\n"
     ]
    }
   ],
   "source": [
    "if 'y' in loginz:\n",
    "    firnam = raw_input('first name: ')\n",
    "    lasnam = raw_input('last name: ')\n",
    "    tshir = raw_input('tshirt size: ')\n",
    "    cofvol = raw_input('coffee volc: ')\n",
    "    comen = raw_input('comments: ')\n",
    "    betdict = dict()\n",
    "    betdict.update({'first-name' : firnam})\n",
    "    betdict.update({'last-name' : lasnam})\n",
    "    betdict.update({'signin-date' : returndate()})\n",
    "    betdict.update({'signin-hrmin' : returntime()})\n",
    "    betdict.update({'tshirt-size' : tshir})\n",
    "    betdict.update({'coffees' : int(cofvol)})\n",
    "    betdict.update({'comments:' : comen})\n",
    "    convj = json.dumps(betdict)\n",
    "    puser = getpass.getuser()\n",
    "    opday = open((dayzpath + '/' + firnam + lasnam) + '.json', 'w')\n",
    "    opday.write(str(convj))\n",
    "    opday.close()\n",
    "else:\n",
    "    print ('not signing in')\n"
   ]
  },
  {
   "cell_type": "code",
   "execution_count": 388,
   "metadata": {
    "collapsed": false
   },
   "outputs": [
    {
     "ename": "TypeError",
     "evalue": "argument of type 'NoneType' is not iterable",
     "output_type": "error",
     "traceback": [
      "\u001b[1;31m---------------------------------------------------------------------------\u001b[0m",
      "\u001b[1;31mTypeError\u001b[0m                                 Traceback (most recent call last)",
      "\u001b[1;32m<ipython-input-388-427a1c2429f6>\u001b[0m in \u001b[0;36m<module>\u001b[1;34m()\u001b[0m\n\u001b[1;32m----> 1\u001b[1;33m \u001b[1;32mif\u001b[0m \u001b[1;34m'y'\u001b[0m \u001b[1;32min\u001b[0m \u001b[0mlogoutz\u001b[0m\u001b[1;33m:\u001b[0m\u001b[1;33m\u001b[0m\u001b[0m\n\u001b[0m\u001b[0;32m      2\u001b[0m     \u001b[0mcomout\u001b[0m \u001b[1;33m=\u001b[0m \u001b[0mraw_input\u001b[0m\u001b[1;33m(\u001b[0m\u001b[1;34m'out comments: '\u001b[0m\u001b[1;33m)\u001b[0m\u001b[1;33m\u001b[0m\u001b[0m\n\u001b[0;32m      3\u001b[0m     \u001b[0moutdic\u001b[0m \u001b[1;33m=\u001b[0m \u001b[0mdict\u001b[0m\u001b[1;33m(\u001b[0m\u001b[1;33m)\u001b[0m\u001b[1;33m\u001b[0m\u001b[0m\n\u001b[0;32m      4\u001b[0m \u001b[1;33m\u001b[0m\u001b[0m\n\u001b[0;32m      5\u001b[0m     \u001b[0mfirnaz\u001b[0m \u001b[1;33m=\u001b[0m \u001b[0mraw_input\u001b[0m\u001b[1;33m(\u001b[0m\u001b[1;34m'first name: '\u001b[0m \u001b[1;33m)\u001b[0m\u001b[1;33m\u001b[0m\u001b[0m\n",
      "\u001b[1;31mTypeError\u001b[0m: argument of type 'NoneType' is not iterable"
     ]
    }
   ],
   "source": [
    "if 'y' in logoutz:\n",
    "    comout = raw_input('out comments: ')\n",
    "    outdic = dict()\n",
    "    \n",
    "    firnaz = raw_input('first name: ' )\n",
    "    lasnaz = raw_input('last name: ')\n",
    "    outdic.update({'signout-date': returndate()})\n",
    "    outdic.update({'signout-time': returntime()})\n",
    "    outdic.update({'signout-comment': comout})\n",
    "    conout = json.dumps(outdic)\n",
    "    signoutz = open((dayzpath + '/' + firnaz + lasnaz) + '.json', 'a')\n",
    "    signoutz.write(str(conout))\n",
    "    signoutz.close()\n",
    "else:\n",
    "    print ('not signing out')"
   ]
  },
  {
   "cell_type": "code",
   "execution_count": 400,
   "metadata": {
    "collapsed": false
   },
   "outputs": [
    {
     "data": {
      "text/plain": [
       "['helentesting.json']"
      ]
     },
     "execution_count": 400,
     "metadata": {},
     "output_type": "execute_result"
    }
   ],
   "source": [
    "os.listdir(dayzpath)"
   ]
  },
  {
   "cell_type": "code",
   "execution_count": 400,
   "metadata": {
    "collapsed": false
   },
   "outputs": [],
   "source": []
  },
  {
   "cell_type": "code",
   "execution_count": 437,
   "metadata": {
    "collapsed": true
   },
   "outputs": [],
   "source": [
    "from walkdir import filtered_walk, dir_paths, all_paths, file_paths\n",
    "\n",
    "files = file_paths(filtered_walk('/home/wcmckee/signinlca/', depth=100, included_files=['*.json']))"
   ]
  },
  {
   "cell_type": "code",
   "execution_count": 438,
   "metadata": {
    "collapsed": false
   },
   "outputs": [
    {
     "name": "stdout",
     "output_type": "stream",
     "text": [
      "helentesting\n",
      "/emaaqwre\n",
      "/williammckee\n",
      "/willmckee\n"
     ]
    }
   ],
   "source": [
    "for fie in files:\n",
    "    #print fie\n",
    "    print fie[35:-5]"
   ]
  },
  {
   "cell_type": "code",
   "execution_count": 348,
   "metadata": {
    "collapsed": true
   },
   "outputs": [],
   "source": []
  },
  {
   "cell_type": "code",
   "execution_count": null,
   "metadata": {
    "collapsed": true
   },
   "outputs": [],
   "source": []
  }
 ],
 "metadata": {
  "kernelspec": {
   "display_name": "Python 2",
   "name": "python2"
  },
  "language_info": {
   "codemirror_mode": {
    "name": "ipython",
    "version": 2
   },
   "file_extension": ".py",
   "mimetype": "text/x-python",
   "name": "python",
   "nbconvert_exporter": "python",
   "pygments_lexer": "ipython2",
   "version": "2.7.8"
  }
 },
 "nbformat": 4,
 "nbformat_minor": 0
}
