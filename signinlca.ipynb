{
 "cells": [
  {
   "cell_type": "markdown",
   "metadata": {},
   "source": [
    "signinlca\n",
    "\n",
    "script to signin for volunteers at lca2015\n",
    "\n",
    "test!\n",
    "\n",
    "The script asks for input of firstname, lastname, tshirt size, amount of coffee volc and comments. \n",
    "It creates a python dict with this data along with the current date and hour. \n",
    "It gets the username of user and saves the data in the users home dir under the folder signinlca. \n",
    "It saves the data as a json object.\n",
    "Currently saves the file as firstname + lastname. Could this be improved?\n",
    "\n",
    "\n",
    "TODO\n",
    "\n",
    "add option to choose to login or logout. Y/N option for each one. \n",
    "\n",
    "add logout script that appends to the login data. saves, time/date/comment. anything else?\n",
    "\n",
    "Asign to jobs/room?\n",
    "\n",
    "Graph up total hour worked in day/week\n",
    "\n",
    "scp/rsync data to server/web page.\n"
   ]
  },
  {
   "cell_type": "code",
   "execution_count": 71,
   "metadata": {
    "collapsed": false
   },
   "outputs": [],
   "source": [
    "import os\n",
    "import time\n",
    "import json\n",
    "import getpass"
   ]
  },
  {
   "cell_type": "code",
   "execution_count": 72,
   "metadata": {
    "collapsed": false
   },
   "outputs": [],
   "source": [
    "def returndate():\n",
    "    return time.strftime((\"%d\" + \"-\" + \"%b\" + \"-\" + \"%Y\"))\n",
    "\n",
    "def returntime():\n",
    "    return time.strftime(\"%H:%M:%S\")\n",
    "\n",
    "yrnum = time.strftime(\"%Y\")\n",
    "mnthnum = time.strftime(\"%b\")\n",
    "dayzum = time.strftime(\"%d\")\n",
    "\n",
    "signpath = ('/home/' + puser + '/signinlca')\n",
    "yrpath = (signpath + '/' + yrnum)\n",
    "mnthpath = (yrpath + '/' + mnthnum)\n",
    "dayzpath = (mnthpath + '/' + dayzum)\n"
   ]
  },
  {
   "cell_type": "code",
   "execution_count": 84,
   "metadata": {
    "collapsed": false
   },
   "outputs": [
    {
     "name": "stdout",
     "output_type": "stream",
     "text": [
      "Path is there\n"
     ]
    }
   ],
   "source": [
    "if os.path.isdir(signpath) == True:\n",
    "    print 'Path is there'\n",
    "else:\n",
    "    print 'Path not there'\n",
    "    os.mkdir(signpath)"
   ]
  },
  {
   "cell_type": "code",
   "execution_count": 85,
   "metadata": {
    "collapsed": false
   },
   "outputs": [
    {
     "name": "stdout",
     "output_type": "stream",
     "text": [
      "Year Path is there\n",
      "Month Path is there\n",
      "Day Path not there\n"
     ]
    }
   ],
   "source": [
    "if os.path.isdir(yrpath) == True:\n",
    "    print 'Year Path is there'\n",
    "else:\n",
    "    print 'Year Path not there'\n",
    "    os.mkdir(yrpath)\n",
    "    \n",
    "if os.path.isdir(mnthpath) == True:\n",
    "    print 'Month Path is there'\n",
    "else:\n",
    "    print 'Month Path not there'\n",
    "    os.mkdir(mnthpath)\n",
    "    \n",
    "if os.path.isdir(dayzpath) == True:\n",
    "    print 'Day Path is there'\n",
    "else:\n",
    "    print 'Day Path not there'\n",
    "    os.mkdir(dayzpath)"
   ]
  },
  {
   "cell_type": "code",
   "execution_count": 73,
   "metadata": {
    "collapsed": false
   },
   "outputs": [
    {
     "name": "stdout",
     "output_type": "stream",
     "text": [
      "first name: william\n",
      "last name: mckee\n",
      "tshirt size: L\n",
      "coffee volc: 4\n",
      "comments: today was fun\n"
     ]
    }
   ],
   "source": [
    "firnam = raw_input('first name: ')\n",
    "lasnam = raw_input('last name: ')\n",
    "tshir = raw_input('tshirt size: ')\n",
    "cofvol = raw_input('coffee volc: ')\n",
    "comen = raw_input('comments: ')\n",
    "betdict = dict()\n",
    "betdict.update({'first-name' : firnam})\n",
    "betdict.update({'last-name' : lasnam})\n",
    "betdict.update({'signin-date' : returndate()})\n",
    "betdict.update({'signin-hrmin' : returntime()})\n",
    "betdict.update({'tshirt-size' : tshir})\n",
    "betdict.update({'coffees' : int(cofvol)})\n",
    "betdict.update({'comments:' : comen})\n",
    "convj = json.dumps(betdict)\n",
    "puser = getpass.getuser()\n",
    "os.chdir(dayzpath)\n",
    "opday = open((firnam + lasnam) + '.json', 'w')\n",
    "opday.write(str(convj))\n",
    "opday.close()"
   ]
  },
  {
   "cell_type": "code",
   "execution_count": 93,
   "metadata": {
    "collapsed": false
   },
   "outputs": [
    {
     "name": "stdout",
     "output_type": "stream",
     "text": [
      "out comments: dump\n"
     ]
    }
   ],
   "source": [
    "signoutz = open((firnam + lasnam) + '.json', 'w')\n",
    "\n",
    "comout = raw_input('out comments: ')\n",
    "outdic = dict()\n",
    "outdic.update({'signout-date': returndate})\n",
    "outdic.update({'signout-time': returntime})\n",
    "outdic.update({'signout-comment': comout})\n"
   ]
  },
  {
   "cell_type": "markdown",
   "metadata": {
    "collapsed": false
   },
   "source": [
    "Current path is wcmckee@localhost:~/signinlca/18/Jan/2015$\n",
    "This is backwards and should be ~/signinlca/2015/Jan/18.\n",
    "\n",
    "make path /home/user/signinlca/2015 (year)\n",
    "\n",
    "make path /home/user/signinlca/Jan (month)\n",
    "\n",
    "make path /home/user/signinlca/18 (day)"
   ]
  },
  {
   "cell_type": "code",
   "execution_count": 80,
   "metadata": {
    "collapsed": false
   },
   "outputs": [
    {
     "data": {
      "text/plain": [
       "'Jan'"
      ]
     },
     "execution_count": 80,
     "metadata": {},
     "output_type": "execute_result"
    }
   ],
   "source": [
    "time.strftime(\"%Y\") #This is the year\n",
    "\n",
    "time.strftime(\"%d\") #This is the day\n",
    "\n",
    "time.strftime(\"%b\") #This is the month"
   ]
  },
  {
   "cell_type": "code",
   "execution_count": 92,
   "metadata": {
    "collapsed": false
   },
   "outputs": [
    {
     "name": "stdout",
     "output_type": "stream",
     "text": [
      "out comments: dumb\n"
     ]
    }
   ],
   "source": [
    "signoutz = open((firnam + lasnam) + '.json', 'w')\n",
    "\n",
    "comout = raw_input('out comments: ')\n",
    "outdic = dict()\n"
   ]
  },
  {
   "cell_type": "code",
   "execution_count": 90,
   "metadata": {
    "collapsed": true
   },
   "outputs": [],
   "source": [
    "outdic.update({'signout-date': returndate})\n",
    "outdic.update({'signout-time': returntime})\n"
   ]
  },
  {
   "cell_type": "code",
   "execution_count": null,
   "metadata": {
    "collapsed": true
   },
   "outputs": [],
   "source": []
  },
  {
   "cell_type": "code",
   "execution_count": null,
   "metadata": {
    "collapsed": true
   },
   "outputs": [],
   "source": []
  }
 ],
 "metadata": {
  "kernelspec": {
   "display_name": "Python 2",
   "name": "python2"
  },
  "language_info": {
   "codemirror_mode": {
    "name": "ipython",
    "version": 2
   },
   "file_extension": ".py",
   "mimetype": "text/x-python",
   "name": "python",
   "nbconvert_exporter": "python",
   "pygments_lexer": "ipython2",
   "version": "2.7.6"
  }
 },
 "nbformat": 4,
 "nbformat_minor": 0
}