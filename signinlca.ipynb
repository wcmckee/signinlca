{
 "cells": [
  {
   "cell_type": "markdown",
   "metadata": {},
   "source": [
    "signinlca\n",
    "\n",
    "script to signin for volunteers at lca2015\n",
    "\n",
    "test!"
   ]
  },
  {
   "cell_type": "code",
   "execution_count": 29,
   "metadata": {
    "collapsed": false
   },
   "outputs": [],
   "source": [
    "import os\n",
    "import time\n",
    "import json\n",
    "import getpass"
   ]
  },
  {
   "cell_type": "code",
   "execution_count": 30,
   "metadata": {
    "collapsed": false
   },
   "outputs": [],
   "source": [
    "def returndate():\n",
    "    return time.strftime((\"%d\" + \"-\" + \"%b\" + \"-\" + \"%Y\"))\n",
    "\n",
    "def returntime():\n",
    "    return time.strftime(\"%H:%M:%S\")"
   ]
  },
  {
   "cell_type": "code",
   "execution_count": 31,
   "metadata": {
    "collapsed": false
   },
   "outputs": [
    {
     "name": "stdout",
     "output_type": "stream",
     "text": [
      "first name: william\n",
      "last name: mckee\n",
      "tshirt size: L\n",
      "coffee volc: 4\n",
      "comments: todays i am tired\n"
     ]
    }
   ],
   "source": [
    "firnam = raw_input('first name: ')\n",
    "lasnam = raw_input('last name: ')\n",
    "tshir = raw_input('tshirt size: ')\n",
    "cofvol = raw_input('coffee volc: ')\n",
    "comen = raw_input('comments: ')"
   ]
  },
  {
   "cell_type": "code",
   "execution_count": 32,
   "metadata": {
    "collapsed": false
   },
   "outputs": [],
   "source": [
    "betdict = dict()"
   ]
  },
  {
   "cell_type": "code",
   "execution_count": 33,
   "metadata": {
    "collapsed": false
   },
   "outputs": [],
   "source": [
    "betdict.update({'first-name' : firnam})\n",
    "betdict.update({'last-name' : lasnam})\n",
    "betdict.update({'signin-date' : returndate()})\n",
    "betdict.update({'signin-hrmin' : returntime()})\n",
    "betdict.update({'tshirt-size' : tshir})\n",
    "betdict.update({'coffees' : int(cofvol)})\n",
    "betdict.update({'comments:' : comen})"
   ]
  },
  {
   "cell_type": "code",
   "execution_count": 34,
   "metadata": {
    "collapsed": false
   },
   "outputs": [
    {
     "data": {
      "text/plain": [
       "{'coffees': 4,\n",
       " 'comments:': 'todays i am tired',\n",
       " 'first-name': 'william',\n",
       " 'last-name': 'mckee',\n",
       " 'signin-date': '18-Jan-2015',\n",
       " 'signin-hrmin': '13:27:42',\n",
       " 'tshirt-size': 'L'}"
      ]
     },
     "execution_count": 34,
     "metadata": {},
     "output_type": "execute_result"
    }
   ],
   "source": [
    "betdict"
   ]
  },
  {
   "cell_type": "code",
   "execution_count": 35,
   "metadata": {
    "collapsed": false
   },
   "outputs": [],
   "source": [
    "convj = json.dumps(betdict)"
   ]
  },
  {
   "cell_type": "code",
   "execution_count": 36,
   "metadata": {
    "collapsed": false
   },
   "outputs": [
    {
     "data": {
      "text/plain": [
       "'{\"signin-date\": \"18-Jan-2015\", \"comments:\": \"todays i am tired\", \"last-name\": \"mckee\", \"signin-hrmin\": \"13:27:42\", \"coffees\": 4, \"first-name\": \"william\", \"tshirt-size\": \"L\"}'"
      ]
     },
     "execution_count": 36,
     "metadata": {},
     "output_type": "execute_result"
    }
   ],
   "source": [
    "convj"
   ]
  },
  {
   "cell_type": "code",
   "execution_count": 37,
   "metadata": {
    "collapsed": false
   },
   "outputs": [],
   "source": [
    "puser = getpass.getuser()"
   ]
  },
  {
   "cell_type": "markdown",
   "metadata": {
    "collapsed": false
   },
   "source": [
    "Current path is wcmckee@localhost:~/signinlca/18/Jan/2015$\n",
    "This is backwards and should be ~/signinlca/2015/Jan/18.\n",
    "\n",
    "make path /home/user/signinlca/2015 (year)\n",
    "\n",
    "make path /home/user/signinlca/Jan (month)\n",
    "\n",
    "make path /home/user/signinlca/18 (day)"
   ]
  },
  {
   "cell_type": "code",
   "execution_count": 38,
   "metadata": {
    "collapsed": false
   },
   "outputs": [
    {
     "data": {
      "text/plain": [
       "'Jan'"
      ]
     },
     "execution_count": 38,
     "metadata": {},
     "output_type": "execute_result"
    }
   ],
   "source": [
    "time.strftime(\"%Y\") #This is the year\n",
    "\n",
    "time.strftime(\"%d\") #This is the day\n",
    "\n",
    "time.strftime(\"%b\") #This is the month"
   ]
  },
  {
   "cell_type": "code",
   "execution_count": 39,
   "metadata": {
    "collapsed": false
   },
   "outputs": [],
   "source": [
    "yrnum = time.strftime(\"%Y\")\n",
    "mnthnum = time.strftime(\"%b\")\n",
    "dayzum = time.strftime(\"%d\")"
   ]
  },
  {
   "cell_type": "code",
   "execution_count": 40,
   "metadata": {
    "collapsed": false
   },
   "outputs": [],
   "source": [
    "signpath = ('/home/' + puser + '/signinlca')\n",
    "yrpath = (signpath + '/' + yrnum)\n",
    "mnthpath = (yrpath + '/' + mnthnum)\n",
    "dayzpath = (mnthpath + '/' + dayzum)\n"
   ]
  },
  {
   "cell_type": "code",
   "execution_count": 41,
   "metadata": {
    "collapsed": false
   },
   "outputs": [
    {
     "data": {
      "text/plain": [
       "'/home/wcmckee/signinlca/2015'"
      ]
     },
     "execution_count": 41,
     "metadata": {},
     "output_type": "execute_result"
    }
   ],
   "source": [
    "yrpath"
   ]
  },
  {
   "cell_type": "code",
   "execution_count": 42,
   "metadata": {
    "collapsed": false
   },
   "outputs": [
    {
     "name": "stdout",
     "output_type": "stream",
     "text": [
      "Path not there\n"
     ]
    }
   ],
   "source": [
    "if os.path.isdir(signpath) == True:\n",
    "    print 'Path is there'\n",
    "else:\n",
    "    print 'Path not there'\n",
    "    os.mkdir(signpath)"
   ]
  },
  {
   "cell_type": "code",
   "execution_count": 43,
   "metadata": {
    "collapsed": false
   },
   "outputs": [
    {
     "name": "stdout",
     "output_type": "stream",
     "text": [
      "Year Path not there\n",
      "Month Path not there\n",
      "Day Path not there\n"
     ]
    }
   ],
   "source": [
    "if os.path.isdir(yrpath) == True:\n",
    "    print 'Year Path is there'\n",
    "else:\n",
    "    print 'Year Path not there'\n",
    "    os.mkdir(yrpath)\n",
    "    \n",
    "if os.path.isdir(mnthpath) == True:\n",
    "    print 'Month Path is there'\n",
    "else:\n",
    "    print 'Month Path not there'\n",
    "    os.mkdir(mnthpath)\n",
    "    \n",
    "if os.path.isdir(dayzpath) == True:\n",
    "    print 'Day Path is there'\n",
    "else:\n",
    "    print 'Day Path not there'\n",
    "    os.mkdir(dayzpath)"
   ]
  },
  {
   "cell_type": "code",
   "execution_count": 43,
   "metadata": {
    "collapsed": true
   },
   "outputs": [],
   "source": []
  },
  {
   "cell_type": "code",
   "execution_count": 44,
   "metadata": {
    "collapsed": false
   },
   "outputs": [],
   "source": [
    "os.chdir(dayzpath)"
   ]
  },
  {
   "cell_type": "code",
   "execution_count": 45,
   "metadata": {
    "collapsed": false
   },
   "outputs": [],
   "source": [
    "opday = open((firnam + lasnam) + '.json', 'w')"
   ]
  },
  {
   "cell_type": "code",
   "execution_count": 48,
   "metadata": {
    "collapsed": false
   },
   "outputs": [],
   "source": [
    "opday.write(str(convj))\n",
    "opday.close()"
   ]
  },
  {
   "cell_type": "code",
   "execution_count": 49,
   "metadata": {
    "collapsed": false
   },
   "outputs": [
    {
     "data": {
      "text/plain": [
       "'{\"signin-date\": \"18-Jan-2015\", \"comments:\": \"todays i am tired\", \"last-name\": \"mckee\", \"signin-hrmin\": \"13:27:42\", \"coffees\": 4, \"first-name\": \"william\", \"tshirt-size\": \"L\"}'"
      ]
     },
     "execution_count": 49,
     "metadata": {},
     "output_type": "execute_result"
    }
   ],
   "source": [
    "convj"
   ]
  },
  {
   "cell_type": "code",
   "execution_count": 47,
   "metadata": {
    "collapsed": false
   },
   "outputs": [],
   "source": []
  },
  {
   "cell_type": "code",
   "execution_count": 47,
   "metadata": {
    "collapsed": true
   },
   "outputs": [],
   "source": []
  },
  {
   "cell_type": "code",
   "execution_count": null,
   "metadata": {
    "collapsed": true
   },
   "outputs": [],
   "source": []
  },
  {
   "cell_type": "code",
   "execution_count": null,
   "metadata": {
    "collapsed": true
   },
   "outputs": [],
   "source": []
  }
 ],
 "metadata": {
  "kernelspec": {
   "display_name": "Python 2",
   "name": "python2"
  },
  "language_info": {
   "codemirror_mode": {
    "name": "ipython",
    "version": 2
   },
   "file_extension": ".py",
   "mimetype": "text/x-python",
   "name": "python",
   "nbconvert_exporter": "python",
   "pygments_lexer": "ipython2",
   "version": "2.7.6"
  }
 },
 "nbformat": 4,
 "nbformat_minor": 0
}