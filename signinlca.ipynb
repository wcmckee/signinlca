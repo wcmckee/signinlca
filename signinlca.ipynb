{
 "cells": [
  {
   "cell_type": "markdown",
   "metadata": {},
   "source": [
    "signinlca\n",
    "\n",
    "script to signin for volunteers at lca2015\n",
    "\n",
    "test!\n",
    "\n",
    "The script asks for input of firstname, lastname, tshirt size, amount of coffee volc and comments. \n",
    "It creates a python dict with this data along with the current date and hour. \n",
    "It gets the username of user and saves the data in the users home dir under the folder signinlca. \n",
    "It saves the data as a json object.\n",
    "Currently saves the file as firstname + lastname. Could this be improved?\n",
    "\n",
    "\n",
    "TODO\n",
    "\n",
    "add option to choose to login or logout. Y/N option for each one. \n",
    "\n",
    "add logout script that appends to the login data. saves, time/date/comment. anything else?\n",
    "\n",
    "Asign to jobs/room?\n",
    "\n",
    "Graph up total hour worked in day/week\n",
    "\n",
    "scp/rsync data to server/web page.\n"
   ]
  },
  {
   "cell_type": "code",
   "execution_count": 17,
   "metadata": {
    "collapsed": false
   },
   "outputs": [],
   "source": [
    "import os\n",
    "#import time\n",
    "import json\n",
    "import getpass\n",
    "import arrow"
   ]
  },
  {
   "cell_type": "code",
   "execution_count": 18,
   "metadata": {
    "collapsed": true
   },
   "outputs": [],
   "source": [
    "gmtz = arrow.utcnow()"
   ]
  },
  {
   "cell_type": "code",
   "execution_count": 18,
   "metadata": {
    "collapsed": true
   },
   "outputs": [],
   "source": []
  },
  {
   "cell_type": "code",
   "execution_count": 19,
   "metadata": {
    "collapsed": false
   },
   "outputs": [],
   "source": [
    "def returndate():\n",
    "    return gmtz.strftime('%d' + '-' + '%b' + '-' + '%Y')\n",
    "\n",
    "def returntime():\n",
    "    return gmtz.strftime('%H:%M:%S')\n",
    "\n",
    "puser = getpass.getuser()\n",
    "\n",
    "yrnum = gmtz.strftime(\"%Y\")\n",
    "mnthnum = gmtz.strftime(\"%b\")\n",
    "dayzum = gmtz.strftime(\"%d\")\n",
    "\n",
    "signpath = ('/home/' + puser + '/signinlca')\n",
    "yrpath = (signpath + '/' + yrnum)\n",
    "mnthpath = (yrpath + '/' + mnthnum)\n",
    "dayzpath = (mnthpath + '/' + dayzum)\n"
   ]
  },
  {
   "cell_type": "code",
   "execution_count": 20,
   "metadata": {
    "collapsed": false
   },
   "outputs": [
    {
     "name": "stdout",
     "output_type": "stream",
     "text": [
      "Path is there\n"
     ]
    }
   ],
   "source": [
    "if os.path.isdir(signpath) == True:\n",
    "    print 'Path is there'\n",
    "else:\n",
    "    print 'Path not there'\n",
    "    os.mkdir(signpath)"
   ]
  },
  {
   "cell_type": "code",
   "execution_count": 21,
   "metadata": {
    "collapsed": false
   },
   "outputs": [
    {
     "name": "stdout",
     "output_type": "stream",
     "text": [
      "Year Path is there\n",
      "Month Path is there\n",
      "Day Path is there\n"
     ]
    }
   ],
   "source": [
    "if os.path.isdir(yrpath) == True:\n",
    "    print 'Year Path is there'\n",
    "else:\n",
    "    print 'Year Path not there'\n",
    "    os.mkdir(yrpath)\n",
    "    \n",
    "if os.path.isdir(mnthpath) == True:\n",
    "    print 'Month Path is there'\n",
    "else:\n",
    "    print 'Month Path not there'\n",
    "    os.mkdir(mnthpath)\n",
    "    \n",
    "if os.path.isdir(dayzpath) == True:\n",
    "    print 'Day Path is there'\n",
    "else:\n",
    "    print 'Day Path not there'\n",
    "    os.mkdir(dayzpath)"
   ]
  },
  {
   "cell_type": "code",
   "execution_count": 22,
   "metadata": {
    "collapsed": false
   },
   "outputs": [
    {
     "data": {
      "text/plain": [
       "'/home/wcmckee/signinlca/2015/Feb/07'"
      ]
     },
     "execution_count": 22,
     "metadata": {},
     "output_type": "execute_result"
    }
   ],
   "source": [
    "dayzpath"
   ]
  },
  {
   "cell_type": "code",
   "execution_count": 23,
   "metadata": {
    "collapsed": true
   },
   "outputs": [],
   "source": [
    "os.chdir(dayzpath)"
   ]
  },
  {
   "cell_type": "markdown",
   "metadata": {},
   "source": [
    "Make new account, use existing account. \n",
    "\n",
    "Database of existing accounts... static page of files.\n",
    "\n",
    "Add password to account "
   ]
  },
  {
   "cell_type": "code",
   "execution_count": 24,
   "metadata": {
    "collapsed": false
   },
   "outputs": [
    {
     "name": "stdout",
     "output_type": "stream",
     "text": [
      "signin y/n y\n",
      "You signed in\n"
     ]
    }
   ],
   "source": [
    "loginz = raw_input('signin y/n ')\n",
    "if 'y' in loginz:\n",
    "    print('You signed in')\n",
    "else:\n",
    "    logoutz = raw_input('signouts y/n ')"
   ]
  },
  {
   "cell_type": "code",
   "execution_count": 25,
   "metadata": {
    "collapsed": false
   },
   "outputs": [
    {
     "name": "stdout",
     "output_type": "stream",
     "text": [
      "first name: blah\n",
      "last name: mc\n",
      "tshirt size: L\n",
      "coffee volc: 4\n",
      "comments: today was fun\n"
     ]
    }
   ],
   "source": [
    "if 'y' in loginz:\n",
    "    firnam = raw_input('first name: ')\n",
    "    lasnam = raw_input('last name: ')\n",
    "    tshir = raw_input('tshirt size: ')\n",
    "    cofvol = raw_input('coffee volc: ')\n",
    "    comen = raw_input('comments: ')\n",
    "    betdict = dict()\n",
    "    betdict.update({'first-name' : firnam})\n",
    "    betdict.update({'last-name' : lasnam})\n",
    "    betdict.update({'signin-date' : returndate()})\n",
    "    betdict.update({'signin-hrmin' : returntime()})\n",
    "    betdict.update({'tshirt-size' : tshir})\n",
    "    betdict.update({'coffees' : int(cofvol)})\n",
    "    betdict.update({'comments:' : comen})\n",
    "    convj = json.dumps(betdict)\n",
    "    puser = getpass.getuser()\n",
    "    opday = open((dayzpath + '/' + firnam + lasnam) + '.json', 'w')\n",
    "    opday.write(str(convj))\n",
    "    opday.close()\n",
    "else:\n",
    "    print ('not signing in')\n"
   ]
  },
  {
   "cell_type": "code",
   "execution_count": 26,
   "metadata": {
    "collapsed": false
   },
   "outputs": [
    {
     "name": "stdout",
     "output_type": "stream",
     "text": [
      "not signing out\n"
     ]
    }
   ],
   "source": [
    "if 'y' in logoutz:\n",
    "    comout = raw_input('out comments: ')\n",
    "    outdic = dict()\n",
    "    \n",
    "    firnaz = raw_input('first name: ')\n",
    "    lasnaz = raw_input('last name: ')\n",
    "    outdic.update({'signout-date': returndate()})\n",
    "    outdic.update({'signout-time': returntime()})\n",
    "    outdic.update({'signout-comment': comout})\n",
    "    conout = json.dumps(outdic)\n",
    "    signoutz = open((dayzpath + '/' + firnaz + lasnaz) + '.json', 'a')\n",
    "    signoutz.write(str(conout))\n",
    "    signoutz.close()\n",
    "else:\n",
    "    print ('not signing out')"
   ]
  },
  {
   "cell_type": "code",
   "execution_count": null,
   "metadata": {
    "collapsed": true
   },
   "outputs": [],
   "source": []
  }
 ],
 "metadata": {
  "kernelspec": {
   "display_name": "Python 2",
   "name": "python2"
  },
  "language_info": {
   "codemirror_mode": {
    "name": "ipython",
    "version": 2
   },
   "file_extension": ".py",
   "mimetype": "text/x-python",
   "name": "python",
   "nbconvert_exporter": "python",
   "pygments_lexer": "ipython2",
   "version": "2.7.8"
  }
 },
 "nbformat": 4,
 "nbformat_minor": 0
}
