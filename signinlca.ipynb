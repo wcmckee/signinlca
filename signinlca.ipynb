{
 "cells": [
  {
   "cell_type": "markdown",
   "metadata": {},
   "source": [
    "signinlca\n",
    "\n",
    "script to signin for volunteers at lca2015\n",
    "\n",
    "test!\n",
    "\n",
    "The script asks for input of firstname, lastname, tshirt size, amount of coffee volc and comments. \n",
    "It creates a python dict with this data along with the current date and hour. \n",
    "It gets the username of user and saves the data in the users home dir under the folder signinlca. \n",
    "It saves the data as a json object.\n",
    "Currently saves the file as firstname + lastname. Could this be improved?\n",
    "\n",
    "\n",
    "TODO\n",
    "\n",
    "add option to choose to login or logout. Y/N option for each one. \n",
    "\n",
    "add logout script that appends to the login data. saves, time/date/comment. anything else?\n",
    "\n",
    "Asign to jobs/room?\n",
    "\n",
    "Graph up total hour worked in day/week\n",
    "\n",
    "scp/rsync data to server/web page.\n"
   ]
  },
  {
   "cell_type": "code",
   "execution_count": 37,
   "metadata": {
    "collapsed": false
   },
   "outputs": [],
   "source": [
    "import os\n",
    "#import time\n",
    "import json\n",
    "import getpass\n",
    "import arrow\n",
    "\n",
    "import hashlib"
   ]
  },
  {
   "cell_type": "code",
   "execution_count": 38,
   "metadata": {
    "collapsed": true
   },
   "outputs": [],
   "source": [
    "gmtz = arrow.utcnow()"
   ]
  },
  {
   "cell_type": "code",
   "execution_count": 38,
   "metadata": {
    "collapsed": true
   },
   "outputs": [],
   "source": []
  },
  {
   "cell_type": "code",
   "execution_count": 39,
   "metadata": {
    "collapsed": false
   },
   "outputs": [],
   "source": [
    "def returndate():\n",
    "    return gmtz.strftime('%d' + '-' + '%b' + '-' + '%Y')\n",
    "\n",
    "def returntime():\n",
    "    return gmtz.strftime('%H:%M:%S')\n",
    "\n",
    "puser = getpass.getuser()\n",
    "\n",
    "yrnum = gmtz.strftime(\"%Y\")\n",
    "mnthnum = gmtz.strftime(\"%b\")\n",
    "dayzum = gmtz.strftime(\"%d\")\n",
    "\n",
    "signpath = ('/home/' + puser + '/signinlca')\n",
    "yrpath = (signpath + '/' + yrnum)\n",
    "mnthpath = (yrpath + '/' + mnthnum)\n",
    "dayzpath = (mnthpath + '/' + dayzum)\n"
   ]
  },
  {
   "cell_type": "code",
   "execution_count": 40,
   "metadata": {
    "collapsed": false
   },
   "outputs": [
    {
     "name": "stdout",
     "output_type": "stream",
     "text": [
      "Path is there\n"
     ]
    }
   ],
   "source": [
    "if os.path.isdir(signpath) == True:\n",
    "    print 'Path is there'\n",
    "else:\n",
    "    print 'Path not there'\n",
    "    os.mkdir(signpath)"
   ]
  },
  {
   "cell_type": "code",
   "execution_count": 41,
   "metadata": {
    "collapsed": false
   },
   "outputs": [
    {
     "name": "stdout",
     "output_type": "stream",
     "text": [
      "Year Path is there\n",
      "Month Path is there\n",
      "Day Path is there\n"
     ]
    }
   ],
   "source": [
    "if os.path.isdir(yrpath) == True:\n",
    "    print 'Year Path is there'\n",
    "else:\n",
    "    print 'Year Path not there'\n",
    "    os.mkdir(yrpath)\n",
    "    \n",
    "if os.path.isdir(mnthpath) == True:\n",
    "    print 'Month Path is there'\n",
    "else:\n",
    "    print 'Month Path not there'\n",
    "    os.mkdir(mnthpath)\n",
    "    \n",
    "if os.path.isdir(dayzpath) == True:\n",
    "    print 'Day Path is there'\n",
    "else:\n",
    "    print 'Day Path not there'\n",
    "    os.mkdir(dayzpath)"
   ]
  },
  {
   "cell_type": "code",
   "execution_count": 42,
   "metadata": {
    "collapsed": false
   },
   "outputs": [
    {
     "data": {
      "text/plain": [
       "'/home/wcmckee/signinlca/2015/Feb/12'"
      ]
     },
     "execution_count": 42,
     "metadata": {},
     "output_type": "execute_result"
    }
   ],
   "source": [
    "dayzpath"
   ]
  },
  {
   "cell_type": "code",
   "execution_count": 43,
   "metadata": {
    "collapsed": true
   },
   "outputs": [],
   "source": [
    "os.chdir(dayzpath)"
   ]
  },
  {
   "cell_type": "markdown",
   "metadata": {},
   "source": [
    "Make new account, use existing account. \n",
    "\n",
    "Database of existing accounts... static page of files.\n",
    "\n",
    "Add password to account \n",
    "\n",
    "If you signin, doesn't ask if want to sign out.\n",
    "\n",
    "If you signout, doesn't ask if you want to sign in.\n",
    "\n",
    "Hash passwords"
   ]
  },
  {
   "cell_type": "markdown",
   "metadata": {},
   "source": [
    "When creating account asked for username (which could be firstname + lastname), and password. Passwords are hashed and when user tries to login the password inputed is compared to the hashed password. \n",
    "\n",
    "Save that hash as a varible that is then complared with the saved hash password."
   ]
  },
  {
   "cell_type": "code",
   "execution_count": 43,
   "metadata": {
    "collapsed": true
   },
   "outputs": [],
   "source": []
  },
  {
   "cell_type": "code",
   "execution_count": 44,
   "metadata": {
    "collapsed": true
   },
   "outputs": [],
   "source": [
    "from IPython.lib import passwd "
   ]
  },
  {
   "cell_type": "code",
   "execution_count": 103,
   "metadata": {
    "collapsed": false
   },
   "outputs": [
    {
     "name": "stdout",
     "output_type": "stream",
     "text": [
      "signup y/n y\n",
      "Welcome to signup!\n"
     ]
    }
   ],
   "source": [
    "signup = raw_input('signup y/n ')\n",
    "if 'y' in signup:\n",
    "    print('Welcome to signup!')"
   ]
  },
  {
   "cell_type": "code",
   "execution_count": 120,
   "metadata": {
    "collapsed": false
   },
   "outputs": [
    {
     "name": "stdout",
     "output_type": "stream",
     "text": [
      "firstname: william\n",
      "last name: mckee\n",
      "username: wcmckee\n",
      "Enter password: ········\n",
      "Verify password: ········\n"
     ]
    }
   ],
   "source": [
    "if 'y' in signup:\n",
    "    firnam = raw_input('firstname: ')\n",
    "    lasnam = raw_input('last name: ')\n",
    "    usenam = raw_input('username: ')\n",
    "    passworz = passwd()"
   ]
  },
  {
   "cell_type": "code",
   "execution_count": 121,
   "metadata": {
    "collapsed": false
   },
   "outputs": [],
   "source": [
    "decri = hashlib.sha512(firnam + lasnam)"
   ]
  },
  {
   "cell_type": "code",
   "execution_count": 122,
   "metadata": {
    "collapsed": false
   },
   "outputs": [],
   "source": [
    "#decri.update('testing')"
   ]
  },
  {
   "cell_type": "code",
   "execution_count": 122,
   "metadata": {
    "collapsed": true
   },
   "outputs": [],
   "source": []
  },
  {
   "cell_type": "code",
   "execution_count": 123,
   "metadata": {
    "collapsed": false
   },
   "outputs": [
    {
     "data": {
      "text/plain": [
       "'9b03e8547fcfe8368f311b5b5364d36df2201d03f9776ce63df5d58d2c7d644f7f82828a4dead0a3f7066e2d60063436a6867af27a9f793e5e36357145b36697'"
      ]
     },
     "execution_count": 123,
     "metadata": {},
     "output_type": "execute_result"
    }
   ],
   "source": [
    "decri.hexdigest()"
   ]
  },
  {
   "cell_type": "code",
   "execution_count": 124,
   "metadata": {
    "collapsed": false
   },
   "outputs": [
    {
     "name": "stdout",
     "output_type": "stream",
     "text": [
      "signin? y/ny\n",
      "firstname: william\n",
      "lastname: mckee\n",
      "username: wcmckee\n",
      "Enter password: ········\n",
      "Verify password: ········\n"
     ]
    }
   ],
   "source": [
    "signin = raw_input('signin? y/n')\n",
    "\n",
    "if 'y' in signin:\n",
    "    uzname = raw_input('firstname: ')\n",
    "    lzname = raw_input('lastname: ')\n",
    "    uzernam = raw_input('username: ')\n",
    "    passwaz = passwd()"
   ]
  },
  {
   "cell_type": "code",
   "execution_count": 125,
   "metadata": {
    "collapsed": false
   },
   "outputs": [
    {
     "data": {
      "text/plain": [
       "'sha1:b396b4b2149d:2e032cfc438c9f4a8feb44e4d60c0ab132464fe1'"
      ]
     },
     "execution_count": 125,
     "metadata": {},
     "output_type": "execute_result"
    }
   ],
   "source": [
    "passwaz"
   ]
  },
  {
   "cell_type": "code",
   "execution_count": 126,
   "metadata": {
    "collapsed": false
   },
   "outputs": [
    {
     "data": {
      "text/plain": [
       "'sha1:19ef5793e96c:96dff0eba365d71f9e6309112eeacef6d5cf5f39'"
      ]
     },
     "execution_count": 126,
     "metadata": {},
     "output_type": "execute_result"
    }
   ],
   "source": [
    "passworz"
   ]
  },
  {
   "cell_type": "code",
   "execution_count": 127,
   "metadata": {
    "collapsed": false
   },
   "outputs": [
    {
     "data": {
      "text/plain": [
       "'william'"
      ]
     },
     "execution_count": 127,
     "metadata": {},
     "output_type": "execute_result"
    }
   ],
   "source": [
    "firnam"
   ]
  },
  {
   "cell_type": "code",
   "execution_count": 128,
   "metadata": {
    "collapsed": false
   },
   "outputs": [
    {
     "data": {
      "text/plain": [
       "'william'"
      ]
     },
     "execution_count": 128,
     "metadata": {},
     "output_type": "execute_result"
    }
   ],
   "source": [
    "uzname"
   ]
  },
  {
   "cell_type": "code",
   "execution_count": 90,
   "metadata": {
    "collapsed": false
   },
   "outputs": [],
   "source": [
    "terbo = hashlib.sha512(usenam)"
   ]
  },
  {
   "cell_type": "code",
   "execution_count": 129,
   "metadata": {
    "collapsed": true
   },
   "outputs": [],
   "source": [
    "daetim = hashlib.sha512(uzname)"
   ]
  },
  {
   "cell_type": "code",
   "execution_count": 132,
   "metadata": {
    "collapsed": false
   },
   "outputs": [],
   "source": [
    "faetim = hashlib.sha512(firnam)"
   ]
  },
  {
   "cell_type": "code",
   "execution_count": 137,
   "metadata": {
    "collapsed": false
   },
   "outputs": [
    {
     "data": {
      "text/plain": [
       "'8d92cd360ec9cbda00dbec6e0de42a9a2a11aef9975e495700088c1126721f9d8f06c27e5ee6f5874a548b9230c971820f0dd492e3bfe6362916f2093848ff11'"
      ]
     },
     "execution_count": 137,
     "metadata": {},
     "output_type": "execute_result"
    }
   ],
   "source": [
    "daetim.hexdigest()"
   ]
  },
  {
   "cell_type": "code",
   "execution_count": 139,
   "metadata": {
    "collapsed": false
   },
   "outputs": [
    {
     "data": {
      "text/plain": [
       "'8d92cd360ec9cbda00dbec6e0de42a9a2a11aef9975e495700088c1126721f9d8f06c27e5ee6f5874a548b9230c971820f0dd492e3bfe6362916f2093848ff11'"
      ]
     },
     "execution_count": 139,
     "metadata": {},
     "output_type": "execute_result"
    }
   ],
   "source": [
    "faetim.hexdigest()"
   ]
  },
  {
   "cell_type": "code",
   "execution_count": null,
   "metadata": {
    "collapsed": true
   },
   "outputs": [],
   "source": []
  },
  {
   "cell_type": "code",
   "execution_count": 96,
   "metadata": {
    "collapsed": false
   },
   "outputs": [
    {
     "data": {
      "text/plain": [
       "'f033fb0b9d8b6a765878e7750e94e8822c812420a5d136c6a445b8f53ab89e5d0aab2955f292a98f1b531193f5484f919f6ba51b57298e84144530791a569f90'"
      ]
     },
     "execution_count": 96,
     "metadata": {},
     "output_type": "execute_result"
    }
   ],
   "source": [
    "terbo.hexdigest()"
   ]
  },
  {
   "cell_type": "code",
   "execution_count": 58,
   "metadata": {
    "collapsed": false
   },
   "outputs": [
    {
     "data": {
      "text/plain": [
       "'098f6bcd4621d373cade4e832627b4f6'"
      ]
     },
     "execution_count": 58,
     "metadata": {},
     "output_type": "execute_result"
    }
   ],
   "source": [
    "m.hexdigest()"
   ]
  },
  {
   "cell_type": "markdown",
   "metadata": {},
   "source": [
    "I have their signin data. Now what to do with it? Save it as a json object to be then used when they signin later? \n",
    "\n",
    "More security on it? Hash their usernames, firstnames, 2nd password?"
   ]
  },
  {
   "cell_type": "code",
   "execution_count": 36,
   "metadata": {
    "collapsed": false
   },
   "outputs": [
    {
     "data": {
      "text/plain": [
       "'sha1:a6581d5610e3:8de5cdd3182fa3588b0a37654b7275459669d5b4'"
      ]
     },
     "execution_count": 36,
     "metadata": {},
     "output_type": "execute_result"
    }
   ],
   "source": [
    "passworz"
   ]
  },
  {
   "cell_type": "code",
   "execution_count": 31,
   "metadata": {
    "collapsed": false
   },
   "outputs": [
    {
     "name": "stdout",
     "output_type": "stream",
     "text": [
      "signin y/n n\n",
      "signouts y/n n\n"
     ]
    }
   ],
   "source": [
    "loginz = raw_input('signin y/n ')\n",
    "if 'y' in loginz:\n",
    "    print('You signed in')\n",
    "    logoutz = None\n",
    "else:\n",
    "    logoutz = raw_input('signouts y/n ')"
   ]
  },
  {
   "cell_type": "code",
   "execution_count": 15,
   "metadata": {
    "collapsed": false
   },
   "outputs": [
    {
     "name": "stdout",
     "output_type": "stream",
     "text": [
      "not signing in\n"
     ]
    }
   ],
   "source": [
    "if 'y' in loginz:\n",
    "    firnam = raw_input('first name: ')\n",
    "    lasnam = raw_input('last name: ')\n",
    "    tshir = raw_input('tshirt size: ')\n",
    "    cofvol = raw_input('coffee volc: ')\n",
    "    comen = raw_input('comments: ')\n",
    "    betdict = dict()\n",
    "    betdict.update({'first-name' : firnam})\n",
    "    betdict.update({'last-name' : lasnam})\n",
    "    betdict.update({'signin-date' : returndate()})\n",
    "    betdict.update({'signin-hrmin' : returntime()})\n",
    "    betdict.update({'tshirt-size' : tshir})\n",
    "    betdict.update({'coffees' : int(cofvol)})\n",
    "    betdict.update({'comments:' : comen})\n",
    "    convj = json.dumps(betdict)\n",
    "    puser = getpass.getuser()\n",
    "    opday = open((dayzpath + '/' + firnam + lasnam) + '.json', 'w')\n",
    "    opday.write(str(convj))\n",
    "    opday.close()\n",
    "else:\n",
    "    print ('not signing in')\n"
   ]
  },
  {
   "cell_type": "code",
   "execution_count": 16,
   "metadata": {
    "collapsed": false
   },
   "outputs": [
    {
     "name": "stdout",
     "output_type": "stream",
     "text": [
      "out comments: today was ok\n",
      "first name: william\n",
      "last name: mckee\n"
     ]
    }
   ],
   "source": [
    "if 'y' in logoutz:\n",
    "    comout = raw_input('out comments: ')\n",
    "    outdic = dict()\n",
    "    \n",
    "    firnaz = raw_input('first name: ')\n",
    "    lasnaz = raw_input('last name: ')\n",
    "    outdic.update({'signout-date': returndate()})\n",
    "    outdic.update({'signout-time': returntime()})\n",
    "    outdic.update({'signout-comment': comout})\n",
    "    conout = json.dumps(outdic)\n",
    "    signoutz = open((dayzpath + '/' + firnaz + lasnaz) + '.json', 'a')\n",
    "    signoutz.write(str(conout))\n",
    "    signoutz.close()\n",
    "else:\n",
    "    print ('not signing out')"
   ]
  },
  {
   "cell_type": "code",
   "execution_count": null,
   "metadata": {
    "collapsed": true
   },
   "outputs": [],
   "source": []
  }
 ],
 "metadata": {
  "kernelspec": {
   "display_name": "Python 2",
   "name": "python2"
  },
  "language_info": {
   "codemirror_mode": {
    "name": "ipython",
    "version": 2
   },
   "file_extension": ".py",
   "mimetype": "text/x-python",
   "name": "python",
   "nbconvert_exporter": "python",
   "pygments_lexer": "ipython2",
   "version": "2.7.8"
  }
 },
 "nbformat": 4,
 "nbformat_minor": 0
}
