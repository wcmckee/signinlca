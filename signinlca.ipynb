{
 "cells": [
  {
   "cell_type": "markdown",
   "metadata": {},
   "source": [
    "signinlca\n",
    "\n",
    "script to signin for volunteers at lca2015"
   ]
  },
  {
   "cell_type": "code",
   "execution_count": 1,
   "metadata": {
    "collapsed": false
   },
   "outputs": [],
   "source": [
    "import os\n",
    "import time\n",
    "import json\n",
    "import getpass"
   ]
  },
  {
   "cell_type": "code",
   "execution_count": 2,
   "metadata": {
    "collapsed": false
   },
   "outputs": [],
   "source": [
    "def returndate():\n",
    "    return time.strftime((\"%d\" + \"-\" + \"%b\" + \"-\" + \"%Y\"))\n",
    "\n",
    "def returntime():\n",
    "    return time.strftime(\"%H:%M:%S\")"
   ]
  },
  {
   "cell_type": "code",
   "execution_count": 3,
   "metadata": {
    "collapsed": false
   },
   "outputs": [
    {
     "name": "stdout",
     "output_type": "stream",
     "text": [
      "first name: william\n",
      "last name: mckee\n",
      "tshirt size: L\n",
      "coffee volc: 4\n",
      "comments: doing AV\n"
     ]
    }
   ],
   "source": [
    "firnam = raw_input('first name: ')\n",
    "lasnam = raw_input('last name: ')\n",
    "tshir = raw_input('tshirt size: ')\n",
    "cofvol = raw_input('coffee volc: ')\n",
    "comen = raw_input('comments: ')"
   ]
  },
  {
   "cell_type": "code",
   "execution_count": 4,
   "metadata": {
    "collapsed": false
   },
   "outputs": [],
   "source": [
    "betdict = dict()"
   ]
  },
  {
   "cell_type": "code",
   "execution_count": 5,
   "metadata": {
    "collapsed": false
   },
   "outputs": [],
   "source": [
    "betdict.update({'first-name' : firnam})\n",
    "betdict.update({'last-name' : lasnam})\n",
    "betdict.update({'signin-date' : returndate()})\n",
    "betdict.update({'signin-hrmin' : returntime()})\n",
    "betdict.update({'tshirt-size' : tshir})\n",
    "betdict.update({'coffees' : int(cofvol)})\n",
    "betdict.update({'comments:' : comen})"
   ]
  },
  {
   "cell_type": "code",
   "execution_count": 6,
   "metadata": {
    "collapsed": false
   },
   "outputs": [
    {
     "data": {
      "text/plain": [
       "{'coffees': 4,\n",
       " 'comments:': 'doing AV',\n",
       " 'first-name': 'william',\n",
       " 'last-name': 'mckee',\n",
       " 'signin-date': '15-Jan-2015',\n",
       " 'signin-hrmin': '19:37:19',\n",
       " 'tshirt-size': 'L'}"
      ]
     },
     "execution_count": 6,
     "metadata": {},
     "output_type": "execute_result"
    }
   ],
   "source": [
    "betdict"
   ]
  },
  {
   "cell_type": "code",
   "execution_count": 7,
   "metadata": {
    "collapsed": false
   },
   "outputs": [],
   "source": [
    "convj = json.dumps(betdict)"
   ]
  },
  {
   "cell_type": "code",
   "execution_count": 8,
   "metadata": {
    "collapsed": false
   },
   "outputs": [
    {
     "data": {
      "text/plain": [
       "'{\"signin-date\": \"15-Jan-2015\", \"comments:\": \"doing AV\", \"last-name\": \"mckee\", \"signin-hrmin\": \"19:37:19\", \"coffees\": 4, \"first-name\": \"william\", \"tshirt-size\": \"L\"}'"
      ]
     },
     "execution_count": 8,
     "metadata": {},
     "output_type": "execute_result"
    }
   ],
   "source": [
    "convj"
   ]
  },
  {
   "cell_type": "code",
   "execution_count": 9,
   "metadata": {
    "collapsed": false
   },
   "outputs": [],
   "source": [
    "puser = getpass.getuser()"
   ]
  },
  {
   "cell_type": "code",
   "execution_count": 9,
   "metadata": {
    "collapsed": false
   },
   "outputs": [],
   "source": []
  },
  {
   "cell_type": "code",
   "execution_count": 17,
   "metadata": {
    "collapsed": false
   },
   "outputs": [],
   "source": [
    "yrnum = time.strftime(\"%d\")\n",
    "mnthnum = time.strftime(\"%b\")\n",
    "dayzum = time.strftime(\"%Y\")"
   ]
  },
  {
   "cell_type": "code",
   "execution_count": 18,
   "metadata": {
    "collapsed": false
   },
   "outputs": [],
   "source": [
    "signpath = ('/home/' + puser + '/signinlca')\n",
    "yrpath = (signpath + '/' + yrnum)\n",
    "mnthpath = (yrpath + '/' + mnthnum)\n",
    "dayzpath = (mnthpath + '/' + dayzum)\n"
   ]
  },
  {
   "cell_type": "code",
   "execution_count": 19,
   "metadata": {
    "collapsed": false
   },
   "outputs": [
    {
     "data": {
      "text/plain": [
       "'/home/wcmckee/signinlca/15'"
      ]
     },
     "execution_count": 19,
     "metadata": {},
     "output_type": "execute_result"
    }
   ],
   "source": [
    "yrpath"
   ]
  },
  {
   "cell_type": "code",
   "execution_count": 11,
   "metadata": {
    "collapsed": false
   },
   "outputs": [
    {
     "name": "stdout",
     "output_type": "stream",
     "text": [
      "Path is there\n"
     ]
    }
   ],
   "source": [
    "if os.path.isdir(signpath) == True:\n",
    "    print 'Path is there'\n",
    "else:\n",
    "    print 'Path not there'\n",
    "    os.mkdir(signpath)"
   ]
  },
  {
   "cell_type": "code",
   "execution_count": 24,
   "metadata": {
    "collapsed": false
   },
   "outputs": [
    {
     "name": "stdout",
     "output_type": "stream",
     "text": [
      "Year Path is there\n",
      "Month Path is there\n",
      "Day Path not there\n"
     ]
    }
   ],
   "source": [
    "if os.path.isdir(yrpath) == True:\n",
    "    print 'Year Path is there'\n",
    "else:\n",
    "    print 'Year Path not there'\n",
    "    os.mkdir(yrpath)\n",
    "    \n",
    "if os.path.isdir(mnthpath) == True:\n",
    "    print 'Month Path is there'\n",
    "else:\n",
    "    print 'Month Path not there'\n",
    "    os.mkdir(mnthpath)\n",
    "    \n",
    "if os.path.isdir(dayzpath) == True:\n",
    "    print 'Day Path is there'\n",
    "else:\n",
    "    print 'Day Path not there'\n",
    "    os.mkdir(dayzpath)"
   ]
  },
  {
   "cell_type": "code",
   "execution_count": null,
   "metadata": {
    "collapsed": true
   },
   "outputs": [],
   "source": []
  },
  {
   "cell_type": "code",
   "execution_count": 12,
   "metadata": {
    "collapsed": false
   },
   "outputs": [],
   "source": [
    "os.chdir(signpath)"
   ]
  },
  {
   "cell_type": "code",
   "execution_count": 13,
   "metadata": {
    "collapsed": false
   },
   "outputs": [],
   "source": [
    "opday = open((firnam + lasnam) + '.json', 'w')"
   ]
  },
  {
   "cell_type": "code",
   "execution_count": 14,
   "metadata": {
    "collapsed": false
   },
   "outputs": [],
   "source": [
    "opday.write(str(convj))"
   ]
  },
  {
   "cell_type": "code",
   "execution_count": 15,
   "metadata": {
    "collapsed": false
   },
   "outputs": [
    {
     "data": {
      "text/plain": [
       "'{\"signin-date\": \"15-Jan-2015\", \"comments:\": \"doing AV\", \"last-name\": \"mckee\", \"signin-hrmin\": \"19:37:19\", \"coffees\": 4, \"first-name\": \"william\", \"tshirt-size\": \"L\"}'"
      ]
     },
     "execution_count": 15,
     "metadata": {},
     "output_type": "execute_result"
    }
   ],
   "source": [
    "convj"
   ]
  },
  {
   "cell_type": "code",
   "execution_count": null,
   "metadata": {
    "collapsed": false
   },
   "outputs": [],
   "source": []
  },
  {
   "cell_type": "code",
   "execution_count": null,
   "metadata": {
    "collapsed": true
   },
   "outputs": [],
   "source": []
  },
  {
   "cell_type": "code",
   "execution_count": null,
   "metadata": {
    "collapsed": true
   },
   "outputs": [],
   "source": []
  },
  {
   "cell_type": "code",
   "execution_count": null,
   "metadata": {
    "collapsed": true
   },
   "outputs": [],
   "source": []
  }
 ],
 "metadata": {
  "kernelspec": {
   "display_name": "Python 2",
   "name": "python2"
  },
  "language_info": {
   "codemirror_mode": {
    "name": "ipython",
    "version": 2
   },
   "file_extension": ".py",
   "mimetype": "text/x-python",
   "name": "python",
   "nbconvert_exporter": "python",
   "pygments_lexer": "ipython2",
   "version": "2.7.6"
  }
 },
 "nbformat": 4,
 "nbformat_minor": 0
}