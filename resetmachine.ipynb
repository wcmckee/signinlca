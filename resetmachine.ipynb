{
 "cells": [
  {
   "cell_type": "code",
   "execution_count": 1,
   "metadata": {
    "collapsed": true
   },
   "outputs": [],
   "source": [
    "#check username for minutes file. minutes file is the amount of\n",
    "#mins on username.\n",
    "\n",
    "#script that runs every min to add time to all accounts\n",
    "#that are logged on."
   ]
  },
  {
   "cell_type": "code",
   "execution_count": 2,
   "metadata": {
    "collapsed": true
   },
   "outputs": [],
   "source": [
    "import os"
   ]
  },
  {
   "cell_type": "code",
   "execution_count": 3,
   "metadata": {
    "collapsed": false
   },
   "outputs": [],
   "source": [
    "allusr = os.listdir('/home')"
   ]
  },
  {
   "cell_type": "code",
   "execution_count": 4,
   "metadata": {
    "collapsed": false
   },
   "outputs": [],
   "source": [
    "allusr\n",
    "\n",
    "usrslcd = ('/home/wcmckee/signinlca/usernames/')"
   ]
  },
  {
   "cell_type": "code",
   "execution_count": 5,
   "metadata": {
    "collapsed": true
   },
   "outputs": [],
   "source": [
    "#write a file in the home folder of each user that \n",
    "#is the amount of mins they used.\n",
    "\n",
    "#dict of usernames: mins loged on\n",
    "\n"
   ]
  },
  {
   "cell_type": "code",
   "execution_count": 6,
   "metadata": {
    "collapsed": true
   },
   "outputs": [],
   "source": [
    "usrdict = dict()"
   ]
  },
  {
   "cell_type": "code",
   "execution_count": 7,
   "metadata": {
    "collapsed": false
   },
   "outputs": [
    {
     "data": {
      "text/plain": [
       "{}"
      ]
     },
     "execution_count": 7,
     "metadata": {},
     "output_type": "execute_result"
    }
   ],
   "source": [
    "usrdict"
   ]
  },
  {
   "cell_type": "code",
   "execution_count": 8,
   "metadata": {
    "collapsed": true
   },
   "outputs": [],
   "source": [
    "hostndir = ('/home/wcmckee/sellcoffee/hostnames/')"
   ]
  },
  {
   "cell_type": "code",
   "execution_count": 9,
   "metadata": {
    "collapsed": false
   },
   "outputs": [],
   "source": [
    "hosnz = os.listdir(hostndir)"
   ]
  },
  {
   "cell_type": "code",
   "execution_count": 10,
   "metadata": {
    "collapsed": false
   },
   "outputs": [
    {
     "name": "stdout",
     "output_type": "stream",
     "text": [
      "localhost\n"
     ]
    }
   ],
   "source": [
    "for hosz in hosnz:\n",
    "    print hosz\n",
    "    hopen = open(hostndir + hosz, 'r')\n",
    "    usrdict.update({hosz : hopen.read().strip('\\n')})\n",
    "    hopen.close()"
   ]
  },
  {
   "cell_type": "code",
   "execution_count": 12,
   "metadata": {
    "collapsed": false
   },
   "outputs": [
    {
     "name": "stdout",
     "output_type": "stream",
     "text": [
      "{\"wcmckee\":\n",
      "wcmckee logged in\n",
      "15,\n",
      "not logged in!\n",
      "\"joemanz\":\n",
      "not logged in!\n",
      "15,\n",
      "not logged in!\n",
      "\"point\":\n",
      "not logged in!\n",
      "\"20\",\n",
      "not logged in!\n",
      "\"qwe\":\n",
      "not logged in!\n",
      "15,\n",
      "not logged in!\n",
      "\"wkee\":\n",
      "not logged in!\n",
      "15,\n",
      "not logged in!\n",
      "\"checkthis\":\n",
      "not logged in!\n",
      "15,\n",
      "not logged in!\n",
      "\"poiu\":\n",
      "not logged in!\n",
      "15,\n",
      "not logged in!\n",
      "\"blah\":\n",
      "not logged in!\n",
      "15,\n",
      "not logged in!\n",
      "\"charle\":\n",
      "not logged in!\n",
      "15,\n",
      "not logged in!\n",
      "\"poi\":\n",
      "not logged in!\n",
      "15,\n",
      "not logged in!\n",
      "\"tnow\":\n",
      "not logged in!\n",
      "15,\n",
      "not logged in!\n",
      "\"clittle\":\n",
      "not logged in!\n",
      "15,\n",
      "not logged in!\n",
      "\"wblack\":\n",
      "not logged in!\n",
      "15,\n",
      "not logged in!\n",
      "\"ssung\":\n",
      "not logged in!\n",
      "15,\n",
      "not logged in!\n",
      "\"wmen\":\n",
      "not logged in!\n",
      "15,\n",
      "not logged in!\n",
      "\"blag\":\n",
      "not logged in!\n",
      "15,\n",
      "not logged in!\n",
      "\"signinlca.py\":\n",
      "not logged in!\n",
      "15,\n",
      "not logged in!\n",
      "\"sjohns\":\n",
      "not logged in!\n",
      "15,\n",
      "not logged in!\n",
      "\"gerty\":\n",
      "not logged in!\n",
      "15,\n",
      "not logged in!\n",
      "\"webmck\":\n",
      "not logged in!\n",
      "15,\n",
      "not logged in!\n",
      "\"joeman\":\n",
      "not logged in!\n",
      "15,\n",
      "not logged in!\n",
      "\"joecheck\":\n",
      "not logged in!\n",
      "15,\n",
      "not logged in!\n",
      "\"jchick\":\n",
      "not logged in!\n",
      "15,\n",
      "not logged in!\n",
      "\"pytest\":\n",
      "not logged in!\n",
      "15,\n",
      "not logged in!\n",
      "\"jblog\":\n",
      "not logged in!\n",
      "15,\n",
      "not logged in!\n",
      "\"pjohns\":\n",
      "not logged in!\n",
      "15,\n",
      "not logged in!\n",
      "\"wez\":\n",
      "not logged in!\n",
      "15,\n",
      "not logged in!\n",
      "\"figlet\":\n",
      "not logged in!\n",
      "15,\n",
      "not logged in!\n",
      "\"wcm\":\n",
      "not logged in!\n",
      "15,\n",
      "not logged in!\n",
      "\"red\":\n",
      "not logged in!\n",
      "15}\n",
      "not logged in!\n"
     ]
    }
   ],
   "source": [
    "for usz in usrdict.values():\n",
    "    newgz = usz.split()\n",
    "    #print newgz\n",
    "    for ussa in newgz:\n",
    "        print ussa\n",
    "        if ('wcmckee') in ussa:\n",
    "            print ('wcmckee logged in')\n",
    "        else:\n",
    "            print ('not logged in!')"
   ]
  },
  {
   "cell_type": "code",
   "execution_count": 13,
   "metadata": {
    "collapsed": false
   },
   "outputs": [],
   "source": [
    "#newgz"
   ]
  },
  {
   "cell_type": "code",
   "execution_count": 13,
   "metadata": {
    "collapsed": true
   },
   "outputs": [],
   "source": []
  },
  {
   "cell_type": "code",
   "execution_count": 14,
   "metadata": {
    "collapsed": true
   },
   "outputs": [],
   "source": [
    "totlis = []"
   ]
  },
  {
   "cell_type": "code",
   "execution_count": 15,
   "metadata": {
    "collapsed": false
   },
   "outputs": [],
   "source": [
    "for usrval in usrdict.values():\n",
    "    totlis.append(usrval.split())\n",
    "    #print usrval.replace(' ', ', ')\n",
    "    #totlis.append(usrval.replace(' ', ''))\n",
    "    #for uza in usrval:\n",
    "        #if 'w' in uza:\n",
    "            #print 'w there!'\n",
    "        #else:\n",
    "            #print ('w not there!')\n",
    "        #print uza"
   ]
  },
  {
   "cell_type": "code",
   "execution_count": 20,
   "metadata": {
    "collapsed": false
   },
   "outputs": [
    {
     "data": {
      "text/plain": [
       "[['{\"wcmckee\":',\n",
       "  '15,',\n",
       "  '\"joemanz\":',\n",
       "  '15,',\n",
       "  '\"point\":',\n",
       "  '\"20\",',\n",
       "  '\"qwe\":',\n",
       "  '15,',\n",
       "  '\"wkee\":',\n",
       "  '15,',\n",
       "  '\"checkthis\":',\n",
       "  '15,',\n",
       "  '\"poiu\":',\n",
       "  '15,',\n",
       "  '\"blah\":',\n",
       "  '15,',\n",
       "  '\"charle\":',\n",
       "  '15,',\n",
       "  '\"poi\":',\n",
       "  '15,',\n",
       "  '\"tnow\":',\n",
       "  '15,',\n",
       "  '\"clittle\":',\n",
       "  '15,',\n",
       "  '\"wblack\":',\n",
       "  '15,',\n",
       "  '\"ssung\":',\n",
       "  '15,',\n",
       "  '\"wmen\":',\n",
       "  '15,',\n",
       "  '\"blag\":',\n",
       "  '15,',\n",
       "  '\"signinlca.py\":',\n",
       "  '15,',\n",
       "  '\"sjohns\":',\n",
       "  '15,',\n",
       "  '\"gerty\":',\n",
       "  '15,',\n",
       "  '\"webmck\":',\n",
       "  '15,',\n",
       "  '\"joeman\":',\n",
       "  '15,',\n",
       "  '\"joecheck\":',\n",
       "  '15,',\n",
       "  '\"jchick\":',\n",
       "  '15,',\n",
       "  '\"pytest\":',\n",
       "  '15,',\n",
       "  '\"jblog\":',\n",
       "  '15,',\n",
       "  '\"pjohns\":',\n",
       "  '15,',\n",
       "  '\"wez\":',\n",
       "  '15,',\n",
       "  '\"figlet\":',\n",
       "  '15,',\n",
       "  '\"wcm\":',\n",
       "  '15,',\n",
       "  '\"red\":',\n",
       "  '15}']]"
      ]
     },
     "execution_count": 20,
     "metadata": {},
     "output_type": "execute_result"
    }
   ],
   "source": [
    "totlis"
   ]
  },
  {
   "cell_type": "code",
   "execution_count": 16,
   "metadata": {
    "collapsed": false
   },
   "outputs": [
    {
     "name": "stdout",
     "output_type": "stream",
     "text": [
      "{\"wcmckee\":\n"
     ]
    },
    {
     "ename": "IOError",
     "evalue": "[Errno 2] No such file or directory: '/home/wcmckee/signinlca/usernames/{\"wcmckee\":/minutes'",
     "output_type": "error",
     "traceback": [
      "\u001b[1;31m---------------------------------------------------------------------------\u001b[0m",
      "\u001b[1;31mIOError\u001b[0m                                   Traceback (most recent call last)",
      "\u001b[1;32m<ipython-input-16-e22d4e7dbfdd>\u001b[0m in \u001b[0;36m<module>\u001b[1;34m()\u001b[0m\n\u001b[0;32m      3\u001b[0m     \u001b[1;32mfor\u001b[0m \u001b[0mtot\u001b[0m \u001b[1;32min\u001b[0m \u001b[0mtotz\u001b[0m\u001b[1;33m:\u001b[0m\u001b[1;33m\u001b[0m\u001b[0m\n\u001b[0;32m      4\u001b[0m         \u001b[1;32mprint\u001b[0m \u001b[1;33m(\u001b[0m\u001b[0mtot\u001b[0m\u001b[1;33m)\u001b[0m\u001b[1;33m\u001b[0m\u001b[0m\n\u001b[1;32m----> 5\u001b[1;33m         \u001b[0maddminz\u001b[0m \u001b[1;33m=\u001b[0m \u001b[0mopen\u001b[0m\u001b[1;33m(\u001b[0m\u001b[0musrslcd\u001b[0m \u001b[1;33m+\u001b[0m \u001b[0mtot\u001b[0m \u001b[1;33m+\u001b[0m \u001b[1;34m'/minutes'\u001b[0m\u001b[1;33m,\u001b[0m \u001b[1;34m'r'\u001b[0m\u001b[1;33m)\u001b[0m\u001b[1;33m\u001b[0m\u001b[0m\n\u001b[0m\u001b[0;32m      6\u001b[0m         \u001b[0mcurtim\u001b[0m \u001b[1;33m=\u001b[0m \u001b[0maddminz\u001b[0m\u001b[1;33m.\u001b[0m\u001b[0mread\u001b[0m\u001b[1;33m(\u001b[0m\u001b[1;33m)\u001b[0m\u001b[1;33m\u001b[0m\u001b[0m\n\u001b[0;32m      7\u001b[0m         \u001b[0maddminz\u001b[0m\u001b[1;33m.\u001b[0m\u001b[0mclose\u001b[0m\u001b[1;33m(\u001b[0m\u001b[1;33m)\u001b[0m\u001b[1;33m\u001b[0m\u001b[0m\n",
      "\u001b[1;31mIOError\u001b[0m: [Errno 2] No such file or directory: '/home/wcmckee/signinlca/usernames/{\"wcmckee\":/minutes'"
     ]
    }
   ],
   "source": [
    "for totz in totlis:\n",
    "    #print totz\n",
    "    for tot in totz:\n",
    "        print (tot)\n",
    "        addminz = open(usrslcd + tot + '/minutes', 'r')\n",
    "        curtim = addminz.read()\n",
    "        addminz.close()\n",
    "        newminz = open(usrslcd + tot + '/minutes', 'w')\n",
    "        topminz = int(curtim) + 1\n",
    "        newminz.write(str(topminz))\n",
    "        newminz.close()\n",
    "        #str of user loged on. if name is here then\n",
    "        #edit minutes folder with +1 min"
   ]
  },
  {
   "cell_type": "code",
   "execution_count": null,
   "metadata": {
    "collapsed": true
   },
   "outputs": [],
   "source": []
  },
  {
   "cell_type": "code",
   "execution_count": 17,
   "metadata": {
    "collapsed": false
   },
   "outputs": [
    {
     "name": "stdout",
     "output_type": "stream",
     "text": [
      "Reset minutes to 0? y/n n\n"
     ]
    }
   ],
   "source": [
    "rsetmin = raw_input('Reset minutes to 0? y/n ')\n",
    "\n",
    "if 'y' in rsetmin:\n",
    "    for alu in allusr:\n",
    "        print alu\n",
    "        mktimfold = open(usrslcd + alu + '/minutes', 'w')\n",
    "        mktimfold.write('0')\n",
    "        mktimfold.close()"
   ]
  },
  {
   "cell_type": "code",
   "execution_count": null,
   "metadata": {
    "collapsed": true
   },
   "outputs": [],
   "source": []
  }
 ],
 "metadata": {
  "kernelspec": {
   "display_name": "Python 2",
   "name": "python2"
  },
  "language_info": {
   "codemirror_mode": {
    "name": "ipython",
    "version": 2
   },
   "file_extension": ".py",
   "mimetype": "text/x-python",
   "name": "python",
   "nbconvert_exporter": "python",
   "pygments_lexer": "ipython2",
   "version": "2.7.8"
  }
 },
 "nbformat": 4,
 "nbformat_minor": 0
}
