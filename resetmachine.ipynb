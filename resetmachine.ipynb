{
 "cells": [
  {
   "cell_type": "code",
   "execution_count": 2,
   "metadata": {
    "collapsed": true
   },
   "outputs": [],
   "source": [
    "#check username for minutes file. minutes file is the amount of\n",
    "#mins on username.\n",
    "\n",
    "#script that runs every min to add time to all accounts\n",
    "#that are logged on."
   ]
  },
  {
   "cell_type": "code",
   "execution_count": 1,
   "metadata": {
    "collapsed": true
   },
   "outputs": [],
   "source": [
    "import os"
   ]
  },
  {
   "cell_type": "code",
   "execution_count": 2,
   "metadata": {
    "collapsed": false
   },
   "outputs": [],
   "source": [
    "allusr = os.listdir('/home')"
   ]
  },
  {
   "cell_type": "code",
   "execution_count": 3,
   "metadata": {
    "collapsed": false
   },
   "outputs": [],
   "source": [
    "allusr\n",
    "\n",
    "usrslcd = ('/home/wcmckee/signinlca/usernames/')"
   ]
  },
  {
   "cell_type": "code",
   "execution_count": 4,
   "metadata": {
    "collapsed": true
   },
   "outputs": [],
   "source": [
    "#write a file in the home folder of each user that \n",
    "#is the amount of mins they used.\n",
    "\n",
    "#dict of usernames: mins loged on\n",
    "\n"
   ]
  },
  {
   "cell_type": "code",
   "execution_count": 5,
   "metadata": {
    "collapsed": true
   },
   "outputs": [],
   "source": [
    "usrdict = dict()"
   ]
  },
  {
   "cell_type": "code",
   "execution_count": 6,
   "metadata": {
    "collapsed": false
   },
   "outputs": [
    {
     "data": {
      "text/plain": [
       "{}"
      ]
     },
     "execution_count": 6,
     "metadata": {},
     "output_type": "execute_result"
    }
   ],
   "source": [
    "usrdict"
   ]
  },
  {
   "cell_type": "code",
   "execution_count": 7,
   "metadata": {
    "collapsed": true
   },
   "outputs": [],
   "source": [
    "hostndir = ('/home/wcmckee/sellcoffee/hostnames/')"
   ]
  },
  {
   "cell_type": "code",
   "execution_count": 8,
   "metadata": {
    "collapsed": false
   },
   "outputs": [],
   "source": [
    "hosnz = os.listdir(hostndir)"
   ]
  },
  {
   "cell_type": "code",
   "execution_count": 9,
   "metadata": {
    "collapsed": false
   },
   "outputs": [
    {
     "name": "stdout",
     "output_type": "stream",
     "text": [
      "localhost\n"
     ]
    }
   ],
   "source": [
    "for hosz in hosnz:\n",
    "    print hosz\n",
    "    hopen = open(hostndir + hosz, 'r')\n",
    "    usrdict.update({hosz : hopen.read().strip('\\n')})\n",
    "    hopen.close()"
   ]
  },
  {
   "cell_type": "code",
   "execution_count": 10,
   "metadata": {
    "collapsed": true
   },
   "outputs": [],
   "source": [
    "totlis = []"
   ]
  },
  {
   "cell_type": "code",
   "execution_count": 11,
   "metadata": {
    "collapsed": false
   },
   "outputs": [],
   "source": [
    "for usrval in usrdict.values():\n",
    "    totlis.append(usrval.split())\n",
    "    #print usrval.replace(' ', ', ')\n",
    "    #totlis.append(usrval.replace(' ', ''))\n",
    "    #for uza in usrval:\n",
    "        #if 'w' in uza:\n",
    "            #print 'w there!'\n",
    "        #else:\n",
    "            #print ('w not there!')\n",
    "        #print uza"
   ]
  },
  {
   "cell_type": "code",
   "execution_count": 12,
   "metadata": {
    "collapsed": false
   },
   "outputs": [
    {
     "data": {
      "text/plain": [
       "[[]]"
      ]
     },
     "execution_count": 12,
     "metadata": {},
     "output_type": "execute_result"
    }
   ],
   "source": [
    "totlis"
   ]
  },
  {
   "cell_type": "code",
   "execution_count": 13,
   "metadata": {
    "collapsed": false
   },
   "outputs": [],
   "source": [
    "for totz in totlis:\n",
    "    #print totz\n",
    "    for tot in totz:\n",
    "        print (tot)\n",
    "        addminz = open(usrslcd + tot + '/minutes', 'r')\n",
    "        curtim = addminz.read()\n",
    "        addminz.close()\n",
    "        newminz = open(usrslcd + tot + '/minutes', 'w')\n",
    "        topminz = int(curtim) + 1\n",
    "        newminz.write(str(topminz))\n",
    "        newminz.close()\n",
    "        #str of user loged on. if name is here then\n",
    "        #edit minutes folder with +1 min"
   ]
  },
  {
   "cell_type": "code",
   "execution_count": 13,
   "metadata": {
    "collapsed": true
   },
   "outputs": [],
   "source": []
  },
  {
   "cell_type": "code",
   "execution_count": 14,
   "metadata": {
    "collapsed": false
   },
   "outputs": [],
   "source": [
    "#rsetmin = raw_input('Reset minutes to 0? y/n ')\n",
    "\n",
    "#if 'y' in rsetmin:\n",
    "#    for alu in allusr:\n",
    "#        print alu\n",
    "#        mktimfold = open(usrslcd + alu + '/minutes', 'w')\n",
    "#        mktimfold.write('0')\n",
    "#        mktimfold.close()"
   ]
  },
  {
   "cell_type": "code",
   "execution_count": 15,
   "metadata": {
    "collapsed": true
   },
   "outputs": [],
   "source": []
  },
  {
   "cell_type": "code",
   "execution_count": 15,
   "metadata": {
    "collapsed": true
   },
   "outputs": [],
   "source": []
  },
  {
   "cell_type": "code",
   "execution_count": null,
   "metadata": {
    "collapsed": true
   },
   "outputs": [],
   "source": []
  }
 ],
 "metadata": {
  "kernelspec": {
   "display_name": "Python 2",
   "name": "python2"
  },
  "language_info": {
   "codemirror_mode": {
    "name": "ipython",
    "version": 2
   },
   "file_extension": ".py",
   "mimetype": "text/x-python",
   "name": "python",
   "nbconvert_exporter": "python",
   "pygments_lexer": "ipython2",
   "version": "2.7.9"
  }
 },
 "nbformat": 4,
 "nbformat_minor": 0
}
