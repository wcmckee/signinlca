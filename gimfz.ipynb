{
 "cells": [
  {
   "cell_type": "markdown",
   "metadata": {},
   "source": [
    "Gimpfz \n",
    "\n",
    "gimp file explore"
   ]
  },
  {
   "cell_type": "code",
   "execution_count": 10,
   "metadata": {
    "collapsed": false
   },
   "outputs": [
    {
     "name": "stdout",
     "output_type": "stream",
     "text": [
      "01Apr2015 05:48:07\n"
     ]
    }
   ],
   "source": [
    "import os\n",
    "from datetime import datetime\n",
    "#import gimpfu\n",
    " \n",
    "filePath = \"/home/wcmckee/Desktop/adventure.xcf\"\n",
    "modifiedTime = os.path.getmtime(filePath)\n",
    " \n",
    "print datetime.fromtimestamp(modifiedTime).strftime(\"%d%b%Y %H:%M:%S\")"
   ]
  },
  {
   "cell_type": "code",
   "execution_count": 10,
   "metadata": {
    "collapsed": true
   },
   "outputs": [],
   "source": []
  },
  {
   "cell_type": "code",
   "execution_count": 11,
   "metadata": {
    "collapsed": true
   },
   "outputs": [],
   "source": [
    "os.chdir('/home/wcmckee/Desktop')"
   ]
  },
  {
   "cell_type": "code",
   "execution_count": 12,
   "metadata": {
    "collapsed": true
   },
   "outputs": [],
   "source": [
    "lisdesk = os.listdir('/home/wcmckee/Desktop/')"
   ]
  },
  {
   "cell_type": "code",
   "execution_count": 13,
   "metadata": {
    "collapsed": false
   },
   "outputs": [
    {
     "name": "stdout",
     "output_type": "stream",
     "text": [
      "bird-color.png\n",
      "2015-04-01 05:48:07\n",
      "bird.png\n",
      "2015-04-01 05:48:07\n",
      "char2-line.png\n",
      "2015-04-01 05:48:07\n",
      "ava1.xcf\n",
      "2015-04-01 05:48:07\n",
      "bird-bw.png\n",
      "2015-04-01 05:48:07\n",
      "ava2-line.png\n",
      "2015-04-01 05:48:07\n",
      "Desktop\n",
      "2015-04-01 05:48:07\n",
      "adventure.xcf\n",
      "2015-04-01 05:48:07\n",
      "piblah.xcf\n",
      "2015-04-01 05:48:07\n",
      "ava1-line.png\n",
      "2015-04-01 05:48:07\n",
      "ava3-line.png\n",
      "2015-04-01 05:48:07\n",
      "bird.xcf\n",
      "2015-04-01 05:48:07\n",
      "char1-line.png\n",
      "2015-04-01 05:48:07\n"
     ]
    }
   ],
   "source": [
    "for xcfz in lisdesk:\n",
    "    print xcfz\n",
    "    modifiedTime = os.path.getmtime(filePath)\n",
    "    print datetime.fromtimestamp(modifiedTime).strftime(\"%Y-%m-%d %H:%M:%S\")"
   ]
  },
  {
   "cell_type": "code",
   "execution_count": null,
   "metadata": {
    "collapsed": true
   },
   "outputs": [],
   "source": []
  }
 ],
 "metadata": {
  "kernelspec": {
   "display_name": "Python 2",
   "name": "python2"
  },
  "language_info": {
   "codemirror_mode": {
    "name": "ipython",
    "version": 2
   },
   "file_extension": ".py",
   "mimetype": "text/x-python",
   "name": "python",
   "nbconvert_exporter": "python",
   "pygments_lexer": "ipython2",
   "version": "2.7.9"
  }
 },
 "nbformat": 4,
 "nbformat_minor": 0
}
