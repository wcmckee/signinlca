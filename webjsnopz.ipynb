{
 "cells": [
  {
   "cell_type": "markdown",
   "metadata": {},
   "source": [
    "Website json opertaion.\n",
    "\n",
    "opens up json data and saves index.html."
   ]
  },
  {
   "cell_type": "code",
   "execution_count": 34,
   "metadata": {
    "collapsed": true
   },
   "outputs": [],
   "source": [
    "import json\n",
    "import os\n",
    "\n",
    "import dominate\n",
    "from dominate.tags import *\n",
    "\n",
    "import arrow"
   ]
  },
  {
   "cell_type": "code",
   "execution_count": 2,
   "metadata": {
    "collapsed": true
   },
   "outputs": [],
   "source": [
    "rdcompz = open('/home/wcmckee/sellcoffee/comps.json', 'r')\n",
    "\n",
    "rdstrza = rdcompz.read()"
   ]
  },
  {
   "cell_type": "code",
   "execution_count": 3,
   "metadata": {
    "collapsed": false
   },
   "outputs": [
    {
     "data": {
      "text/plain": [
       "'{\"corlsbudcayon\": \"wcmckee\", \"zincwhite\": \"wcmckee wcmckee\", \"bluecookies\": \"poi wcmckee wcmckee wcmckee wcmckee wcmckee\", \"naplesyellow\": \"\"}'"
      ]
     },
     "execution_count": 3,
     "metadata": {},
     "output_type": "execute_result"
    }
   ],
   "source": [
    "rdstrza"
   ]
  },
  {
   "cell_type": "code",
   "execution_count": 7,
   "metadata": {
    "collapsed": true
   },
   "outputs": [],
   "source": [
    "strzadic = json.loads(rdstrza)"
   ]
  },
  {
   "cell_type": "code",
   "execution_count": 8,
   "metadata": {
    "collapsed": false
   },
   "outputs": [
    {
     "data": {
      "text/plain": [
       "{u'bluecookies': u'poi wcmckee wcmckee wcmckee wcmckee wcmckee',\n",
       " u'corlsbudcayon': u'wcmckee',\n",
       " u'naplesyellow': u'',\n",
       " u'zincwhite': u'wcmckee wcmckee'}"
      ]
     },
     "execution_count": 8,
     "metadata": {},
     "output_type": "execute_result"
    }
   ],
   "source": [
    "strzadic"
   ]
  },
  {
   "cell_type": "code",
   "execution_count": null,
   "metadata": {
    "collapsed": true
   },
   "outputs": [],
   "source": []
  },
  {
   "cell_type": "code",
   "execution_count": 20,
   "metadata": {
    "collapsed": false
   },
   "outputs": [],
   "source": [
    "minszlen = '/home/wcmckee/sellcoffee/mins/'\n",
    "\n",
    "hoszlen = '/home/wcmckee/sellcoffee/hostnames/'"
   ]
  },
  {
   "cell_type": "code",
   "execution_count": 23,
   "metadata": {
    "collapsed": false
   },
   "outputs": [],
   "source": [
    "hoslidz = os.listdir(hoszlen)"
   ]
  },
  {
   "cell_type": "code",
   "execution_count": null,
   "metadata": {
    "collapsed": true
   },
   "outputs": [],
   "source": [
    "#rdminza = open(minszlen + jsd, 'r')"
   ]
  },
  {
   "cell_type": "code",
   "execution_count": 9,
   "metadata": {
    "collapsed": false
   },
   "outputs": [],
   "source": [
    "rdminz = open('/home/wcmckee/sellcoffee/minutes.json', 'r')\n",
    "\n",
    "jsdaz = json.loads(rdminz.read())"
   ]
  },
  {
   "cell_type": "code",
   "execution_count": 25,
   "metadata": {
    "collapsed": false
   },
   "outputs": [
    {
     "name": "stdout",
     "output_type": "stream",
     "text": [
      "bluecookies\n",
      "poi wcmckee wcmckee wcmckee wcmckee wcmckee\n",
      "\n",
      "naplesyellow\n",
      "\n",
      "corlsbudcayon\n",
      "wcmckee\n",
      "\n",
      "zincwhite\n",
      "wcmckee wcmckee\n",
      "\n"
     ]
    }
   ],
   "source": [
    "for hosld in hoslidz:\n",
    "    print hosld\n",
    "    rdhoz = open(hoszlen + hosld, 'r')\n",
    "    rehoza = rdhoz.read()\n",
    "    print rehoza\n",
    "    rdhoz.close()"
   ]
  },
  {
   "cell_type": "code",
   "execution_count": null,
   "metadata": {
    "collapsed": true
   },
   "outputs": [],
   "source": [
    "#rdhoz = open(hoszlen + )"
   ]
  },
  {
   "cell_type": "code",
   "execution_count": 10,
   "metadata": {
    "collapsed": false
   },
   "outputs": [],
   "source": [
    "#rdminz"
   ]
  },
  {
   "cell_type": "code",
   "execution_count": 15,
   "metadata": {
    "collapsed": false
   },
   "outputs": [
    {
     "name": "stdout",
     "output_type": "stream",
     "text": [
      "wcmckee\n",
      "135\n",
      "zincwhite\n",
      "\n",
      "pi\n",
      "0\n",
      "wcm\n",
      "0\n",
      "poi\n",
      "45\n"
     ]
    }
   ],
   "source": [
    "for jsd in jsdaz:\n",
    "    print jsd\n",
    "    rdminza = open(minszlen + jsd, 'r')\n",
    "    rdreda = rdminza.read()\n",
    "    print rdreda\n",
    "    rdminza.close()"
   ]
  },
  {
   "cell_type": "code",
   "execution_count": 35,
   "metadata": {
    "collapsed": true
   },
   "outputs": [],
   "source": [
    "gtim = arrow.now()"
   ]
  },
  {
   "cell_type": "code",
   "execution_count": 39,
   "metadata": {
    "collapsed": true
   },
   "outputs": [],
   "source": [
    "import getpass"
   ]
  },
  {
   "cell_type": "code",
   "execution_count": 40,
   "metadata": {
    "collapsed": true
   },
   "outputs": [],
   "source": [
    "gusr = getpass.getuser"
   ]
  },
  {
   "cell_type": "code",
   "execution_count": 42,
   "metadata": {
    "collapsed": false
   },
   "outputs": [
    {
     "data": {
      "text/plain": [
       "'wcmckee'"
      ]
     },
     "execution_count": 42,
     "metadata": {},
     "output_type": "execute_result"
    }
   ],
   "source": [
    "gusr()"
   ]
  },
  {
   "cell_type": "code",
   "execution_count": 54,
   "metadata": {
    "collapsed": false
   },
   "outputs": [],
   "source": [
    "updatz = ('Updated by ' + gusr() + ' on ')"
   ]
  },
  {
   "cell_type": "code",
   "execution_count": 55,
   "metadata": {
    "collapsed": false
   },
   "outputs": [
    {
     "data": {
      "text/plain": [
       "'2015-04-25 21:14:38.365075+12:00'"
      ]
     },
     "execution_count": 55,
     "metadata": {},
     "output_type": "execute_result"
    }
   ],
   "source": [
    "str(gtim.datetime)"
   ]
  },
  {
   "cell_type": "code",
   "execution_count": 56,
   "metadata": {
    "collapsed": false
   },
   "outputs": [
    {
     "data": {
      "text/plain": [
       "'Updated by wcmckee on '"
      ]
     },
     "execution_count": 56,
     "metadata": {},
     "output_type": "execute_result"
    }
   ],
   "source": [
    "updatz"
   ]
  },
  {
   "cell_type": "code",
   "execution_count": 57,
   "metadata": {
    "collapsed": false
   },
   "outputs": [
    {
     "data": {
      "text/plain": [
       "{u'pi': u'0',\n",
       " u'poi': u'34',\n",
       " u'wcm': u'0',\n",
       " u'wcmckee': u'102',\n",
       " u'zincwhite': u''}"
      ]
     },
     "execution_count": 57,
     "metadata": {},
     "output_type": "execute_result"
    }
   ],
   "source": [
    "jsdaz"
   ]
  },
  {
   "cell_type": "code",
   "execution_count": 58,
   "metadata": {
    "collapsed": false
   },
   "outputs": [],
   "source": [
    "doc = dominate.document(title='BroBeur Minutes')\n",
    "\n",
    "with doc.head:\n",
    "    link(rel='stylesheet', href='style.css')\n",
    "    script(type ='text/javascript', src='script.js')\n",
    "    #str(str2)\n",
    "    \n",
    "    with div().add(ol()):\n",
    "        attr(cls='header')\n",
    "        h1('BroBeur Minutes')\n",
    "        h3(updatz)\n",
    "        h4(str(gtim.datetime))\n",
    "        #p(img('imgs/getsdrawn-bw.png', src='imgs/getsdrawn-bw.png'))\n",
    "        #p(img('imgs/15/01/02/ReptileLover82-reference.png', src= 'imgs/15/01/02/ReptileLover82-reference.png'))\n",
    "        #h1('Updated ', strftime(\"%a, %d %b %Y %H:%M:%S +0000\", gmtime()))\n",
    "        #p(panz)\n",
    "        #p(bodycom)\n",
    "    \n",
    "    \n",
    "\n",
    "with doc:\n",
    "    with div(id='usermins').add(ol()):\n",
    "        for jsd in jsdaz:\n",
    "            h4(jsd)\n",
    "            rdminza = open(minszlen + jsd, 'r')\n",
    "            rdreda = rdminza.read()\n",
    "            p(rdreda)\n",
    "            rdminza.close()\n",
    "            #h1(rdz.title)\n",
    "            #a(rdz.url)\n",
    "            #p(img(rdz, src='%s' % rdz))\n",
    "            #print rdz\n",
    "            #p(img(rdz, src = rdz))\n",
    "            #p(rdz)\n",
    "\n",
    "\n",
    "                \n",
    "            #print rdz.url\n",
    "            #if '.jpg' in rdz.url:\n",
    "            #    img(rdz.urlz)\n",
    "            #else:\n",
    "            #    a(rdz.urlz)\n",
    "            #h1(str(rdz.author))\n",
    "            \n",
    "            #li(img(i.lower(), src='%s' % i))\n",
    "    with div(id='hostuser').add(ol()):\n",
    "        for hosld in hoslidz:\n",
    "            h4(hosld)\n",
    "            rdhoz = open(hoszlen + hosld, 'r')\n",
    "            rehoza = rdhoz.read()\n",
    "            p(rehoza)\n",
    "            rdhoz.close()\n",
    "\n",
    "\n",
    "\n",
    "#print doc"
   ]
  },
  {
   "cell_type": "code",
   "execution_count": 59,
   "metadata": {
    "collapsed": false
   },
   "outputs": [
    {
     "name": "stdout",
     "output_type": "stream",
     "text": [
      "<!DOCTYPE html>\n",
      "<html>\n",
      "  <head>\n",
      "    <title>BroBeur Minutes</title>\n",
      "    <link href=\"style.css\" rel=\"stylesheet\"><script src=\"script.js\" type=\"text/javascript\"></script>\n",
      "    <div>\n",
      "      <ol class=\"header\">\n",
      "        <h1>BroBeur Minutes</h1>\n",
      "        <h3>Updated by wcmckee on </h3>\n",
      "        <h4>2015-04-25 21:14:38.365075+12:00</h4>\n",
      "      </ol>\n",
      "    </div>\n",
      "  </head>\n",
      "  <body>\n",
      "    <div id=\"usermins\">\n",
      "      <ol>\n",
      "        <h4>wcmckee</h4>\n",
      "        <p>225</p>\n",
      "        <h4>zincwhite</h4>\n",
      "        <p></p>\n",
      "        <h4>pi</h4>\n",
      "        <p>0</p>\n",
      "        <h4>wcm</h4>\n",
      "        <p>0</p>\n",
      "        <h4>poi</h4>\n",
      "        <p>75</p>\n",
      "      </ol>\n",
      "    </div>\n",
      "    <div id=\"hostuser\">\n",
      "      <ol>\n",
      "        <h4>bluecookies</h4>\n",
      "        <p>poi wcmckee wcmckee wcmckee wcmckee wcmckee\n",
      "</p>\n",
      "        <h4>naplesyellow</h4>\n",
      "        <p></p>\n",
      "        <h4>corlsbudcayon</h4>\n",
      "        <p>wcmckee\n",
      "</p>\n",
      "        <h4>zincwhite</h4>\n",
      "        <p>wcmckee wcmckee\n",
      "</p>\n",
      "      </ol>\n",
      "    </div>\n",
      "  </body>\n",
      "</html>\n"
     ]
    }
   ],
   "source": [
    "print doc"
   ]
  },
  {
   "cell_type": "code",
   "execution_count": 60,
   "metadata": {
    "collapsed": true
   },
   "outputs": [],
   "source": [
    "docre = doc.render()\n",
    "#s = docre.decode('ascii', 'ignore')\n",
    "yourstring = docre.encode('ascii', 'ignore').decode('ascii')\n",
    "indfil = ('/home/wcmckee/index.html')\n",
    "mkind = open(indfil, 'w')\n",
    "mkind.write(yourstring)\n",
    "mkind.close()"
   ]
  },
  {
   "cell_type": "code",
   "execution_count": null,
   "metadata": {
    "collapsed": true
   },
   "outputs": [],
   "source": []
  }
 ],
 "metadata": {
  "kernelspec": {
   "display_name": "Python 2",
   "language": "python",
   "name": "python2"
  },
  "language_info": {
   "codemirror_mode": {
    "name": "ipython",
    "version": 2
   },
   "file_extension": ".py",
   "mimetype": "text/x-python",
   "name": "python",
   "nbconvert_exporter": "python",
   "pygments_lexer": "ipython2",
   "version": "2.7.3"
  }
 },
 "nbformat": 4,
 "nbformat_minor": 0
}
