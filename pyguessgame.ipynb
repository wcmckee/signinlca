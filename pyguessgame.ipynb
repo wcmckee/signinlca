{
 "cells": [
  {
   "cell_type": "code",
   "execution_count": 19,
   "metadata": {
    "collapsed": true
   },
   "outputs": [],
   "source": [
    "import random\n",
    "import urwid\n",
    "\n",
    "from pyfiglet import Figlet"
   ]
  },
  {
   "cell_type": "markdown",
   "metadata": {},
   "source": [
    "Started as a simple python guessing game to be ran in terminal. \n",
    "Asks for a number between 0-10 and works up to 100 - asking for the next 10 each time. \n",
    "On win a urwid screen shows with 'You Win'. It would be nice if the whole game was inside of urwid.\n",
    "Figlet intergration. "
   ]
  },
  {
   "cell_type": "code",
   "execution_count": 20,
   "metadata": {
    "collapsed": false
   },
   "outputs": [],
   "source": [
    "f = Figlet()"
   ]
  },
  {
   "cell_type": "code",
   "execution_count": 21,
   "metadata": {
    "collapsed": false
   },
   "outputs": [
    {
     "name": "stdout",
     "output_type": "stream",
     "text": [
      "                                                                  \n",
      " _ __  _   _  __ _ _   _  ___  ___ ___  __ _  __ _ _ __ ___   ___ \n",
      "| '_ \\| | | |/ _` | | | |/ _ \\/ __/ __|/ _` |/ _` | '_ ` _ \\ / _ \\\n",
      "| |_) | |_| | (_| | |_| |  __/\\__ \\__ \\ (_| | (_| | | | | | |  __/\n",
      "| .__/ \\__, |\\__, |\\__,_|\\___||___/___/\\__, |\\__,_|_| |_| |_|\\___|\n",
      "|_|    |___/ |___/                     |___/                      \n",
      "\n"
     ]
    }
   ],
   "source": [
    "print f.renderText('pyguessgame')"
   ]
  },
  {
   "cell_type": "code",
   "execution_count": null,
   "metadata": {
    "collapsed": false
   },
   "outputs": [],
   "source": [
    "def exitq(key):\n",
    "    if key in ('enter', 'return'):\n",
    "        raise urwid.ExitMainLoop()"
   ]
  },
  {
   "cell_type": "code",
   "execution_count": null,
   "metadata": {
    "collapsed": false
   },
   "outputs": [],
   "source": [
    "pallette = [\n",
    "    ('banner', 'dark red', 'dark blue'),\n",
    "    ('streak', 'dark red', 'dark blue'),\n",
    "    ('bg', 'dark red', 'dark blue'),]"
   ]
  },
  {
   "cell_type": "code",
   "execution_count": null,
   "metadata": {
    "collapsed": true
   },
   "outputs": [],
   "source": [
    "numchez = 0"
   ]
  },
  {
   "cell_type": "code",
   "execution_count": null,
   "metadata": {
    "collapsed": false
   },
   "outputs": [],
   "source": [
    "for guesz in range(10):\n",
    "    farchez = (numchez)\n",
    "    numchez = (numchez + 10)\n",
    "    \n",
    "    def GetNum():\n",
    "        return random.randint(farchez,numchez)\n",
    "    \n",
    "    randnum = GetNum()\n",
    "    \n",
    "    lownumz = (numchez)\n",
    "    \n",
    "    innumz = ('Enter a number between ' + str(farchez) + ' and ' + str(lownumz) + ': ')\n",
    "    \n",
    "    guessnum = raw_input(innumz)\n",
    "    \n",
    "    guesintz = int(guessnum)\n",
    "    \n",
    "    print ('Guess was: ' + str(guesintz))\n",
    "    print ('Correct was: ' + str(randnum))\n",
    "    \n",
    "    if guesintz == randnum:\n",
    "        txt = urwid.Text(f.renderText('You Win!'))\n",
    "        map1 = urwid.AttrMap(txt, 'streak')\n",
    "        fil = urwid.Filler(map1)\n",
    "        map2 = urwid.AttrMap(fil, 'bg')\n",
    "        loop = urwid.MainLoop(fil, pallette, unhandled_input=exitq)\n",
    "        loop.run()\n",
    "        print f.renderText('You Win!')\n",
    "    else:\n",
    "        txt = urwid.Text(f.renderText('You Lose!'))\n",
    "        map1 = urwid.AttrMap(txt, 'streak')\n",
    "        fil = urwid.Filler(map1)\n",
    "        map2 = urwid.AttrMap(fil, 'bg')\n",
    "        loop = urwid.MainLoop(fil, pallette, unhandled_input=exitq)\n",
    "        loop.run()\n",
    "        print f.renderText('You lose!')"
   ]
  },
  {
   "cell_type": "code",
   "execution_count": null,
   "metadata": {
    "collapsed": true
   },
   "outputs": [],
   "source": []
  }
 ],
 "metadata": {
  "kernelspec": {
   "display_name": "Python 2",
   "name": "python2"
  },
  "language_info": {
   "codemirror_mode": {
    "name": "ipython",
    "version": 2
   },
   "file_extension": ".py",
   "mimetype": "text/x-python",
   "name": "python",
   "nbconvert_exporter": "python",
   "pygments_lexer": "ipython2",
   "version": "2.7.8"
  }
 },
 "nbformat": 4,
 "nbformat_minor": 0
}
