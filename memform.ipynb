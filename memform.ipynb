{
 "cells": [
  {
   "cell_type": "markdown",
   "metadata": {},
   "source": [
    "Membership Form\n",
    "\n",
    "Script to help fill out a form. "
   ]
  },
  {
   "cell_type": "code",
   "execution_count": 18,
   "metadata": {
    "collapsed": true
   },
   "outputs": [],
   "source": [
    "import json\n",
    "import os\n",
    "import getpass"
   ]
  },
  {
   "cell_type": "code",
   "execution_count": 19,
   "metadata": {
    "collapsed": true
   },
   "outputs": [],
   "source": [
    "getusr = getpass.getuser()"
   ]
  },
  {
   "cell_type": "code",
   "execution_count": 20,
   "metadata": {
    "collapsed": false
   },
   "outputs": [
    {
     "data": {
      "text/plain": [
       "'wcmckee'"
      ]
     },
     "execution_count": 20,
     "metadata": {},
     "output_type": "execute_result"
    }
   ],
   "source": [
    "getusr"
   ]
  },
  {
   "cell_type": "code",
   "execution_count": null,
   "metadata": {
    "collapsed": true
   },
   "outputs": [],
   "source": [
    "#Too many input. What about looping through a conf file \n",
    "#each line in conf file is new question. each line is \n",
    "#assigned var that is then turned into \n",
    "#KEY and VALUE user input.\n",
    "#"
   ]
  },
  {
   "cell_type": "code",
   "execution_count": 14,
   "metadata": {
    "collapsed": true
   },
   "outputs": [],
   "source": [
    "fordict = dict()"
   ]
  },
  {
   "cell_type": "code",
   "execution_count": null,
   "metadata": {
    "collapsed": true
   },
   "outputs": [],
   "source": [
    "print ('Parent to complete this section: ')\n",
    "firnam = raw_input('first name: ')\n",
    "lasnam = raw_input('last name: ')\n",
    "adrs = raw_input('street number and name: ')\n",
    "adtow = raw_input('city/town: ')\n",
    "fordict.update({'firstname': firnam, 'lastname': lasnam, 'street': adrs, 'city': adtow})\n",
    "\n",
    "hnum = raw_input('home number: ')\n",
    "mnum = raw_input('mobile number: ')\n",
    "\n",
    "emad = raw_input('email address: ')\n",
    "\n",
    "skol = raw_input('school: ')\n",
    "fordict.update({'homenumber': hnum, 'mobilenumber': mnum, 'emailaddr': emad, 'school': skol})\n",
    "\n",
    "yrlvl = raw_input('year of school (0 for left): ')\n",
    "\n",
    "gndr = raw_input('gender: ')\n",
    "\n",
    "ethnic = raw_input('ethnicity: ')\n",
    "\n",
    "fordict.update({'year': yrlvl, 'gender': gndr, 'ethnic': ethnic})\n",
    "\n",
    "npare = raw_input('Name of Parent: ')\n",
    "\n",
    "empar = raw_input('Email address of Parent: ')\n",
    "\n",
    "phpar = raw_input('Home number of Parent: ')\n",
    "\n",
    "phwor = raw_input('Work number of Parent: ')\n",
    "\n",
    "phmol = raw_input('Mobile number of Parent: ')\n",
    "\n",
    "fordict.update({'nameparent': npare, 'emailparent': empar, 'homenumparent': phpar, 'worknumparent': phwor, 'mobilenumparent': phmol})\n",
    "\n",
    "\n",
    "dietreq = raw_input('Any dietary requirments? ')\n",
    "\n",
    "medcond = raw_input('Details of any medical conditions we should be aware of: ')\n",
    "\n",
    "permis = raw_input('Do you give permission to enrol in YouthTek15, attend bus trip to Wellington and for photos to be used for reporting and promotional purposes ')\n",
    "\n",
    "transpor = raw_input('I can provide safe transport to and from Te Takere each day ')\n",
    "\n",
    "signam = raw_input('Signature: ')\n",
    "fordict.update({'diet': dietreq, 'permission': permis, 'transport': transpor})"
   ]
  },
  {
   "cell_type": "code",
   "execution_count": 9,
   "metadata": {
    "collapsed": false
   },
   "outputs": [
    {
     "data": {
      "text/plain": [
       "{'city': 'levin',\n",
       " 'diet': 'no',\n",
       " 'emailaddr': 'will@artcontrol.me',\n",
       " 'emailparent': 'billymckee123@gmail.com',\n",
       " 'ethnic': 'white',\n",
       " 'firstname': 'will',\n",
       " 'gender': 'male',\n",
       " 'homenumber': '123',\n",
       " 'homenumparent': '123',\n",
       " 'lastname': 'mckee',\n",
       " 'mobilenumber': '123',\n",
       " 'mobilenumparent': '123',\n",
       " 'nameparent': 'billy',\n",
       " 'permission': 'yes',\n",
       " 'school': 'nua',\n",
       " 'street': '16',\n",
       " 'transport': 'yes',\n",
       " 'worknumparent': '123',\n",
       " 'year': '0'}"
      ]
     },
     "execution_count": 9,
     "metadata": {},
     "output_type": "execute_result"
    }
   ],
   "source": [
    "fordict"
   ]
  },
  {
   "cell_type": "code",
   "execution_count": 10,
   "metadata": {
    "collapsed": false
   },
   "outputs": [
    {
     "name": "stdout",
     "output_type": "stream",
     "text": [
      "Student to complete this sectionn: \n",
      "Why do you wish to participate in YouthTek15: cos you are cool\n",
      "What IT experience do you have: made a site or 7\n",
      "Where did you hear able YouthTek15? jd\n",
      "Bus Trip is only for those that attend full week: ok\n",
      "I will actively participate in the project fully for the whole week.ok\n",
      "Signature: wcm\n"
     ]
    }
   ],
   "source": [
    "print ('Student to complete this sectionn: ')\n",
    "\n",
    "whycom = raw_input('Why do you wish to participate in YouthTek15: ')\n",
    "\n",
    "\n",
    "whatit = raw_input('What IT experience do you have: ')\n",
    "\n",
    "whereyt = raw_input('Where did you hear able YouthTek15? ')\n",
    "\n",
    "fordict.update({'why': whycom, 'what': whatit, 'where': whereyt})\n",
    "undstan = raw_input('Bus Trip is only for those that attend full week: ')\n",
    "\n",
    "partful = raw_input('I will actively participate in the project fully for the whole week.')\n",
    "\n",
    "\n",
    "signatz = raw_input('Signature/username/screenname you want: ')\n",
    "\n",
    "fordict.update({'bus': undstan, 'participate': partful, 'studsign': signatz})"
   ]
  },
  {
   "cell_type": "code",
   "execution_count": 11,
   "metadata": {
    "collapsed": false
   },
   "outputs": [
    {
     "name": "stdout",
     "output_type": "stream",
     "text": [
      "School teacher to complete this section\n",
      "Comments: student is cool\n",
      "I fully support the application form: yes\n",
      "Signature: wbk\n",
      "Name and Position: wbk\n"
     ]
    }
   ],
   "source": [
    "print ('School teacher to complete this section')\n",
    "\n",
    "sccom = raw_input('Comments: ')\n",
    "\n",
    "supportthis = raw_input('I fully support the application form: ')\n",
    "\n",
    "signza = raw_input('Signature: ')\n",
    "\n",
    "napost = raw_input('Name and Position: ')\n",
    "\n",
    "fordict.update({'teacom': sccom, 'teasup': supportthis, 'teasig': signza, 'teanampos': napost})"
   ]
  },
  {
   "cell_type": "code",
   "execution_count": 12,
   "metadata": {
    "collapsed": false
   },
   "outputs": [
    {
     "data": {
      "text/plain": [
       "{'bus': 'ok',\n",
       " 'city': 'levin',\n",
       " 'diet': 'no',\n",
       " 'emailaddr': 'will@artcontrol.me',\n",
       " 'emailparent': 'billymckee123@gmail.com',\n",
       " 'ethnic': 'white',\n",
       " 'firstname': 'will',\n",
       " 'gender': 'male',\n",
       " 'homenumber': '123',\n",
       " 'homenumparent': '123',\n",
       " 'lastname': 'mckee',\n",
       " 'mobilenumber': '123',\n",
       " 'mobilenumparent': '123',\n",
       " 'nameparent': 'billy',\n",
       " 'participate': 'ok',\n",
       " 'permission': 'yes',\n",
       " 'school': 'nua',\n",
       " 'street': '16',\n",
       " 'studsign': 'wcm',\n",
       " 'teacom': 'student is cool',\n",
       " 'teanampos': 'wbk',\n",
       " 'teasig': 'wbk',\n",
       " 'teasup': 'yes',\n",
       " 'transport': 'yes',\n",
       " 'what': 'made a site or 7',\n",
       " 'where': 'jd',\n",
       " 'why': 'cos you are cool',\n",
       " 'worknumparent': '123',\n",
       " 'year': '0'}"
      ]
     },
     "execution_count": 12,
     "metadata": {},
     "output_type": "execute_result"
    }
   ],
   "source": [
    "fordict"
   ]
  },
  {
   "cell_type": "code",
   "execution_count": 16,
   "metadata": {
    "collapsed": true
   },
   "outputs": [],
   "source": [
    "convjson = json.dumps(fordict)"
   ]
  },
  {
   "cell_type": "code",
   "execution_count": 17,
   "metadata": {
    "collapsed": false
   },
   "outputs": [
    {
     "data": {
      "text/plain": [
       "'{\"city\": \"town\", \"school\": \"123\", \"emailparent\": \"123\", \"firstname\": \"william\", \"mobilenumber\": \"123\", \"homenumber\": \"123\", \"lastname\": \"mckee\", \"ethnic\": \"123\", \"year\": \"123\", \"nameparent\": \"123\", \"emailaddr\": \"123\", \"permission\": \"123\", \"homenumparent\": \"123\", \"street\": \"12 red street\", \"diet\": \"123\", \"gender\": \"123\", \"worknumparent\": \"123\", \"mobilenumparent\": \"123\", \"transport\": \"123\"}'"
      ]
     },
     "execution_count": 17,
     "metadata": {},
     "output_type": "execute_result"
    }
   ],
   "source": [
    "convjson"
   ]
  },
  {
   "cell_type": "code",
   "execution_count": 22,
   "metadata": {
    "collapsed": false
   },
   "outputs": [
    {
     "data": {
      "text/plain": [
       "'wcmckee'"
      ]
     },
     "execution_count": 22,
     "metadata": {},
     "output_type": "execute_result"
    }
   ],
   "source": [
    "#Check to see if the username already there - if so error and ask for new username."
   ]
  },
  {
   "cell_type": "code",
   "execution_count": 25,
   "metadata": {
    "collapsed": false
   },
   "outputs": [
    {
     "name": "stdout",
     "output_type": "stream",
     "text": [
      "its true\n"
     ]
    }
   ],
   "source": [
    "if os.path.isdir('/home/' + getusr + '/membapp/') == True:\n",
    "    print 'its true'\n",
    "else:\n",
    "    print 'its false'\n",
    "    os.mkdir('/home/' + getusr + '/membapp/')"
   ]
  },
  {
   "cell_type": "code",
   "execution_count": 26,
   "metadata": {
    "collapsed": false
   },
   "outputs": [
    {
     "name": "stdout",
     "output_type": "stream",
     "text": [
      "its false\n"
     ]
    }
   ],
   "source": [
    "if os.path.isdir('/home/' + getusr + '/membapp/' + signatz) == True:\n",
    "    print 'its true'\n",
    "else:\n",
    "    print 'its false'\n",
    "    os.mkdir('/home/' + getusr + '/membapp/' + signatz)"
   ]
  },
  {
   "cell_type": "code",
   "execution_count": 27,
   "metadata": {
    "collapsed": false
   },
   "outputs": [],
   "source": [
    "#save json file in /home/username/membapp/ usernames signatz.\n",
    "\n",
    "fulurl = open('/home/' + getusr + '/membapp/' + signatz + '/app.json', 'w')"
   ]
  },
  {
   "cell_type": "code",
   "execution_count": 28,
   "metadata": {
    "collapsed": true
   },
   "outputs": [],
   "source": [
    "fulurl.write(convjson)\n",
    "fulurl.close()"
   ]
  },
  {
   "cell_type": "code",
   "execution_count": null,
   "metadata": {
    "collapsed": true
   },
   "outputs": [],
   "source": []
  }
 ],
 "metadata": {
  "kernelspec": {
   "display_name": "Python 2",
   "name": "python2"
  },
  "language_info": {
   "codemirror_mode": {
    "name": "ipython",
    "version": 2
   },
   "file_extension": ".py",
   "mimetype": "text/x-python",
   "name": "python",
   "nbconvert_exporter": "python",
   "pygments_lexer": "ipython2",
   "version": "2.7.9"
  }
 },
 "nbformat": 4,
 "nbformat_minor": 0
}
