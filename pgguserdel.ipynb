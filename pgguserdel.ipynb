{
 "cells": [
  {
   "cell_type": "code",
   "execution_count": 1,
   "metadata": {
    "collapsed": true
   },
   "outputs": [],
   "source": [
    "import os\n",
    "import getpass\n",
    "from passlib.hash import pbkdf2_sha256\n",
    "import crypt, getpass, spwd\n"
   ]
  },
  {
   "cell_type": "code",
   "execution_count": 2,
   "metadata": {
    "collapsed": true
   },
   "outputs": [],
   "source": [
    "fuliz = os.listdir('/home')"
   ]
  },
  {
   "cell_type": "code",
   "execution_count": 3,
   "metadata": {
    "collapsed": false
   },
   "outputs": [
    {
     "data": {
      "text/plain": [
       "['tnow',\n",
       " 'sjohns',\n",
       " 'signinlca.py',\n",
       " 'charle',\n",
       " 'wcm',\n",
       " 'wmck',\n",
       " 'wmen',\n",
       " 'webmck',\n",
       " 'pjohns',\n",
       " 'red',\n",
       " 'wez',\n",
       " 'checkthis',\n",
       " 'blah',\n",
       " 'joeman',\n",
       " 'wkee',\n",
       " 'jchick',\n",
       " 'wcmckee',\n",
       " 'wblack',\n",
       " 'joemanz',\n",
       " 'poiu',\n",
       " 'poi',\n",
       " 'qwe',\n",
       " 'point',\n",
       " 'cvb',\n",
       " 'pytest',\n",
       " 'figlet',\n",
       " 'blag',\n",
       " 'gerty',\n",
       " 'jblog',\n",
       " 'ssung',\n",
       " 'clittle',\n",
       " 'joecheck',\n",
       " 'yellow']"
      ]
     },
     "execution_count": 3,
     "metadata": {},
     "output_type": "execute_result"
    }
   ],
   "source": [
    "fuliz"
   ]
  },
  {
   "cell_type": "code",
   "execution_count": 4,
   "metadata": {
    "collapsed": true
   },
   "outputs": [],
   "source": [
    "#Chabge password for user\n",
    "#pasuz = raw_input('User to change password: ')"
   ]
  },
  {
   "cell_type": "code",
   "execution_count": 5,
   "metadata": {
    "collapsed": true
   },
   "outputs": [],
   "source": [
    "#logtest = getpass.getpass('new password: ')\n",
    "\n",
    "#loghash = pbkdf2_sha256.encrypt(logtest, rounds=200000, salt_size=16)\n",
    "#vercryp = pbkdf2_sha256.verify(logtest, hashez)"
   ]
  },
  {
   "cell_type": "code",
   "execution_count": 6,
   "metadata": {
    "collapsed": true
   },
   "outputs": [],
   "source": [
    "#Enter user to delete.\n",
    "#Even better, user to lock.\n",
    "\n",
    "#delusa = raw_input('User to delete: ')\n",
    "#locusa = raw_input('User to lock: ')\n",
    "#os.system('sudo passwd -l ' + locusa) "
   ]
  },
  {
   "cell_type": "code",
   "execution_count": 7,
   "metadata": {
    "collapsed": false
   },
   "outputs": [],
   "source": [
    "#Read hashed passwords from /etc/shadow\n",
    "#opshad = open('/etc/shadow', 'r')\n",
    "#opshad.read()\n",
    "#opshad.close()\n",
    "#Better to do this with a python module. spwd reads\n",
    "#shadow files done.\n",
    "#Need to getpass and ask for password, comparing to \n",
    "#the password returned from spwd"
   ]
  },
  {
   "cell_type": "code",
   "execution_count": 8,
   "metadata": {
    "collapsed": true
   },
   "outputs": [],
   "source": [
    "pan = 'wcmckee'"
   ]
  },
  {
   "cell_type": "code",
   "execution_count": 9,
   "metadata": {
    "collapsed": false
   },
   "outputs": [
    {
     "ename": "KeyError",
     "evalue": "'getspnam(): name not found'",
     "output_type": "error",
     "traceback": [
      "\u001b[1;31m---------------------------------------------------------------------------\u001b[0m",
      "\u001b[1;31mKeyError\u001b[0m                                  Traceback (most recent call last)",
      "\u001b[1;32m<ipython-input-9-a51779aa630e>\u001b[0m in \u001b[0;36m<module>\u001b[1;34m()\u001b[0m\n\u001b[1;32m----> 1\u001b[1;33m \u001b[0menc_pwd\u001b[0m \u001b[1;33m=\u001b[0m \u001b[0mspwd\u001b[0m\u001b[1;33m.\u001b[0m\u001b[0mgetspnam\u001b[0m\u001b[1;33m(\u001b[0m\u001b[0mpan\u001b[0m\u001b[1;33m)\u001b[0m\u001b[1;33m[\u001b[0m\u001b[1;36m1\u001b[0m\u001b[1;33m]\u001b[0m\u001b[1;33m\u001b[0m\u001b[0m\n\u001b[0m\u001b[0;32m      2\u001b[0m \u001b[1;32mif\u001b[0m \u001b[0menc_pwd\u001b[0m \u001b[1;32min\u001b[0m \u001b[1;33m[\u001b[0m\u001b[1;34m\"NP\"\u001b[0m\u001b[1;33m,\u001b[0m \u001b[1;34m\"!\"\u001b[0m\u001b[1;33m,\u001b[0m \u001b[1;34m\"\"\u001b[0m\u001b[1;33m,\u001b[0m \u001b[0mNone\u001b[0m\u001b[1;33m]\u001b[0m\u001b[1;33m:\u001b[0m\u001b[1;33m\u001b[0m\u001b[0m\n\u001b[0;32m      3\u001b[0m     \u001b[1;32mprint\u001b[0m \u001b[1;34m\"user '%s' has no password set\"\u001b[0m \u001b[1;33m%\u001b[0m \u001b[0mpan\u001b[0m\u001b[1;33m\u001b[0m\u001b[0m\n\u001b[0;32m      4\u001b[0m \u001b[1;32mif\u001b[0m \u001b[0menc_pwd\u001b[0m \u001b[1;32min\u001b[0m \u001b[1;33m[\u001b[0m\u001b[1;34m\"LK\"\u001b[0m\u001b[1;33m,\u001b[0m \u001b[1;34m\"*\"\u001b[0m\u001b[1;33m]\u001b[0m\u001b[1;33m:\u001b[0m\u001b[1;33m\u001b[0m\u001b[0m\n\u001b[0;32m      5\u001b[0m     \u001b[1;32mprint\u001b[0m \u001b[1;34m\"account is locked\"\u001b[0m\u001b[1;33m\u001b[0m\u001b[0m\n",
      "\u001b[1;31mKeyError\u001b[0m: 'getspnam(): name not found'"
     ]
    }
   ],
   "source": [
    "#enc_pwd = spwd.getspnam(pan)[1]\n",
    "#if enc_pwd in [\"NP\", \"!\", \"\", None]:\n",
    "#    print \"user '%s' has no password set\" % pan\n",
    "#if enc_pwd in [\"LK\", \"*\"]:\n",
    "#    print \"account is locked\"\n",
    "#if enc_pwd == \"!!\":\n",
    "#    print \"password has expired\""
   ]
  },
  {
   "cell_type": "code",
   "execution_count": 14,
   "metadata": {
    "collapsed": false
   },
   "outputs": [
    {
     "name": "stdout",
     "output_type": "stream",
     "text": [
      "Enter Username Password: ········\n"
     ]
    }
   ],
   "source": [
    "gpas = getpass.getpass('Enter Username Password: ')"
   ]
  },
  {
   "cell_type": "code",
   "execution_count": 21,
   "metadata": {
    "collapsed": false
   },
   "outputs": [
    {
     "ename": "KeyError",
     "evalue": "'getspnam(): name not found'",
     "output_type": "error",
     "traceback": [
      "\u001b[1;31m---------------------------------------------------------------------------\u001b[0m",
      "\u001b[1;31mKeyError\u001b[0m                                  Traceback (most recent call last)",
      "\u001b[1;32m<ipython-input-21-9aef7c527eb2>\u001b[0m in \u001b[0;36m<module>\u001b[1;34m()\u001b[0m\n\u001b[1;32m----> 1\u001b[1;33m \u001b[0mencpass\u001b[0m \u001b[1;33m=\u001b[0m \u001b[0mspwd\u001b[0m\u001b[1;33m.\u001b[0m\u001b[0mgetspnam\u001b[0m\u001b[1;33m(\u001b[0m\u001b[0mpan\u001b[0m\u001b[1;33m)\u001b[0m\u001b[1;33m[\u001b[0m\u001b[1;36m1\u001b[0m\u001b[1;33m]\u001b[0m\u001b[1;33m\u001b[0m\u001b[0m\n\u001b[0m",
      "\u001b[1;31mKeyError\u001b[0m: 'getspnam(): name not found'"
     ]
    }
   ],
   "source": [
    "encpass = spwd.getspnam(pan)[1]"
   ]
  },
  {
   "cell_type": "code",
   "execution_count": 20,
   "metadata": {
    "collapsed": false
   },
   "outputs": [
    {
     "ename": "NameError",
     "evalue": "name 'encpass' is not defined",
     "output_type": "error",
     "traceback": [
      "\u001b[1;31m---------------------------------------------------------------------------\u001b[0m",
      "\u001b[1;31mNameError\u001b[0m                                 Traceback (most recent call last)",
      "\u001b[1;32m<ipython-input-20-4efe7353fce3>\u001b[0m in \u001b[0;36m<module>\u001b[1;34m()\u001b[0m\n\u001b[1;32m----> 1\u001b[1;33m \u001b[1;32mif\u001b[0m \u001b[0mcrypt\u001b[0m\u001b[1;33m.\u001b[0m\u001b[0mcrypt\u001b[0m\u001b[1;33m(\u001b[0m\u001b[0mgpas\u001b[0m\u001b[1;33m,\u001b[0m \u001b[0mencpass\u001b[0m\u001b[1;33m)\u001b[0m \u001b[1;33m==\u001b[0m \u001b[0mencpass\u001b[0m\u001b[1;33m:\u001b[0m\u001b[1;33m\u001b[0m\u001b[0m\n\u001b[0m\u001b[0;32m      2\u001b[0m     \u001b[1;32mprint\u001b[0m \u001b[1;33m(\u001b[0m\u001b[1;34m'True'\u001b[0m\u001b[1;33m)\u001b[0m\u001b[1;33m\u001b[0m\u001b[0m\n\u001b[0;32m      3\u001b[0m \u001b[1;32melse\u001b[0m\u001b[1;33m:\u001b[0m\u001b[1;33m\u001b[0m\u001b[0m\n\u001b[0;32m      4\u001b[0m     \u001b[1;32mprint\u001b[0m \u001b[1;34m\"incorrect password\"\u001b[0m\u001b[1;33m\u001b[0m\u001b[0m\n",
      "\u001b[1;31mNameError\u001b[0m: name 'encpass' is not defined"
     ]
    }
   ],
   "source": [
    "if crypt.crypt(gpas, encpass) == encpass:\n",
    "    print ('True')\n",
    "else:\n",
    "    print \"incorrect password\""
   ]
  },
  {
   "cell_type": "code",
   "execution_count": 10,
   "metadata": {
    "collapsed": false
   },
   "outputs": [
    {
     "ename": "KeyError",
     "evalue": "'getspnam(): name not found'",
     "output_type": "error",
     "traceback": [
      "\u001b[1;31m---------------------------------------------------------------------------\u001b[0m",
      "\u001b[1;31mKeyError\u001b[0m                                  Traceback (most recent call last)",
      "\u001b[1;32m<ipython-input-10-ff512ce3d740>\u001b[0m in \u001b[0;36m<module>\u001b[1;34m()\u001b[0m\n\u001b[1;32m----> 1\u001b[1;33m \u001b[1;32mprint\u001b[0m \u001b[0mspwd\u001b[0m\u001b[1;33m.\u001b[0m\u001b[0mgetspnam\u001b[0m\u001b[1;33m(\u001b[0m\u001b[0mpan\u001b[0m\u001b[1;33m)\u001b[0m\u001b[1;33m[\u001b[0m\u001b[1;36m1\u001b[0m\u001b[1;33m]\u001b[0m\u001b[1;33m\u001b[0m\u001b[0m\n\u001b[0m",
      "\u001b[1;31mKeyError\u001b[0m: 'getspnam(): name not found'"
     ]
    }
   ],
   "source": [
    "print spwd.getspnam(pan)[1]"
   ]
  },
  {
   "cell_type": "code",
   "execution_count": 11,
   "metadata": {
    "collapsed": false
   },
   "outputs": [
    {
     "ename": "KeyError",
     "evalue": "'getspnam(): name not found'",
     "output_type": "error",
     "traceback": [
      "\u001b[1;31m---------------------------------------------------------------------------\u001b[0m",
      "\u001b[1;31mKeyError\u001b[0m                                  Traceback (most recent call last)",
      "\u001b[1;32m<ipython-input-11-9b7bc2baf135>\u001b[0m in \u001b[0;36m<module>\u001b[1;34m()\u001b[0m\n\u001b[1;32m----> 1\u001b[1;33m \u001b[0mshpa\u001b[0m \u001b[1;33m=\u001b[0m \u001b[0mspwd\u001b[0m\u001b[1;33m.\u001b[0m\u001b[0mgetspnam\u001b[0m\u001b[1;33m(\u001b[0m\u001b[1;34m'wcmckee'\u001b[0m\u001b[1;33m)\u001b[0m\u001b[1;33m[\u001b[0m\u001b[1;36m1\u001b[0m\u001b[1;33m]\u001b[0m\u001b[1;33m\u001b[0m\u001b[0m\n\u001b[0m",
      "\u001b[1;31mKeyError\u001b[0m: 'getspnam(): name not found'"
     ]
    }
   ],
   "source": [
    "#shpa = spwd.getspnam('wcmckee')[1]"
   ]
  },
  {
   "cell_type": "code",
   "execution_count": 12,
   "metadata": {
    "collapsed": false
   },
   "outputs": [],
   "source": [
    "#spwd.getspall()"
   ]
  },
  {
   "cell_type": "code",
   "execution_count": 13,
   "metadata": {
    "collapsed": false
   },
   "outputs": [
    {
     "ename": "NameError",
     "evalue": "name 'shpa' is not defined",
     "output_type": "error",
     "traceback": [
      "\u001b[1;31m---------------------------------------------------------------------------\u001b[0m",
      "\u001b[1;31mNameError\u001b[0m                                 Traceback (most recent call last)",
      "\u001b[1;32m<ipython-input-13-8e6290136429>\u001b[0m in \u001b[0;36m<module>\u001b[1;34m()\u001b[0m\n\u001b[1;32m----> 1\u001b[1;33m \u001b[0mshpa\u001b[0m\u001b[1;33m\u001b[0m\u001b[0m\n\u001b[0m",
      "\u001b[1;31mNameError\u001b[0m: name 'shpa' is not defined"
     ]
    }
   ],
   "source": [
    "#shpa"
   ]
  },
  {
   "cell_type": "code",
   "execution_count": 13,
   "metadata": {
    "collapsed": true
   },
   "outputs": [],
   "source": []
  },
  {
   "cell_type": "code",
   "execution_count": 13,
   "metadata": {
    "collapsed": true
   },
   "outputs": [],
   "source": []
  },
  {
   "cell_type": "code",
   "execution_count": null,
   "metadata": {
    "collapsed": true
   },
   "outputs": [],
   "source": []
  }
 ],
 "metadata": {
  "kernelspec": {
   "display_name": "Python 2",
   "name": "python2"
  },
  "language_info": {
   "codemirror_mode": {
    "name": "ipython",
    "version": 2
   },
   "file_extension": ".py",
   "mimetype": "text/x-python",
   "name": "python",
   "nbconvert_exporter": "python",
   "pygments_lexer": "ipython2",
   "version": "2.7.8"
  }
 },
 "nbformat": 4,
 "nbformat_minor": 0
}
