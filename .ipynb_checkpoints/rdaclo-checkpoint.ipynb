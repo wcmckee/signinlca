{
 "cells": [
  {
   "cell_type": "markdown",
   "metadata": {},
   "source": [
    "rdaclo\n",
    "\n",
    "read account loop\n",
    "\n",
    "Script that does things depending on how much time the user has. Reads time file that is a dict with key of user and value is time\n",
    "\n",
    "This script adds +1 to each user logged into a system.\n",
    "\n",
    "This is the client machine - all slaves get their data sent to this.\n",
    "This script should run every min on the client machine. "
   ]
  },
  {
   "cell_type": "code",
   "execution_count": 14,
   "metadata": {
    "collapsed": false
   },
   "outputs": [],
   "source": [
    "import json\n",
    "import os\n",
    "#import configparser\n",
    "import socket\n",
    "import dominate\n",
    "from dominate.tags import * \n",
    "\n",
    "import getpass"
   ]
  },
  {
   "cell_type": "code",
   "execution_count": 15,
   "metadata": {
    "collapsed": true
   },
   "outputs": [],
   "source": [
    "getusr = getpass.getuser()"
   ]
  },
  {
   "cell_type": "code",
   "execution_count": null,
   "metadata": {
    "collapsed": true
   },
   "outputs": [],
   "source": []
  },
  {
   "cell_type": "code",
   "execution_count": 3,
   "metadata": {
    "collapsed": false
   },
   "outputs": [],
   "source": [
    "myhosn = socket.gethostname()\n"
   ]
  },
  {
   "cell_type": "code",
   "execution_count": 4,
   "metadata": {
    "collapsed": false
   },
   "outputs": [],
   "source": [
    "#rdmins"
   ]
  },
  {
   "cell_type": "code",
   "execution_count": 5,
   "metadata": {
    "collapsed": true
   },
   "outputs": [],
   "source": [
    "intres = []"
   ]
  },
  {
   "cell_type": "code",
   "execution_count": 6,
   "metadata": {
    "collapsed": true
   },
   "outputs": [],
   "source": [
    "curmins = dict()"
   ]
  },
  {
   "cell_type": "code",
   "execution_count": 7,
   "metadata": {
    "collapsed": false
   },
   "outputs": [],
   "source": [
    "#for rdm in rdmins:\n",
    "    #print rdm\n",
    "    #rdmz = open('/home/wcmckee/sellcoffee/mins/' + rdm, 'r')\n",
    "    #print rdmz.read()\n",
    "    #intres.append(rdmz.read())\n",
    "    #curmins.update({rdm: rdmz.read()})\n",
    "    #rdmz.close()\n",
    "    #nexnum = int(rdmz.read() + 1)\n",
    "    #print int(1) + int(5)"
   ]
  },
  {
   "cell_type": "code",
   "execution_count": 8,
   "metadata": {
    "collapsed": false
   },
   "outputs": [],
   "source": [
    "#curmins"
   ]
  },
  {
   "cell_type": "code",
   "execution_count": 20,
   "metadata": {
    "collapsed": true
   },
   "outputs": [],
   "source": [
    "hosnamdir = ('/home/' + getusr + '/sellcoffee/hostnames/')\n",
    "\n",
    "usrnamdir = ('/home/' + getusr + '/sellcoffee/usernames')"
   ]
  },
  {
   "cell_type": "code",
   "execution_count": 9,
   "metadata": {
    "collapsed": false
   },
   "outputs": [],
   "source": [
    "#intres"
   ]
  },
  {
   "cell_type": "code",
   "execution_count": 18,
   "metadata": {
    "collapsed": true
   },
   "outputs": [],
   "source": [
    "holisz = os.listdir(hosnamdir)"
   ]
  },
  {
   "cell_type": "code",
   "execution_count": 19,
   "metadata": {
    "collapsed": false
   },
   "outputs": [
    {
     "data": {
      "text/plain": [
       "['localhost', 'bluecookies', 'corlsbudcayon', 'zincwhite', 'naplesyellow']"
      ]
     },
     "execution_count": 19,
     "metadata": {},
     "output_type": "execute_result"
    }
   ],
   "source": [
    "holisz"
   ]
  },
  {
   "cell_type": "code",
   "execution_count": null,
   "metadata": {
    "collapsed": true
   },
   "outputs": [],
   "source": []
  },
  {
   "cell_type": "code",
   "execution_count": null,
   "metadata": {
    "collapsed": true
   },
   "outputs": [],
   "source": []
  },
  {
   "cell_type": "code",
   "execution_count": 11,
   "metadata": {
    "collapsed": false
   },
   "outputs": [],
   "source": [
    "#holisz"
   ]
  },
  {
   "cell_type": "code",
   "execution_count": 21,
   "metadata": {
    "collapsed": false
   },
   "outputs": [
    {
     "data": {
      "text/plain": [
       "[]"
      ]
     },
     "execution_count": 21,
     "metadata": {},
     "output_type": "execute_result"
    }
   ],
   "source": [
    "develist = []\n",
    "os.listdir(usrnamdir)"
   ]
  },
  {
   "cell_type": "code",
   "execution_count": 24,
   "metadata": {
    "collapsed": false
   },
   "outputs": [
    {
     "ename": "IOError",
     "evalue": "[Errno 2] No such file or directory: '/home/wcmckee/sellcoffee/usernames/localhost-minutes'",
     "output_type": "error",
     "traceback": [
      "\u001b[1;31m---------------------------------------------------------------------------\u001b[0m",
      "\u001b[1;31mIOError\u001b[0m                                   Traceback (most recent call last)",
      "\u001b[1;32m<ipython-input-24-b665d99ee987>\u001b[0m in \u001b[0;36m<module>\u001b[1;34m()\u001b[0m\n\u001b[1;32m----> 1\u001b[1;33m \u001b[0mrdhoszr\u001b[0m \u001b[1;33m=\u001b[0m \u001b[0mopen\u001b[0m\u001b[1;33m(\u001b[0m\u001b[0musrnamdir\u001b[0m \u001b[1;33m+\u001b[0m \u001b[1;34m'/'\u001b[0m \u001b[1;33m+\u001b[0m \u001b[0mmyhosn\u001b[0m \u001b[1;33m+\u001b[0m \u001b[1;34m'-minutes'\u001b[0m\u001b[1;33m,\u001b[0m \u001b[1;34m'r'\u001b[0m\u001b[1;33m)\u001b[0m\u001b[1;33m\u001b[0m\u001b[0m\n\u001b[0m\u001b[0;32m      2\u001b[0m \u001b[0mtesred\u001b[0m \u001b[1;33m=\u001b[0m \u001b[0mrdhoszr\u001b[0m\u001b[1;33m.\u001b[0m\u001b[0mread\u001b[0m\u001b[1;33m(\u001b[0m\u001b[1;33m)\u001b[0m\u001b[1;33m\u001b[0m\u001b[0m\n\u001b[0;32m      3\u001b[0m \u001b[0mdevelist\u001b[0m\u001b[1;33m.\u001b[0m\u001b[0mappend\u001b[0m\u001b[1;33m(\u001b[0m\u001b[0mstr\u001b[0m\u001b[1;33m(\u001b[0m\u001b[0mtesred\u001b[0m\u001b[1;33m)\u001b[0m\u001b[1;33m)\u001b[0m\u001b[1;33m\u001b[0m\u001b[0m\n\u001b[0;32m      4\u001b[0m \u001b[0mrdhoszr\u001b[0m\u001b[1;33m.\u001b[0m\u001b[0mclose\u001b[0m\u001b[1;33m(\u001b[0m\u001b[1;33m)\u001b[0m\u001b[1;33m\u001b[0m\u001b[0m\n\u001b[0;32m      5\u001b[0m \u001b[1;33m\u001b[0m\u001b[0m\n",
      "\u001b[1;31mIOError\u001b[0m: [Errno 2] No such file or directory: '/home/wcmckee/sellcoffee/usernames/localhost-minutes'"
     ]
    }
   ],
   "source": [
    "rdhoszr = open(usrnamdir + '/' + myhosn + '-minutes', 'r')\n",
    "tesred = rdhoszr.read()\n",
    "develist.append(str(tesred))\n",
    "rdhoszr.close()\n",
    "\n",
    "    "
   ]
  },
  {
   "cell_type": "code",
   "execution_count": 25,
   "metadata": {
    "collapsed": false
   },
   "outputs": [],
   "source": [
    "#for curmiz in curmins:\n",
    "    #print curmiz\n",
    "    #if  in curmiz:\n",
    "# #       print cuz"
   ]
  },
  {
   "cell_type": "code",
   "execution_count": 26,
   "metadata": {
    "collapsed": false
   },
   "outputs": [],
   "source": [
    "for deusr in develist:\n",
    "    print deusr\n",
    "    #rdmz = open('/home/wcmckee/sellcoffee/mins/' + deusr, 'w')\n",
    "    #rdmz.write()\n",
    "    "
   ]
  },
  {
   "cell_type": "code",
   "execution_count": 27,
   "metadata": {
    "collapsed": false
   },
   "outputs": [],
   "source": [
    "#rdhoszr = open('/home/wcmckee/sellcoffee/hostnames/' + )"
   ]
  },
  {
   "cell_type": "code",
   "execution_count": 28,
   "metadata": {
    "collapsed": false
   },
   "outputs": [],
   "source": [
    "for intr in intres:\n",
    "    print int(intr) + 1"
   ]
  },
  {
   "cell_type": "code",
   "execution_count": 29,
   "metadata": {
    "collapsed": false
   },
   "outputs": [],
   "source": [
    "allhost = os.listdir('/home/wcmckee/sellcoffee/hostnames/')"
   ]
  },
  {
   "cell_type": "code",
   "execution_count": 30,
   "metadata": {
    "collapsed": true
   },
   "outputs": [],
   "source": [
    "usrzlogd = []\n",
    "usrdict = dict()"
   ]
  },
  {
   "cell_type": "code",
   "execution_count": 31,
   "metadata": {
    "collapsed": false
   },
   "outputs": [
    {
     "name": "stdout",
     "output_type": "stream",
     "text": [
      "localhost\n",
      "bluecookies\n",
      "corlsbudcayon\n",
      "zincwhite\n",
      "naplesyellow\n"
     ]
    }
   ],
   "source": [
    "for alhos in allhost:\n",
    "    print alhos\n",
    "    rdza = open('/home/wcmckee/sellcoffee/hostnames/' + alhos, 'r')\n",
    "    usrzlogd.append(rdza.read().replace('\\n', ''))\n",
    "    \n",
    "    "
   ]
  },
  {
   "cell_type": "code",
   "execution_count": 32,
   "metadata": {
    "collapsed": true
   },
   "outputs": [],
   "source": [
    "rdza.close()"
   ]
  },
  {
   "cell_type": "code",
   "execution_count": 33,
   "metadata": {
    "collapsed": false
   },
   "outputs": [
    {
     "name": "stdout",
     "output_type": "stream",
     "text": [
      "localhost\n",
      "bluecookies\n",
      "corlsbudcayon\n",
      "zincwhite\n",
      "naplesyellow\n"
     ]
    }
   ],
   "source": [
    "for alhos in allhost:\n",
    "    print alhos\n",
    "    rdza = open('/home/wcmckee/sellcoffee/hostnames/' + alhos, 'r')\n",
    "    usrdict.update({alhos : rdza.read().replace('\\n', '').split()})\n",
    "    \n",
    "    "
   ]
  },
  {
   "cell_type": "code",
   "execution_count": 34,
   "metadata": {
    "collapsed": false
   },
   "outputs": [],
   "source": [
    "usrzlogz = usrdict.values()"
   ]
  },
  {
   "cell_type": "code",
   "execution_count": 35,
   "metadata": {
    "collapsed": true
   },
   "outputs": [],
   "source": [
    "thusrz = []\n",
    "chedct = dict()\n",
    "usrzlogedin = []\n"
   ]
  },
  {
   "cell_type": "code",
   "execution_count": 36,
   "metadata": {
    "collapsed": false
   },
   "outputs": [],
   "source": [
    "#usrdict\n",
    "#The lists of each computer only need "
   ]
  },
  {
   "cell_type": "code",
   "execution_count": 37,
   "metadata": {
    "collapsed": false
   },
   "outputs": [],
   "source": [
    "myhosn = socket.gethostname()"
   ]
  },
  {
   "cell_type": "code",
   "execution_count": 38,
   "metadata": {
    "collapsed": false
   },
   "outputs": [
    {
     "ename": "OSError",
     "evalue": "[Errno 2] No such file or directory: '/home/wcmckee/sellcoffee/mins/'",
     "output_type": "error",
     "traceback": [
      "\u001b[1;31m---------------------------------------------------------------------------\u001b[0m",
      "\u001b[1;31mOSError\u001b[0m                                   Traceback (most recent call last)",
      "\u001b[1;32m<ipython-input-38-1edbf1d1504b>\u001b[0m in \u001b[0;36m<module>\u001b[1;34m()\u001b[0m\n\u001b[0;32m      1\u001b[0m \u001b[1;31m#Checks users logged on to local machine and add 1 min to\u001b[0m\u001b[1;33m\u001b[0m\u001b[1;33m\u001b[0m\u001b[0m\n\u001b[1;32m----> 2\u001b[1;33m \u001b[0mrdmins\u001b[0m \u001b[1;33m=\u001b[0m \u001b[0mos\u001b[0m\u001b[1;33m.\u001b[0m\u001b[0mlistdir\u001b[0m\u001b[1;33m(\u001b[0m\u001b[1;34m'/home/wcmckee/sellcoffee/mins/'\u001b[0m\u001b[1;33m)\u001b[0m\u001b[1;33m\u001b[0m\u001b[0m\n\u001b[0m\u001b[0;32m      3\u001b[0m \u001b[1;33m\u001b[0m\u001b[0m\n\u001b[0;32m      4\u001b[0m \u001b[1;33m\u001b[0m\u001b[0m\n\u001b[0;32m      5\u001b[0m \u001b[1;31m#if their name is shown on list open sellcoffee/mins + the username\u001b[0m\u001b[1;33m\u001b[0m\u001b[1;33m\u001b[0m\u001b[0m\n",
      "\u001b[1;31mOSError\u001b[0m: [Errno 2] No such file or directory: '/home/wcmckee/sellcoffee/mins/'"
     ]
    }
   ],
   "source": [
    "#Checks users logged on to local machine and add 1 min to \n",
    "rdmins = os.listdir('/home/wcmckee/sellcoffee/mins/')\n",
    "\n",
    "\n",
    "#if their name is shown on list open sellcoffee/mins + the username\n",
    "#that is show. add + 1 to the number."
   ]
  },
  {
   "cell_type": "code",
   "execution_count": 39,
   "metadata": {
    "collapsed": true
   },
   "outputs": [],
   "source": [
    "minsfold = ('/home/' + getusr + '/mins/')"
   ]
  },
  {
   "cell_type": "code",
   "execution_count": 40,
   "metadata": {
    "collapsed": false
   },
   "outputs": [
    {
     "ename": "IOError",
     "evalue": "[Errno 2] No such file or directory: '/home/wcmckee/mins/localhost'",
     "output_type": "error",
     "traceback": [
      "\u001b[1;31m---------------------------------------------------------------------------\u001b[0m",
      "\u001b[1;31mIOError\u001b[0m                                   Traceback (most recent call last)",
      "\u001b[1;32m<ipython-input-40-69457cc7caec>\u001b[0m in \u001b[0;36m<module>\u001b[1;34m()\u001b[0m\n\u001b[0;32m      2\u001b[0m \u001b[1;31m#their name in mins folder.\u001b[0m\u001b[1;33m\u001b[0m\u001b[1;33m\u001b[0m\u001b[0m\n\u001b[0;32m      3\u001b[0m \u001b[1;33m\u001b[0m\u001b[0m\n\u001b[1;32m----> 4\u001b[1;33m \u001b[0mrdmz\u001b[0m \u001b[1;33m=\u001b[0m \u001b[0mopen\u001b[0m\u001b[1;33m(\u001b[0m\u001b[0mminsfold\u001b[0m \u001b[1;33m+\u001b[0m \u001b[0mmyhosn\u001b[0m\u001b[1;33m,\u001b[0m \u001b[1;34m'w'\u001b[0m\u001b[1;33m)\u001b[0m\u001b[1;33m\u001b[0m\u001b[0m\n\u001b[0m\u001b[0;32m      5\u001b[0m \u001b[1;32mfor\u001b[0m \u001b[0mintr\u001b[0m \u001b[1;32min\u001b[0m \u001b[0mintres\u001b[0m\u001b[1;33m:\u001b[0m\u001b[1;33m\u001b[0m\u001b[0m\n\u001b[0;32m      6\u001b[0m     \u001b[1;32mprint\u001b[0m \u001b[0mint\u001b[0m\u001b[1;33m(\u001b[0m\u001b[0mintr\u001b[0m\u001b[1;33m)\u001b[0m \u001b[1;33m+\u001b[0m \u001b[1;36m1\u001b[0m\u001b[1;33m\u001b[0m\u001b[0m\n",
      "\u001b[1;31mIOError\u001b[0m: [Errno 2] No such file or directory: '/home/wcmckee/mins/localhost'"
     ]
    }
   ],
   "source": [
    "#checks users logged on and if user is logged on the add 1 min to\n",
    "#their name in mins folder.\n",
    "    \n",
    "rdmz = open(minsfold + myhosn, 'w')\n",
    "for intr in intres:\n",
    "    print int(intr) + 1\n",
    "    rdmz.write(str(int(intr) + 1))"
   ]
  },
  {
   "cell_type": "code",
   "execution_count": 41,
   "metadata": {
    "collapsed": false
   },
   "outputs": [
    {
     "data": {
      "text/plain": [
       "{'bluecookies': ['wcmckee',\n",
       "  'wcmckee',\n",
       "  'wcmckee',\n",
       "  'wcmckee',\n",
       "  'wcmckee',\n",
       "  'wcmckee',\n",
       "  'wcmckee',\n",
       "  'wcmckee',\n",
       "  'wcmckee',\n",
       "  'wcmckee',\n",
       "  'wcmckee',\n",
       "  'wcmckee'],\n",
       " 'corlsbudcayon': ['wcmckee'],\n",
       " 'localhost': ['{\"wcmckee\":',\n",
       "  '0,',\n",
       "  '\"joemanz\":',\n",
       "  '0,',\n",
       "  '\"point\":',\n",
       "  '0,',\n",
       "  '\"qwe\":',\n",
       "  '0,',\n",
       "  '\"wkee\":',\n",
       "  '0,',\n",
       "  '\"checkthis\":',\n",
       "  '0,',\n",
       "  '\"poiu\":',\n",
       "  '0,',\n",
       "  '\"blah\":',\n",
       "  '0,',\n",
       "  '\"charle\":',\n",
       "  '0,',\n",
       "  '\"poi\":',\n",
       "  '0,',\n",
       "  '\"tnow\":',\n",
       "  '0,',\n",
       "  '\"clittle\":',\n",
       "  '0,',\n",
       "  '\"wblack\":',\n",
       "  '0,',\n",
       "  '\"ssung\":',\n",
       "  '0,',\n",
       "  '\"wmen\":',\n",
       "  '0,',\n",
       "  '\"blag\":',\n",
       "  '0,',\n",
       "  '\"signinlca.py\":',\n",
       "  '0,',\n",
       "  '\"sjohns\":',\n",
       "  '0,',\n",
       "  '\"gerty\":',\n",
       "  '0,',\n",
       "  '\"webmck\":',\n",
       "  '0,',\n",
       "  '\"joeman\":',\n",
       "  '0,',\n",
       "  '\"joecheck\":',\n",
       "  '0,',\n",
       "  '\"jchick\":',\n",
       "  '0,',\n",
       "  '\"pytest\":',\n",
       "  '0,',\n",
       "  '\"jblog\":',\n",
       "  '0,',\n",
       "  '\"pjohns\":',\n",
       "  '0,',\n",
       "  '\"wez\":',\n",
       "  '0,',\n",
       "  '\"figlet\":',\n",
       "  '0,',\n",
       "  '\"wcm\":',\n",
       "  '0,',\n",
       "  '\"red\":',\n",
       "  '0}'],\n",
       " 'naplesyellow': [],\n",
       " 'zincwhite': ['wcmckee', 'wcmckee']}"
      ]
     },
     "execution_count": 41,
     "metadata": {},
     "output_type": "execute_result"
    }
   ],
   "source": [
    "usrdict"
   ]
  },
  {
   "cell_type": "code",
   "execution_count": 61,
   "metadata": {
    "collapsed": false
   },
   "outputs": [
    {
     "name": "stdout",
     "output_type": "stream",
     "text": [
      "wcmckee\n"
     ]
    },
    {
     "ename": "IOError",
     "evalue": "[Errno 2] No such file or directory: '/home/wcmckee/mins/wcmckee'",
     "output_type": "error",
     "traceback": [
      "\u001b[1;31m---------------------------------------------------------------------------\u001b[0m",
      "\u001b[1;31mIOError\u001b[0m                                   Traceback (most recent call last)",
      "\u001b[1;32m<ipython-input-61-10da72f719ff>\u001b[0m in \u001b[0;36m<module>\u001b[1;34m()\u001b[0m\n\u001b[0;32m      5\u001b[0m     \u001b[1;32mfor\u001b[0m \u001b[0mstrz\u001b[0m \u001b[1;32min\u001b[0m \u001b[0mstrsrtr\u001b[0m\u001b[1;33m:\u001b[0m\u001b[1;33m\u001b[0m\u001b[0m\n\u001b[0;32m      6\u001b[0m         \u001b[1;32mprint\u001b[0m \u001b[0mstrz\u001b[0m\u001b[1;33m\u001b[0m\u001b[0m\n\u001b[1;32m----> 7\u001b[1;33m         \u001b[0moplocaz\u001b[0m \u001b[1;33m=\u001b[0m \u001b[0mopen\u001b[0m\u001b[1;33m(\u001b[0m\u001b[0mminsfold\u001b[0m \u001b[1;33m+\u001b[0m \u001b[0mstrz\u001b[0m\u001b[1;33m,\u001b[0m \u001b[1;34m'r'\u001b[0m\u001b[1;33m)\u001b[0m\u001b[1;33m\u001b[0m\u001b[0m\n\u001b[0m\u001b[0;32m      8\u001b[0m         \u001b[0moprdza\u001b[0m \u001b[1;33m=\u001b[0m \u001b[0moplocaz\u001b[0m\u001b[1;33m.\u001b[0m\u001b[0mread\u001b[0m\u001b[1;33m(\u001b[0m\u001b[1;33m)\u001b[0m\u001b[1;33m\u001b[0m\u001b[0m\n\u001b[0;32m      9\u001b[0m         \u001b[1;32mprint\u001b[0m \u001b[0moprdza\u001b[0m\u001b[1;33m\u001b[0m\u001b[0m\n",
      "\u001b[1;31mIOError\u001b[0m: [Errno 2] No such file or directory: '/home/wcmckee/mins/wcmckee'"
     ]
    }
   ],
   "source": [
    "for usrza in usrdict.values():\n",
    "    seusr = set(usrza)\n",
    "    #print list(seusr)\n",
    "    strsrtr = list(seusr)\n",
    "    for strz in strsrtr:\n",
    "        print strz\n",
    "        oplocaz = open(minsfold + strz, 'r')\n",
    "        oprdza = oplocaz.read()\n",
    "        print oprdza\n",
    "        newnum = int(oprdza) + 1\n",
    "        opediza = open(minsfold + strz, 'w')\n",
    "        opediza.write(str(newnum))\n",
    "        opediza.close()\n",
    "        \n",
    "        #for rdm in rdmins:\n",
    "           # print rdm\n",
    "            \n",
    "        usrzlogedin.append(strz)\n",
    "        #chedct.update({usrdict.keys() : strz})\n",
    "        "
   ]
  },
  {
   "cell_type": "code",
   "execution_count": 62,
   "metadata": {
    "collapsed": false
   },
   "outputs": [],
   "source": [
    "for usrzl in usrzlogedin:\n",
    "    print usrzl"
   ]
  },
  {
   "cell_type": "code",
   "execution_count": 63,
   "metadata": {
    "collapsed": true
   },
   "outputs": [],
   "source": [
    "#chdict.update()"
   ]
  },
  {
   "cell_type": "code",
   "execution_count": 64,
   "metadata": {
    "collapsed": true
   },
   "outputs": [],
   "source": [
    "#usrslogedindic = dict()"
   ]
  },
  {
   "cell_type": "code",
   "execution_count": 65,
   "metadata": {
    "collapsed": false
   },
   "outputs": [],
   "source": [
    "#for usrva in usrdict.values():\n",
    "    #print usrva\n",
    "    #for usrv in usrva:\n",
    "        #print usrv\n",
    "        #cycles though printing out each user loged in. \n",
    "        #I want to add one min to their name if their name \n",
    "        #shows up here. \n",
    "        #create a dict that is\n",
    "        #{username : +1 (number increases their \n",
    "        #loged in on multimachines)}"
   ]
  },
  {
   "cell_type": "code",
   "execution_count": 47,
   "metadata": {
    "collapsed": false
   },
   "outputs": [],
   "source": [
    "#usrslogedindic"
   ]
  },
  {
   "cell_type": "code",
   "execution_count": 48,
   "metadata": {
    "collapsed": true
   },
   "outputs": [],
   "source": [
    "#opus = open('/home/wcmckee/sellcoffee/hostnames/localhost', 'r')"
   ]
  },
  {
   "cell_type": "code",
   "execution_count": 49,
   "metadata": {
    "collapsed": false
   },
   "outputs": [],
   "source": [
    "#opjsn = opus.read()"
   ]
  },
  {
   "cell_type": "code",
   "execution_count": 50,
   "metadata": {
    "collapsed": true
   },
   "outputs": [],
   "source": [
    "#neza = json.loads(opjsn)"
   ]
  },
  {
   "cell_type": "code",
   "execution_count": 51,
   "metadata": {
    "collapsed": false
   },
   "outputs": [],
   "source": [
    "#os.system('sudo passwd -l ' + locusa) \n",
    "#os.system('sudo pgrep -u ' + locusa)\n",
    "#os.system('sudo killall -KILL -u ' + locusa)neza.keys()"
   ]
  },
  {
   "cell_type": "code",
   "execution_count": 52,
   "metadata": {
    "collapsed": false
   },
   "outputs": [],
   "source": [
    "#neza#"
   ]
  },
  {
   "cell_type": "code",
   "execution_count": 53,
   "metadata": {
    "collapsed": false
   },
   "outputs": [],
   "source": [
    "#for nezf in neza.values():\n",
    "   # print nezf\n",
    "    #if nezf == 0:\n",
    "        #print ('No Time!')\n",
    "        #print ('Logout ' + neza())"
   ]
  },
  {
   "cell_type": "code",
   "execution_count": 54,
   "metadata": {
    "collapsed": false
   },
   "outputs": [],
   "source": [
    "#for naez in neza.keys():\n",
    "    #print naez"
   ]
  },
  {
   "cell_type": "code",
   "execution_count": 55,
   "metadata": {
    "collapsed": false
   },
   "outputs": [],
   "source": [
    "#for nezf in neza.values():\n",
    "    #print nezf\n",
    "    #if nezf == 0:\n",
    "        #print ('No Time!')\n",
    "        #print ('Logout ' + neza())\n",
    "        \n"
   ]
  },
  {
   "cell_type": "markdown",
   "metadata": {},
   "source": [
    "Write a config file that has each user and their time. "
   ]
  },
  {
   "cell_type": "code",
   "execution_count": 56,
   "metadata": {
    "collapsed": true
   },
   "outputs": [],
   "source": [
    "#config = configparser.RawConfigParser()"
   ]
  },
  {
   "cell_type": "code",
   "execution_count": 57,
   "metadata": {
    "collapsed": false
   },
   "outputs": [],
   "source": [
    "#config.read('/home/wcmckee/signinlca/usertime.cfg')"
   ]
  },
  {
   "cell_type": "code",
   "execution_count": 58,
   "metadata": {
    "collapsed": true
   },
   "outputs": [],
   "source": [
    "#config.add_section('users')"
   ]
  },
  {
   "cell_type": "code",
   "execution_count": 59,
   "metadata": {
    "collapsed": false
   },
   "outputs": [],
   "source": [
    "#for naez in neza.keys():\n",
    "    #print naez\n",
    "    #config.set('users', naez, 0)\n"
   ]
  },
  {
   "cell_type": "code",
   "execution_count": 60,
   "metadata": {
    "collapsed": false
   },
   "outputs": [],
   "source": [
    "#with open('/home/wcmckee/signinlca/users.cfg', 'wb') as configfile:\n",
    "    #config.write(configfile)"
   ]
  },
  {
   "cell_type": "code",
   "execution_count": null,
   "metadata": {
    "collapsed": true
   },
   "outputs": [],
   "source": []
  },
  {
   "cell_type": "code",
   "execution_count": null,
   "metadata": {
    "collapsed": true
   },
   "outputs": [],
   "source": []
  },
  {
   "cell_type": "code",
   "execution_count": null,
   "metadata": {
    "collapsed": true
   },
   "outputs": [],
   "source": []
  }
 ],
 "metadata": {
  "kernelspec": {
   "display_name": "Python 2",
   "language": "python",
   "name": "python2"
  },
  "language_info": {
   "codemirror_mode": {
    "name": "ipython",
    "version": 2
   },
   "file_extension": ".py",
   "mimetype": "text/x-python",
   "name": "python",
   "nbconvert_exporter": "python",
   "pygments_lexer": "ipython2",
   "version": "2.7.9"
  }
 },
 "nbformat": 4,
 "nbformat_minor": 0
}
