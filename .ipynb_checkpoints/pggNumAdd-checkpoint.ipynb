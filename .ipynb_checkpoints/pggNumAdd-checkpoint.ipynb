{
 "cells": [
  {
   "cell_type": "code",
   "execution_count": 1,
   "metadata": {
    "collapsed": false
   },
   "outputs": [
    {
     "name": "stdout",
     "output_type": "stream",
     "text": [
      "[4, 11, 24, 30, 44, 56, 62, 76, 87, 97]\n"
     ]
    }
   ],
   "source": [
    "# IPython log file\n",
    "\n",
    "#get_ipython().magic(u'logstart')\n",
    "import random\n",
    "ranumlis = []\n",
    "ranlow = 0\n",
    "ranhigh = 9\n",
    "\n",
    "for ranez in range(10):\n",
    "      randmun = random.randint(ranlow, ranhigh)\n",
    "      ranumlis.append(randmun)\n",
    "\n",
    "      ranlow = (ranlow + 10)\n",
    "      ranhigh = (ranhigh + 10)\n",
    "\n",
    "print ranumlis\n",
    "\n",
    "savlis = open('/home/wcmckee/pgg/data.json', 'a')      \n",
    "savlis.write(str(ranumlis))\n",
    "savlis.close()\n"
   ]
  },
  {
   "cell_type": "markdown",
   "metadata": {},
   "source": [
    "Testing of playing pyguessgame. \n",
    "Generates random numbers and plays a game.\n",
    "\n",
    "Create two random lists of numbers 0/9,10/19,20/29 etc to 100.\n",
    "Compare the two lists. If win mark, if lose mark.\n",
    "\n",
    "Debian"
   ]
  },
  {
   "cell_type": "code",
   "execution_count": 2,
   "metadata": {
    "collapsed": true
   },
   "outputs": [],
   "source": [
    "othgues = []\n",
    "othlow = 0\n",
    "othhigh = 9\n"
   ]
  },
  {
   "cell_type": "code",
   "execution_count": 3,
   "metadata": {
    "collapsed": false
   },
   "outputs": [
    {
     "name": "stdout",
     "output_type": "stream",
     "text": [
      "[8, 10, 28, 33, 44, 58, 60, 71, 89, 94]\n"
     ]
    }
   ],
   "source": [
    "for ranez in range(10):\n",
    "      randxz = random.randint(othlow, othhigh)\n",
    "      othgues.append(randxz)\n",
    "\n",
    "      othlow = (othlow + 10)\n",
    "      othhigh = (othhigh + 10)\n",
    "\n",
    "print othgues"
   ]
  },
  {
   "cell_type": "code",
   "execution_count": null,
   "metadata": {
    "collapsed": true
   },
   "outputs": [],
   "source": [
    "dieci = dict()"
   ]
  },
  {
   "cell_type": "code",
   "execution_count": 4,
   "metadata": {
    "collapsed": false
   },
   "outputs": [
    {
     "name": "stdout",
     "output_type": "stream",
     "text": [
      "0\n",
      "1\n",
      "2\n",
      "3\n",
      "4\n",
      "5\n",
      "6\n",
      "7\n",
      "8\n",
      "9\n",
      "0\n",
      "1\n",
      "2\n",
      "3\n",
      "4\n",
      "5\n",
      "6\n",
      "7\n",
      "8\n",
      "9\n",
      "0\n",
      "1\n",
      "2\n",
      "3\n",
      "4\n",
      "5\n",
      "6\n",
      "7\n",
      "8\n",
      "9\n",
      "0\n",
      "1\n",
      "2\n",
      "3\n",
      "4\n",
      "5\n",
      "6\n",
      "7\n",
      "8\n",
      "9\n",
      "0\n",
      "1\n",
      "2\n",
      "3\n",
      "4\n",
      "5\n",
      "6\n",
      "7\n",
      "8\n",
      "9\n",
      "0\n",
      "1\n",
      "2\n",
      "3\n",
      "4\n",
      "5\n",
      "6\n",
      "7\n",
      "8\n",
      "9\n",
      "0\n",
      "1\n",
      "2\n",
      "3\n",
      "4\n",
      "5\n",
      "6\n",
      "7\n",
      "8\n",
      "9\n",
      "0\n",
      "1\n",
      "2\n",
      "3\n",
      "4\n",
      "5\n",
      "6\n",
      "7\n",
      "8\n",
      "9\n",
      "0\n",
      "1\n",
      "2\n",
      "3\n",
      "4\n",
      "5\n",
      "6\n",
      "7\n",
      "8\n",
      "9\n",
      "0\n",
      "1\n",
      "2\n",
      "3\n",
      "4\n",
      "5\n",
      "6\n",
      "7\n",
      "8\n",
      "9\n"
     ]
    }
   ],
   "source": [
    "for ranz in range(10):\n",
    "    #print str(ranz) + str(1)\n",
    "    dieci.update({str(ranz) + str(1): str(ranz)})\n",
    "    for numz in range(10):\n",
    "        #print str(ranz) + str(numz)\n",
    "        print numz\n",
    "#print zetoo"
   ]
  },
  {
   "cell_type": "code",
   "execution_count": 5,
   "metadata": {
    "collapsed": false
   },
   "outputs": [
    {
     "name": "stdout",
     "output_type": "stream",
     "text": [
      "4\n",
      "\n",
      "11\n",
      "\n",
      "24\n",
      "\n",
      "30\n",
      "\n",
      "44\n",
      "\n",
      "56\n",
      "\n",
      "62\n",
      "\n",
      "76\n",
      "\n",
      "87\n",
      "\n",
      "97\n",
      "\n"
     ]
    }
   ],
   "source": [
    "for sinum  in ranumlis:\n",
    "    print str(sinum) + (str('\\n'))\n",
    "    #if str(sinum) in othhigh:\n",
    "    #    print 'Win'\n",
    "        "
   ]
  },
  {
   "cell_type": "code",
   "execution_count": 6,
   "metadata": {
    "collapsed": true
   },
   "outputs": [],
   "source": [
    "import os"
   ]
  },
  {
   "cell_type": "code",
   "execution_count": null,
   "metadata": {
    "collapsed": false
   },
   "outputs": [],
   "source": [
    "#os.system('sudo adduser joemanz --disabled-login --quiet -D')"
   ]
  },
  {
   "cell_type": "code",
   "execution_count": null,
   "metadata": {
    "collapsed": false
   },
   "outputs": [],
   "source": [
    "uslis = os.listdir('/home/wcmckee/signinlca/usernames/')\n",
    "#print ('User List: ')\n",
    "for usl in uslis:\n",
    "    print usl\n",
    "    os.system('sudo adduser ' + usl + ' ' + '--disabled-login --quiet')\n",
    "    \n",
    "    os.system('sudo mv /home/wcmckee/signinlca/usernames/' + usl  + ' ' + '/home/' + usl + ' ')  \n"
   ]
  },
  {
   "cell_type": "code",
   "execution_count": null,
   "metadata": {
    "collapsed": true
   },
   "outputs": [],
   "source": [
    "print dieci"
   ]
  },
  {
   "cell_type": "code",
   "execution_count": null,
   "metadata": {
    "collapsed": true
   },
   "outputs": [],
   "source": []
  }
 ],
 "metadata": {
  "kernelspec": {
   "display_name": "Python 2",
   "name": "python2"
  },
  "language_info": {
   "codemirror_mode": {
    "name": "ipython",
    "version": 2
   },
   "file_extension": ".py",
   "mimetype": "text/x-python",
   "name": "python",
   "nbconvert_exporter": "python",
   "pygments_lexer": "ipython2",
   "version": "2.7.8"
  }
 },
 "nbformat": 4,
 "nbformat_minor": 0
}
