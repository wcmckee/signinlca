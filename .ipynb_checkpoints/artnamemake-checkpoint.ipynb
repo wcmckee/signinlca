{
 "cells": [
  {
   "cell_type": "markdown",
   "metadata": {},
   "source": [
    "art name make\n",
    "\n",
    "script to make filenames that are then saved with the gimp image open.\n",
    "\n",
    "Lookup \n",
    "\n",
    "pi computer setup:\n",
    "\n",
    "naplesyellow - raspib+ with touchscreen monitor. wireless, keyboard attached, coboltblue mounted. 8gig sd card. Full. weezey debian\n",
    "\n",
    "bloodred - raspi2b attached to hp monitor. Wacom Drawing tablet. No Keyboard. weezey debian\n",
    "\n",
    "zincwhite - raspi2b. Headless. Ethernet. weezey debian.\n",
    "\n",
    "bluecookies - dell xps laptop. 500gig of backups/music/movies. fedora21\n",
    "\n",
    "limegreen - compaq laptop. backup /home/wcmckee fedora21 \n",
    "\n",
    "localhost - hp chromebook. debian jessie. \n",
    "\n",
    "android - samsung android. 16gig sd card. \n",
    "\n",
    "rsync bloodred (192.168.1.8:/home) to  "
   ]
  },
  {
   "cell_type": "code",
   "execution_count": 1,
   "metadata": {
    "collapsed": true
   },
   "outputs": [],
   "source": [
    "import os\n",
    "import time \n",
    "while 1 == 1:\n",
    "    os.system('rsync -azP 192.168.1.2:/home/wcmckee /home/wcmckee')\n",
    "    os.system('rsync -azP /home/wcmckee wcmckee@192.168.1.2:/home/wcmckee')\n",
    "    os.system('rsync -azP 192.168.1.8:/home/wcmckee /home/wcmckee')\n",
    "    os.system('rsync -azP /home/wcmckee wcmckee@192.168.1.8:/home/wcmckee')\n",
    "    os.system('rsync -azP /home/wcmckee wcmckee@192.168.1.7:/home/wcmckee')\n",
    "    os.system('rsync -azP wcmckee@192.168.1.7:/home/wcmckee /home/wcmckee')\n",
    "    time.sleep(240)"
   ]
  }
 ],
 "metadata": {
  "kernelspec": {
   "display_name": "Python 2",
   "name": "python2"
  },
  "language_info": {
   "codemirror_mode": {
    "name": "ipython",
    "version": 2
   },
   "file_extension": ".py",
   "mimetype": "text/x-python",
   "name": "python",
   "nbconvert_exporter": "python",
   "pygments_lexer": "ipython2",
   "version": "2.7.9"
  }
 },
 "nbformat": 4,
 "nbformat_minor": 0
}
