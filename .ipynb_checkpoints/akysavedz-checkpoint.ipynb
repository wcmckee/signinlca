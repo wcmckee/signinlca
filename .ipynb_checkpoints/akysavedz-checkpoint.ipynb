{
 "cells": [
  {
   "cell_type": "markdown",
   "metadata": {},
   "source": [
    "script that creates rsa key on new slave machine.\n",
    "\n",
    "Hosts on webserver\n",
    "\n",
    "client machine accesses webserver keys.\n",
    "copies to /home/ user /.ssh\n",
    "\n",
    "writes .pub to authorized_keys\n",
    "\n",
    "slave machine does rsync to client machine. "
   ]
  },
  {
   "cell_type": "code",
   "execution_count": 5,
   "metadata": {
    "collapsed": true
   },
   "outputs": [],
   "source": [
    "from Crypto.PublicKey import RSA\n",
    "import getpass\n",
    "import os\n",
    "import socket"
   ]
  },
  {
   "cell_type": "code",
   "execution_count": 8,
   "metadata": {
    "collapsed": true
   },
   "outputs": [],
   "source": [
    "getusr = getpass.getuser()\n",
    "\n",
    "oshsdir = ('/home/' + getusr + '/.ssh/')"
   ]
  },
  {
   "cell_type": "code",
   "execution_count": 6,
   "metadata": {
    "collapsed": true
   },
   "outputs": [],
   "source": [
    "gethosz = socket.gethostname()"
   ]
  },
  {
   "cell_type": "code",
   "execution_count": 9,
   "metadata": {
    "collapsed": false
   },
   "outputs": [],
   "source": [
    "gethosz\n",
    "\n",
    "new_key = RSA.generate(2048, e=65537)\n",
    "privatekey = new_key.exportKey(\"PEM\")\n",
    "publickey = new_key.publickey().exportKey(\"PEM\")\n"
   ]
  },
  {
   "cell_type": "code",
   "execution_count": 11,
   "metadata": {
    "collapsed": false
   },
   "outputs": [],
   "source": [
    "hoezapriv = open(oshsdir + gethosz, 'w')\n",
    "\n",
    "hoezapriv.write(privatekey)\n",
    "\n",
    "hoezapriv.close()\n",
    "\n",
    "hoezapub = open(oshsdir + gethosz + '.pub', 'w')\n",
    "\n",
    "hoezapub.write(publickey)\n",
    "\n",
    "hoezapub.close()"
   ]
  },
  {
   "cell_type": "code",
   "execution_count": null,
   "metadata": {
    "collapsed": true
   },
   "outputs": [],
   "source": [
    "#Need to move the public key to folder where webserver is running.\n",
    "#Host machine then picks it up and writes to authorized keys."
   ]
  },
  {
   "cell_type": "code",
   "execution_count": 12,
   "metadata": {
    "collapsed": true
   },
   "outputs": [],
   "source": [
    "bbautdir = ('/home/wcmckee/bbauthkeys/')"
   ]
  },
  {
   "cell_type": "code",
   "execution_count": 13,
   "metadata": {
    "collapsed": false
   },
   "outputs": [
    {
     "data": {
      "text/plain": [
       "0"
      ]
     },
     "execution_count": 13,
     "metadata": {},
     "output_type": "execute_result"
    }
   ],
   "source": [
    "os.system('cp ' + oshsdir + gethosz + '.pub /home/wcmckee/bbauthkeys/')"
   ]
  },
  {
   "cell_type": "code",
   "execution_count": null,
   "metadata": {
    "collapsed": true
   },
   "outputs": [],
   "source": []
  }
 ],
 "metadata": {
  "kernelspec": {
   "display_name": "Python 2",
   "language": "python",
   "name": "python2"
  },
  "language_info": {
   "codemirror_mode": {
    "name": "ipython",
    "version": 2
   },
   "file_extension": ".py",
   "mimetype": "text/x-python",
   "name": "python",
   "nbconvert_exporter": "python",
   "pygments_lexer": "ipython2",
   "version": "2.7.3"
  }
 },
 "nbformat": 4,
 "nbformat_minor": 0
}
