{
 "cells": [
  {
   "cell_type": "code",
   "execution_count": 13,
   "metadata": {
    "collapsed": true
   },
   "outputs": [],
   "source": [
    "#check username for minutes file. minutes file is the amount of\n",
    "#mins on username.\n",
    "\n",
    "#script that runs every min to add time to all accounts\n",
    "#that are logged on.\n",
    "\n",
    "#Script that resets mins to zero!"
   ]
  },
  {
   "cell_type": "code",
   "execution_count": 28,
   "metadata": {
    "collapsed": true
   },
   "outputs": [],
   "source": [
    "import os"
   ]
  },
  {
   "cell_type": "code",
   "execution_count": 29,
   "metadata": {
    "collapsed": false
   },
   "outputs": [],
   "source": [
    "allusr = os.listdir('/home')"
   ]
  },
  {
   "cell_type": "code",
   "execution_count": 30,
   "metadata": {
    "collapsed": false
   },
   "outputs": [],
   "source": [
    "#print allusr\n",
    "\n",
    "usrslcd = ('/home/wcmckee/sellcoffee/usernames/')"
   ]
  },
  {
   "cell_type": "code",
   "execution_count": 31,
   "metadata": {
    "collapsed": true
   },
   "outputs": [],
   "source": [
    "minsfil = ('/home/wcmckee/sellcoffee/mins/')"
   ]
  },
  {
   "cell_type": "code",
   "execution_count": 32,
   "metadata": {
    "collapsed": false
   },
   "outputs": [
    {
     "name": "stdout",
     "output_type": "stream",
     "text": [
      "wcm mins reset to zero\n",
      "wcmckee mins reset to zero\n",
      "pi mins reset to zero\n"
     ]
    }
   ],
   "source": [
    "for usfc in allusr:\n",
    "    #print usfc\n",
    "    opmin = open('/home/wcmckee/sellcoffee/mins/' + usfc, 'w')\n",
    "    opmin.write(str(0))\n",
    "    print (usfc + ' mins reset to zero')\n",
    "    opmin.close()"
   ]
  },
  {
   "cell_type": "code",
   "execution_count": 5,
   "metadata": {
    "collapsed": true
   },
   "outputs": [],
   "source": [
    "#write a file in the home folder of each user that \n",
    "#is the amount of mins they used.\n",
    "\n",
    "#dict of usernames: mins loged on\n",
    "\n"
   ]
  },
  {
   "cell_type": "code",
   "execution_count": 14,
   "metadata": {
    "collapsed": false
   },
   "outputs": [],
   "source": [
    "#rsetmin = raw_input('Reset minutes to 0? y/n ')\n",
    "\n",
    "#if 'y' in rsetmin:\n",
    "#    for alu in allusr:\n",
    "#        print alu\n",
    "#        mktimfold = open(usrslcd + alu + '/minutes', 'w')\n",
    "#        mktimfold.write('0')\n",
    "#        mktimfold.close()"
   ]
  },
  {
   "cell_type": "code",
   "execution_count": 15,
   "metadata": {
    "collapsed": true
   },
   "outputs": [],
   "source": []
  },
  {
   "cell_type": "code",
   "execution_count": 15,
   "metadata": {
    "collapsed": true
   },
   "outputs": [],
   "source": []
  },
  {
   "cell_type": "code",
   "execution_count": null,
   "metadata": {
    "collapsed": true
   },
   "outputs": [],
   "source": []
  }
 ],
 "metadata": {
  "kernelspec": {
   "display_name": "Python 2",
   "language": "python",
   "name": "python2"
  },
  "language_info": {
   "codemirror_mode": {
    "name": "ipython",
    "version": 2
   },
   "file_extension": ".py",
   "mimetype": "text/x-python",
   "name": "python",
   "nbconvert_exporter": "python",
   "pygments_lexer": "ipython2",
   "version": "2.7.3"
  }
 },
 "nbformat": 4,
 "nbformat_minor": 0
}
