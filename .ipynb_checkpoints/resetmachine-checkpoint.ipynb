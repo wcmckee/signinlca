{
 "cells": [
  {
   "cell_type": "code",
   "execution_count": 106,
   "metadata": {
    "collapsed": true
   },
   "outputs": [],
   "source": [
    "#check username for minutes file. minutes file is the amount of\n",
    "#mins on username.\n",
    "\n",
    "#script that runs every min to add time to all accounts\n",
    "#that are logged on."
   ]
  },
  {
   "cell_type": "code",
   "execution_count": 107,
   "metadata": {
    "collapsed": true
   },
   "outputs": [],
   "source": [
    "import os"
   ]
  },
  {
   "cell_type": "code",
   "execution_count": 108,
   "metadata": {
    "collapsed": false
   },
   "outputs": [],
   "source": [
    "allusr = os.listdir('/home')"
   ]
  },
  {
   "cell_type": "code",
   "execution_count": 109,
   "metadata": {
    "collapsed": false
   },
   "outputs": [],
   "source": [
    "allusr\n",
    "\n",
    "usrslcd = ('/home/wcmckee/signinlca/usernames/')"
   ]
  },
  {
   "cell_type": "code",
   "execution_count": 110,
   "metadata": {
    "collapsed": true
   },
   "outputs": [],
   "source": [
    "#write a file in the home folder of each user that \n",
    "#is the amount of mins they used.\n",
    "\n",
    "#dict of usernames: mins loged on\n",
    "\n"
   ]
  },
  {
   "cell_type": "code",
   "execution_count": 111,
   "metadata": {
    "collapsed": true
   },
   "outputs": [],
   "source": [
    "usrdict = dict()"
   ]
  },
  {
   "cell_type": "code",
   "execution_count": 112,
   "metadata": {
    "collapsed": false
   },
   "outputs": [
    {
     "data": {
      "text/plain": [
       "{}"
      ]
     },
     "execution_count": 112,
     "metadata": {},
     "output_type": "execute_result"
    }
   ],
   "source": [
    "usrdict"
   ]
  },
  {
   "cell_type": "code",
   "execution_count": 113,
   "metadata": {
    "collapsed": true
   },
   "outputs": [],
   "source": [
    "hostndir = ('/home/wcmckee/sellcoffee/hostnames/')"
   ]
  },
  {
   "cell_type": "code",
   "execution_count": 114,
   "metadata": {
    "collapsed": false
   },
   "outputs": [],
   "source": [
    "hosnz = os.listdir(hostndir)"
   ]
  },
  {
   "cell_type": "code",
   "execution_count": 115,
   "metadata": {
    "collapsed": false
   },
   "outputs": [
    {
     "name": "stdout",
     "output_type": "stream",
     "text": [
      "vandykebrown\n",
      "naplesyellow\n"
     ]
    }
   ],
   "source": [
    "for hosz in hosnz:\n",
    "    print hosz\n",
    "    hopen = open(hostndir + hosz, 'r')\n",
    "    usrdict.update({hosz : hopen.read().strip('\\n')})\n",
    "    hopen.close()"
   ]
  },
  {
   "cell_type": "code",
   "execution_count": 116,
   "metadata": {
    "collapsed": false
   },
   "outputs": [
    {
     "name": "stdout",
     "output_type": "stream",
     "text": [
      "wcmckee\n",
      "wcmckee logged in\n",
      "wcmckee\n",
      "wcmckee logged in\n",
      "wcmckee\n",
      "wcmckee logged in\n",
      "wcmckee\n",
      "wcmckee logged in\n",
      "wcmckee\n",
      "wcmckee logged in\n",
      "wcmckee\n",
      "wcmckee logged in\n",
      "wcmckee\n",
      "wcmckee logged in\n"
     ]
    }
   ],
   "source": [
    "for usz in usrdict.values():\n",
    "    newgz = usz.split()\n",
    "    #print newgz\n",
    "    for ussa in newgz:\n",
    "        print ussa\n",
    "        if ('wcmckee') in ussa:\n",
    "            print ('wcmckee logged in')\n",
    "        else:\n",
    "            print ('not logged in!')"
   ]
  },
  {
   "cell_type": "code",
   "execution_count": 117,
   "metadata": {
    "collapsed": false
   },
   "outputs": [],
   "source": [
    "#newgz"
   ]
  },
  {
   "cell_type": "code",
   "execution_count": null,
   "metadata": {
    "collapsed": true
   },
   "outputs": [],
   "source": []
  },
  {
   "cell_type": "code",
   "execution_count": 118,
   "metadata": {
    "collapsed": true
   },
   "outputs": [],
   "source": [
    "totlis = []"
   ]
  },
  {
   "cell_type": "code",
   "execution_count": 119,
   "metadata": {
    "collapsed": false
   },
   "outputs": [],
   "source": [
    "for usrval in usrdict.values():\n",
    "    totlis.append(usrval.split())\n",
    "    #print usrval.replace(' ', ', ')\n",
    "    #totlis.append(usrval.replace(' ', ''))\n",
    "    #for uza in usrval:\n",
    "        #if 'w' in uza:\n",
    "            #print 'w there!'\n",
    "        #else:\n",
    "            #print ('w not there!')\n",
    "        #print uza"
   ]
  },
  {
   "cell_type": "code",
   "execution_count": null,
   "metadata": {
    "collapsed": true
   },
   "outputs": [],
   "source": []
  },
  {
   "cell_type": "code",
   "execution_count": 132,
   "metadata": {
    "collapsed": false
   },
   "outputs": [
    {
     "name": "stdout",
     "output_type": "stream",
     "text": [
      "wcmckee\n",
      "wcmckee\n",
      "wcmckee\n",
      "wcmckee\n",
      "wcmckee\n",
      "wcmckee\n",
      "wcmckee\n"
     ]
    }
   ],
   "source": [
    "for totz in totlis:\n",
    "    #print totz\n",
    "    for tot in totz:\n",
    "        print (tot)\n",
    "        addminz = open(usrslcd + tot + '/minutes', 'r')\n",
    "        curtim = addminz.read()\n",
    "        addminz.close()\n",
    "        newminz = open(usrslcd + tot + '/minutes', 'w')\n",
    "        topminz = int(curtim) + 1\n",
    "        newminz.write(str(topminz))\n",
    "        newminz.close()\n",
    "        #str of user loged on. if name is here then\n",
    "        #edit minutes folder with +1 min"
   ]
  },
  {
   "cell_type": "code",
   "execution_count": null,
   "metadata": {
    "collapsed": true
   },
   "outputs": [],
   "source": []
  },
  {
   "cell_type": "code",
   "execution_count": 121,
   "metadata": {
    "collapsed": false
   },
   "outputs": [
    {
     "name": "stdout",
     "output_type": "stream",
     "text": [
      "drhealsgood\n",
      "billymckee\n",
      "wcmckee\n",
      "whai\n",
      "zcat\n"
     ]
    }
   ],
   "source": [
    "for alu in allusr:\n",
    "    \n",
    "    print alu\n",
    "    mktimfold = open(usrslcd + alu + '/minutes', 'w')\n",
    "    mktimfold.write('0')\n",
    "    mktimfold.close()"
   ]
  }
 ],
 "metadata": {
  "kernelspec": {
   "display_name": "Python 2",
   "language": "python",
   "name": "python2"
  },
  "language_info": {
   "codemirror_mode": {
    "name": "ipython",
    "version": 2
   },
   "file_extension": ".py",
   "mimetype": "text/x-python",
   "name": "python",
   "nbconvert_exporter": "python",
   "pygments_lexer": "ipython2",
   "version": "2.7.3"
  }
 },
 "nbformat": 4,
 "nbformat_minor": 0
}
