{
 "cells": [
  {
   "cell_type": "markdown",
   "metadata": {},
   "source": [
    "Minutes Difference Index\n",
    "\n",
    "script to tell changes that happen to the data in sellcoffee/index.html and how it is different to files just moved to archieve. \n",
    "\n",
    "Keep an eye on the numbers and usersnames in index.html - annouching changes such as \n",
    "\n",
    "wcmckee increased in 4 minutes\n",
    "poi increased in 1 min\n",
    "\n",
    "wcmckee has logged onto naples yellow.\n",
    "\n",
    "\n",
    "\n",
    "cp most recent archieve to a special folder where it is accessed to compare the changes. \n"
   ]
  },
  {
   "cell_type": "code",
   "execution_count": 8,
   "metadata": {
    "collapsed": true
   },
   "outputs": [],
   "source": [
    "rceach = ('/home/wcmckee/sellcoffee/recentarchive/')\n",
    "scdir = ('/home/wcmckee/sellcoffee/')"
   ]
  },
  {
   "cell_type": "code",
   "execution_count": 9,
   "metadata": {
    "collapsed": true
   },
   "outputs": [],
   "source": [
    "import os"
   ]
  },
  {
   "cell_type": "code",
   "execution_count": 10,
   "metadata": {
    "collapsed": true
   },
   "outputs": [],
   "source": [
    "recdata = os.listdir(rceach)"
   ]
  },
  {
   "cell_type": "code",
   "execution_count": 18,
   "metadata": {
    "collapsed": true
   },
   "outputs": [],
   "source": [
    "oldaze = dict()\n",
    "lisaze = list()\n",
    "newaze = dict()\n",
    "lisqwe = dict()"
   ]
  },
  {
   "cell_type": "code",
   "execution_count": null,
   "metadata": {
    "collapsed": true
   },
   "outputs": [],
   "source": []
  },
  {
   "cell_type": "code",
   "execution_count": 17,
   "metadata": {
    "collapsed": false
   },
   "outputs": [
    {
     "name": "stdout",
     "output_type": "stream",
     "text": [
      "comps.json\n",
      "{\"corlsbudcayon\": \"wcmckee\", \"zincwhite\": \"wcmckee wcmckee wcmckee\", \"bluecookies\": \"poi wcmckee wcmckee wcmckee wcmckee wcmckee\", \"naplesyellow\": \"wcmckee\"}\n",
      "minutes.json\n",
      "{\"wcmckee\": \"2654\", \"zincwhite\": \"\", \"pi\": \"0\", \"wcm\": \"0\", \"poi\": \"887\"}\n"
     ]
    }
   ],
   "source": [
    "#filter the .json files ready for reading. Also want to open up the\n",
    "#.json files in sellcoffee.\n",
    "\n",
    "for recd in recdata:\n",
    "    if '.json' in recd:\n",
    "        print recd\n",
    "        oprecqw = open(rceach + recd, 'r')\n",
    "        print oprecqw.read()\n",
    "        oprecqw.close()"
   ]
  },
  {
   "cell_type": "code",
   "execution_count": null,
   "metadata": {
    "collapsed": true
   },
   "outputs": [],
   "source": []
  },
  {
   "cell_type": "code",
   "execution_count": 12,
   "metadata": {
    "collapsed": true
   },
   "outputs": [],
   "source": [
    "scdarz = os.listdir(scdir)"
   ]
  },
  {
   "cell_type": "code",
   "execution_count": 14,
   "metadata": {
    "collapsed": false
   },
   "outputs": [
    {
     "name": "stdout",
     "output_type": "stream",
     "text": [
      "comps.json\n",
      "minutes.json\n"
     ]
    }
   ],
   "source": [
    "for scra in scdarz:\n",
    "    if '.json' in scra:\n",
    "        print scra"
   ]
  },
  {
   "cell_type": "code",
   "execution_count": null,
   "metadata": {
    "collapsed": true
   },
   "outputs": [],
   "source": []
  }
 ],
 "metadata": {
  "kernelspec": {
   "display_name": "Python 2",
   "language": "python",
   "name": "python2"
  },
  "language_info": {
   "codemirror_mode": {
    "name": "ipython",
    "version": 2
   },
   "file_extension": ".py",
   "mimetype": "text/x-python",
   "name": "python",
   "nbconvert_exporter": "python",
   "pygments_lexer": "ipython2",
   "version": "2.7.3"
  }
 },
 "nbformat": 4,
 "nbformat_minor": 0
}
