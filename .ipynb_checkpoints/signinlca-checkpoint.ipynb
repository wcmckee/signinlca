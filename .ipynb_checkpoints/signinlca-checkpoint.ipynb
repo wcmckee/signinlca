{
 "cells": [
  {
   "cell_type": "markdown",
   "metadata": {},
   "source": [
    "signinlca\n",
    "\n",
    "script to signin for volunteers at lca2015\n",
    "\n",
    "test!\n",
    "\n",
    "The script asks for input of firstname, lastname, tshirt size, amount of coffee volc and comments. \n",
    "It creates a python dict with this data along with the current date and hour. \n",
    "It gets the username of user and saves the data in the users home dir under the folder signinlca. \n",
    "It saves the data as a json object.\n",
    "Currently saves the file as firstname + lastname. Could this be improved?\n",
    "\n",
    "\n",
    "TODO\n",
    "\n",
    "add option to choose to login or logout. Y/N option for each one. \n",
    "\n",
    "add logout script that appends to the login data. saves, time/date/comment. anything else?\n",
    "\n",
    "Asign to jobs/room?\n",
    "\n",
    "Graph up total hour worked in day/week\n",
    "\n",
    "scp/rsync data to server/web page.\n"
   ]
  },
  {
   "cell_type": "code",
   "execution_count": 1,
   "metadata": {
    "collapsed": false
   },
   "outputs": [],
   "source": [
    "import os\n",
    "#import time\n",
    "import json\n",
    "import getpass\n",
    "import arrow\n",
    "\n",
    "import hashlib"
   ]
  },
  {
   "cell_type": "code",
   "execution_count": 2,
   "metadata": {
    "collapsed": true
   },
   "outputs": [],
   "source": [
    "gmtz = arrow.utcnow()"
   ]
  },
  {
   "cell_type": "code",
   "execution_count": 3,
   "metadata": {
    "collapsed": false
   },
   "outputs": [
    {
     "data": {
      "text/plain": [
       "'2015'"
      ]
     },
     "execution_count": 3,
     "metadata": {},
     "output_type": "execute_result"
    }
   ],
   "source": [
    "yrmt = gmtz.strftime(\"%Y\")\n",
    "mthza = gmtz.strftime(\"%m\")\n",
    "dthaq = gmtz.strftime(\"%d\")\n",
    "gmtz.strftime(\"%Y\")\n",
    "#yearz = strftime(\"%y\", gmtime())\n",
    "#monthz = strftime(\"%m\", gmtime())\n",
    "#dayz = strftime(\"%d\", gmtime())\n"
   ]
  },
  {
   "cell_type": "code",
   "execution_count": 4,
   "metadata": {
    "collapsed": false
   },
   "outputs": [
    {
     "data": {
      "text/plain": [
       "'2015'"
      ]
     },
     "execution_count": 4,
     "metadata": {},
     "output_type": "execute_result"
    }
   ],
   "source": [
    "yrmt"
   ]
  },
  {
   "cell_type": "code",
   "execution_count": 5,
   "metadata": {
    "collapsed": false
   },
   "outputs": [
    {
     "data": {
      "text/plain": [
       "'02'"
      ]
     },
     "execution_count": 5,
     "metadata": {},
     "output_type": "execute_result"
    }
   ],
   "source": [
    "mthza"
   ]
  },
  {
   "cell_type": "code",
   "execution_count": 6,
   "metadata": {
    "collapsed": false
   },
   "outputs": [
    {
     "data": {
      "text/plain": [
       "'15'"
      ]
     },
     "execution_count": 6,
     "metadata": {},
     "output_type": "execute_result"
    }
   ],
   "source": [
    "dthaq"
   ]
  },
  {
   "cell_type": "code",
   "execution_count": 7,
   "metadata": {
    "collapsed": false
   },
   "outputs": [],
   "source": [
    "def returndate():\n",
    "    return (dthaq + '-' + mthza + '-' + yrmt)\n",
    "\n",
    "def returntime():\n",
    "    return gmtz.strftime('%H:%M:%S')\n",
    "\n",
    "puser = getpass.getuser()\n",
    "\n",
    "yrnum = gmtz.strftime(\"%Y\")\n",
    "mnthnum = gmtz.strftime(\"%m\")\n",
    "dayzum = gmtz.strftime(\"%d\")\n",
    "\n",
    "signpath = ('/home/' + puser + '/signinlca')\n",
    "yrpath = (signpath + '/' + yrnum)\n",
    "mnthpath = (yrpath + '/' + mnthnum)\n",
    "dayzpath = (mnthpath + '/' + dayzum)\n"
   ]
  },
  {
   "cell_type": "code",
   "execution_count": 8,
   "metadata": {
    "collapsed": false
   },
   "outputs": [
    {
     "name": "stdout",
     "output_type": "stream",
     "text": [
      "Path is there\n"
     ]
    }
   ],
   "source": [
    "if os.path.isdir(signpath) == True:\n",
    "    print 'Path is there'\n",
    "else:\n",
    "    print 'Path not there'\n",
    "    os.mkdir(signpath)"
   ]
  },
  {
   "cell_type": "code",
   "execution_count": 9,
   "metadata": {
    "collapsed": false
   },
   "outputs": [
    {
     "name": "stdout",
     "output_type": "stream",
     "text": [
      "Year Path is there\n",
      "Month Path not there\n",
      "Day Path not there\n"
     ]
    }
   ],
   "source": [
    "if os.path.isdir(yrpath) == True:\n",
    "    print 'Year Path is there'\n",
    "else:\n",
    "    print 'Year Path not there'\n",
    "    os.mkdir(yrpath)\n",
    "    \n",
    "if os.path.isdir(mnthpath) == True:\n",
    "    print 'Month Path is there'\n",
    "else:\n",
    "    print 'Month Path not there'\n",
    "    os.mkdir(mnthpath)\n",
    "    \n",
    "if os.path.isdir(dayzpath) == True:\n",
    "    print 'Day Path is there'\n",
    "else:\n",
    "    print 'Day Path not there'\n",
    "    os.mkdir(dayzpath)"
   ]
  },
  {
   "cell_type": "code",
   "execution_count": 10,
   "metadata": {
    "collapsed": false
   },
   "outputs": [
    {
     "data": {
      "text/plain": [
       "'/home/wcmckee/signinlca/2015/02/15'"
      ]
     },
     "execution_count": 10,
     "metadata": {},
     "output_type": "execute_result"
    }
   ],
   "source": [
    "dayzpath"
   ]
  },
  {
   "cell_type": "code",
   "execution_count": 11,
   "metadata": {
    "collapsed": true
   },
   "outputs": [],
   "source": [
    "os.chdir(dayzpath)"
   ]
  },
  {
   "cell_type": "markdown",
   "metadata": {},
   "source": [
    "Make new account, use existing account. \n",
    "\n",
    "Database of existing accounts... static page of files.\n",
    "\n",
    "Add password to account \n",
    "\n",
    "If you signin, doesn't ask if want to sign out.\n",
    "\n",
    "If you signout, doesn't ask if you want to sign in.\n",
    "\n",
    "Hash passwords"
   ]
  },
  {
   "cell_type": "markdown",
   "metadata": {},
   "source": [
    "When creating account asked for username (which could be firstname + lastname), and password. Passwords are hashed and when user tries to login the password inputed is compared to the hashed password. \n",
    "\n",
    "Save that hash as a varible that is then complared with the saved hash password."
   ]
  },
  {
   "cell_type": "code",
   "execution_count": 11,
   "metadata": {
    "collapsed": true
   },
   "outputs": [],
   "source": []
  },
  {
   "cell_type": "code",
   "execution_count": 12,
   "metadata": {
    "collapsed": true
   },
   "outputs": [],
   "source": [
    "from IPython.lib import passwd "
   ]
  },
  {
   "cell_type": "code",
   "execution_count": 13,
   "metadata": {
    "collapsed": false
   },
   "outputs": [
    {
     "name": "stdout",
     "output_type": "stream",
     "text": [
      "signup y/n y\n",
      "Welcome to signup!\n"
     ]
    }
   ],
   "source": [
    "signup = raw_input('signup y/n ')\n",
    "if 'y' in signup:\n",
    "    print('Welcome to signup!')"
   ]
  },
  {
   "cell_type": "code",
   "execution_count": 14,
   "metadata": {
    "collapsed": false
   },
   "outputs": [
    {
     "name": "stdout",
     "output_type": "stream",
     "text": [
      "firstname: will\n",
      "last name: mckee\n",
      "username: wcm\n",
      "Enter password: ········\n",
      "Verify password: ········\n"
     ]
    }
   ],
   "source": [
    "if 'y' in signup:\n",
    "    firnam = raw_input('firstname: ')\n",
    "    lasnam = raw_input('last name: ')\n",
    "    usenam = raw_input('username: ')\n",
    "    passworz = passwd()"
   ]
  },
  {
   "cell_type": "code",
   "execution_count": 15,
   "metadata": {
    "collapsed": false
   },
   "outputs": [],
   "source": [
    "decri = hashlib.sha512(firnam + lasnam)"
   ]
  },
  {
   "cell_type": "code",
   "execution_count": 16,
   "metadata": {
    "collapsed": false
   },
   "outputs": [],
   "source": [
    "#decri.update('testing')"
   ]
  },
  {
   "cell_type": "code",
   "execution_count": 16,
   "metadata": {
    "collapsed": false
   },
   "outputs": [],
   "source": []
  },
  {
   "cell_type": "code",
   "execution_count": 17,
   "metadata": {
    "collapsed": false
   },
   "outputs": [
    {
     "name": "stdout",
     "output_type": "stream",
     "text": [
      "signin? y/nn\n"
     ]
    }
   ],
   "source": [
    "signin = raw_input('signin? y/n')\n",
    "\n",
    "if 'y' in signin:\n",
    "    uzname = raw_input('firstname: ')\n",
    "    lzname = raw_input('lastname: ')\n",
    "    uzernam = raw_input('username: ')\n",
    "    passwaz = passwd()"
   ]
  },
  {
   "cell_type": "code",
   "execution_count": 20,
   "metadata": {
    "collapsed": false
   },
   "outputs": [
    {
     "data": {
      "text/plain": [
       "'sha1:f8b68b1ecdbc:cfede4eb3a69b3320bf1c9007d4aee946729b68a'"
      ]
     },
     "execution_count": 20,
     "metadata": {},
     "output_type": "execute_result"
    }
   ],
   "source": [
    "#passworz"
   ]
  },
  {
   "cell_type": "code",
   "execution_count": 21,
   "metadata": {
    "collapsed": false
   },
   "outputs": [],
   "source": [
    "#passworz"
   ]
  },
  {
   "cell_type": "code",
   "execution_count": 22,
   "metadata": {
    "collapsed": false
   },
   "outputs": [
    {
     "data": {
      "text/plain": [
       "'will'"
      ]
     },
     "execution_count": 22,
     "metadata": {},
     "output_type": "execute_result"
    }
   ],
   "source": [
    "firnam"
   ]
  },
  {
   "cell_type": "code",
   "execution_count": 23,
   "metadata": {
    "collapsed": false
   },
   "outputs": [
    {
     "ename": "NameError",
     "evalue": "name 'uzname' is not defined",
     "output_type": "error",
     "traceback": [
      "\u001b[1;31m---------------------------------------------------------------------------\u001b[0m",
      "\u001b[1;31mNameError\u001b[0m                                 Traceback (most recent call last)",
      "\u001b[1;32m<ipython-input-23-a0339bc21d3f>\u001b[0m in \u001b[0;36m<module>\u001b[1;34m()\u001b[0m\n\u001b[1;32m----> 1\u001b[1;33m \u001b[0muzname\u001b[0m\u001b[1;33m\u001b[0m\u001b[0m\n\u001b[0m",
      "\u001b[1;31mNameError\u001b[0m: name 'uzname' is not defined"
     ]
    }
   ],
   "source": [
    "uzname"
   ]
  },
  {
   "cell_type": "code",
   "execution_count": 24,
   "metadata": {
    "collapsed": false
   },
   "outputs": [
    {
     "name": "stdout",
     "output_type": "stream",
     "text": [
      "testing: blah\n"
     ]
    }
   ],
   "source": [
    "rers = hashlib.sha512(raw_input('testing: '))"
   ]
  },
  {
   "cell_type": "code",
   "execution_count": 25,
   "metadata": {
    "collapsed": false
   },
   "outputs": [
    {
     "data": {
      "text/plain": [
       "'c17795ec43e291913014a023cc219332ce3d44b78d80ea7bc57ae1d1d8478cce952090e92d4104a23f0be5dbc0af43d19765b41db021e4964001f121de7749ac'"
      ]
     },
     "execution_count": 25,
     "metadata": {},
     "output_type": "execute_result"
    }
   ],
   "source": [
    "decri.hexdigest()"
   ]
  },
  {
   "cell_type": "code",
   "execution_count": 26,
   "metadata": {
    "collapsed": false
   },
   "outputs": [],
   "source": [
    "terbo = hashlib.sha1(usenam)"
   ]
  },
  {
   "cell_type": "code",
   "execution_count": 26,
   "metadata": {
    "collapsed": true
   },
   "outputs": [],
   "source": []
  },
  {
   "cell_type": "code",
   "execution_count": 27,
   "metadata": {
    "collapsed": false
   },
   "outputs": [
    {
     "data": {
      "text/plain": [
       "'wcm'"
      ]
     },
     "execution_count": 27,
     "metadata": {},
     "output_type": "execute_result"
    }
   ],
   "source": [
    "usenam"
   ]
  },
  {
   "cell_type": "code",
   "execution_count": 28,
   "metadata": {
    "collapsed": false
   },
   "outputs": [],
   "source": [
    "daetim = hashlib.sha1(rers.hexdigest())"
   ]
  },
  {
   "cell_type": "code",
   "execution_count": 29,
   "metadata": {
    "collapsed": false
   },
   "outputs": [
    {
     "data": {
      "text/plain": [
       "'74357e6b29850a18dac30cff315c66965081c1eb'"
      ]
     },
     "execution_count": 29,
     "metadata": {},
     "output_type": "execute_result"
    }
   ],
   "source": [
    "terbo.hexdigest()"
   ]
  },
  {
   "cell_type": "code",
   "execution_count": 30,
   "metadata": {
    "collapsed": false
   },
   "outputs": [
    {
     "data": {
      "text/plain": [
       "'will'"
      ]
     },
     "execution_count": 30,
     "metadata": {},
     "output_type": "execute_result"
    }
   ],
   "source": [
    "firnam"
   ]
  },
  {
   "cell_type": "code",
   "execution_count": 31,
   "metadata": {
    "collapsed": false
   },
   "outputs": [
    {
     "name": "stdout",
     "output_type": "stream",
     "text": [
      "password: ········\n",
      "enter password again: ········\n"
     ]
    }
   ],
   "source": [
    "pastest = getpass.getpass('password: ')\n",
    "\n",
    "\n",
    "pasnde = getpass.getpass('enter password again: ')"
   ]
  },
  {
   "cell_type": "code",
   "execution_count": 32,
   "metadata": {
    "collapsed": true
   },
   "outputs": [],
   "source": [
    "saltin = os.urandom(16)"
   ]
  },
  {
   "cell_type": "code",
   "execution_count": 33,
   "metadata": {
    "collapsed": true
   },
   "outputs": [],
   "source": [
    "hpase = hashlib.md5()"
   ]
  },
  {
   "cell_type": "code",
   "execution_count": 34,
   "metadata": {
    "collapsed": false
   },
   "outputs": [],
   "source": [
    "hpase.update(saltin + pastest)"
   ]
  },
  {
   "cell_type": "code",
   "execution_count": 35,
   "metadata": {
    "collapsed": false
   },
   "outputs": [
    {
     "data": {
      "text/plain": [
       "'38061ec4e0ebba181562d562ba043197'"
      ]
     },
     "execution_count": 35,
     "metadata": {},
     "output_type": "execute_result"
    }
   ],
   "source": [
    "hpase.hexdigest()"
   ]
  },
  {
   "cell_type": "code",
   "execution_count": 37,
   "metadata": {
    "collapsed": false
   },
   "outputs": [],
   "source": [
    "from passlib.hash import pbkdf2_sha256"
   ]
  },
  {
   "cell_type": "code",
   "execution_count": 38,
   "metadata": {
    "collapsed": true
   },
   "outputs": [],
   "source": [
    "hashez = pbkdf2_sha256.encrypt(pastest, rounds=200000, salt_size=16)"
   ]
  },
  {
   "cell_type": "code",
   "execution_count": 39,
   "metadata": {
    "collapsed": false
   },
   "outputs": [
    {
     "name": "stdout",
     "output_type": "stream",
     "text": [
      "Password: ········\n"
     ]
    }
   ],
   "source": [
    "loginpas = getpass.getpass('Password: ')"
   ]
  },
  {
   "cell_type": "code",
   "execution_count": 40,
   "metadata": {
    "collapsed": false
   },
   "outputs": [
    {
     "data": {
      "text/plain": [
       "True"
      ]
     },
     "execution_count": 40,
     "metadata": {},
     "output_type": "execute_result"
    }
   ],
   "source": [
    "pbkdf2_sha256.verify(loginpas, hashez)"
   ]
  },
  {
   "cell_type": "code",
   "execution_count": null,
   "metadata": {
    "collapsed": true
   },
   "outputs": [],
   "source": []
  },
  {
   "cell_type": "code",
   "execution_count": 492,
   "metadata": {
    "collapsed": false
   },
   "outputs": [
    {
     "name": "stdout",
     "output_type": "stream",
     "text": [
      "passwords wrong\n"
     ]
    }
   ],
   "source": [
    "if pastest == pasnde:\n",
    "    print 'passwords correct'\n",
    "    \n",
    "else:\n",
    "    print 'passwords wrong'"
   ]
  },
  {
   "cell_type": "code",
   "execution_count": 488,
   "metadata": {
    "collapsed": false
   },
   "outputs": [
    {
     "name": "stdout",
     "output_type": "stream",
     "text": [
      "wcm\n"
     ]
    }
   ],
   "source": [
    "print pastest"
   ]
  },
  {
   "cell_type": "code",
   "execution_count": 471,
   "metadata": {
    "collapsed": false
   },
   "outputs": [],
   "source": [
    "faetim = hashlib.sha1(firnam)"
   ]
  },
  {
   "cell_type": "code",
   "execution_count": 472,
   "metadata": {
    "collapsed": false
   },
   "outputs": [
    {
     "data": {
      "text/plain": [
       "'5ec6000e7f68aec59927af6647dadef1b0201b04'"
      ]
     },
     "execution_count": 472,
     "metadata": {},
     "output_type": "execute_result"
    }
   ],
   "source": [
    "daetim.hexdigest()"
   ]
  },
  {
   "cell_type": "code",
   "execution_count": 473,
   "metadata": {
    "collapsed": false
   },
   "outputs": [
    {
     "data": {
      "text/plain": [
       "'c824fe0afe16857dd6f587aa7c4044d2642d60fb'"
      ]
     },
     "execution_count": 473,
     "metadata": {},
     "output_type": "execute_result"
    }
   ],
   "source": [
    "faetim.hexdigest()"
   ]
  },
  {
   "cell_type": "code",
   "execution_count": 474,
   "metadata": {
    "collapsed": false
   },
   "outputs": [
    {
     "name": "stdout",
     "output_type": "stream",
     "text": [
      "they are not the same\n"
     ]
    }
   ],
   "source": [
    "if daetim.hexdigest == terbo.hexdigest:\n",
    "    print 'They are the same'\n",
    "else:\n",
    "    print 'they are not the same'"
   ]
  },
  {
   "cell_type": "code",
   "execution_count": 475,
   "metadata": {
    "collapsed": false
   },
   "outputs": [
    {
     "data": {
      "text/plain": [
       "'d41d8cd98f00b204e9800998ecf8427e'"
      ]
     },
     "execution_count": 475,
     "metadata": {},
     "output_type": "execute_result"
    }
   ],
   "source": [
    "m.hexdigest()"
   ]
  },
  {
   "cell_type": "markdown",
   "metadata": {},
   "source": [
    "I have their signin data. Now what to do with it? Save it as a json object to be then used when they signin later? \n",
    "\n",
    "More security on it? Hash their usernames, firstnames, 2nd password?"
   ]
  },
  {
   "cell_type": "code",
   "execution_count": 476,
   "metadata": {
    "collapsed": false
   },
   "outputs": [
    {
     "data": {
      "text/plain": [
       "'sha1:11ccb3e2bac6:450bbf81dbf002e32745b85b5fc0a67acf7a10c5'"
      ]
     },
     "execution_count": 476,
     "metadata": {},
     "output_type": "execute_result"
    }
   ],
   "source": [
    "passworz"
   ]
  },
  {
   "cell_type": "code",
   "execution_count": 478,
   "metadata": {
    "collapsed": false
   },
   "outputs": [
    {
     "name": "stdout",
     "output_type": "stream",
     "text": [
      "signin y/n y\n",
      "You signed in\n"
     ]
    }
   ],
   "source": [
    "loginz = raw_input('signin y/n ')\n",
    "if 'y' in loginz:\n",
    "    print('You signed in')\n",
    "    #logoutz = None\n",
    "else:\n",
    "    logoutz = raw_input('signouts y/n ')"
   ]
  },
  {
   "cell_type": "code",
   "execution_count": 479,
   "metadata": {
    "collapsed": false
   },
   "outputs": [
    {
     "name": "stdout",
     "output_type": "stream",
     "text": [
      "first name: william\n",
      "last name: mckee\n",
      "tshirt size: L\n",
      "coffee volc: 4\n",
      "comments: testing\n"
     ]
    }
   ],
   "source": [
    "if 'y' in loginz:\n",
    "    firnam = raw_input('first name: ')\n",
    "    lasnam = raw_input('last name: ')\n",
    "    tshir = raw_input('tshirt size: ')\n",
    "    cofvol = raw_input('coffee volc: ')\n",
    "    comen = raw_input('comments: ')\n",
    "    betdict = dict()\n",
    "    betdict.update({'first-name' : firnam})\n",
    "    betdict.update({'last-name' : lasnam})\n",
    "    betdict.update({'signin-date' : returndate()})\n",
    "    betdict.update({'signin-hrmin' : returntime()})\n",
    "    betdict.update({'tshirt-size' : tshir})\n",
    "    betdict.update({'coffees' : int(cofvol)})\n",
    "    betdict.update({'comments:' : comen})\n",
    "    convj = json.dumps(betdict)\n",
    "    puser = getpass.getuser()\n",
    "    opday = open((dayzpath + '/' + firnam + lasnam) + '.json', 'w')\n",
    "    opday.write(str(convj))\n",
    "    opday.close()\n",
    "else:\n",
    "    print ('not signing in')\n"
   ]
  },
  {
   "cell_type": "code",
   "execution_count": 480,
   "metadata": {
    "collapsed": false
   },
   "outputs": [
    {
     "ename": "TypeError",
     "evalue": "argument of type 'NoneType' is not iterable",
     "output_type": "error",
     "traceback": [
      "\u001b[1;31m---------------------------------------------------------------------------\u001b[0m",
      "\u001b[1;31mTypeError\u001b[0m                                 Traceback (most recent call last)",
      "\u001b[1;32m<ipython-input-480-427a1c2429f6>\u001b[0m in \u001b[0;36m<module>\u001b[1;34m()\u001b[0m\n\u001b[1;32m----> 1\u001b[1;33m \u001b[1;32mif\u001b[0m \u001b[1;34m'y'\u001b[0m \u001b[1;32min\u001b[0m \u001b[0mlogoutz\u001b[0m\u001b[1;33m:\u001b[0m\u001b[1;33m\u001b[0m\u001b[0m\n\u001b[0m\u001b[0;32m      2\u001b[0m     \u001b[0mcomout\u001b[0m \u001b[1;33m=\u001b[0m \u001b[0mraw_input\u001b[0m\u001b[1;33m(\u001b[0m\u001b[1;34m'out comments: '\u001b[0m\u001b[1;33m)\u001b[0m\u001b[1;33m\u001b[0m\u001b[0m\n\u001b[0;32m      3\u001b[0m     \u001b[0moutdic\u001b[0m \u001b[1;33m=\u001b[0m \u001b[0mdict\u001b[0m\u001b[1;33m(\u001b[0m\u001b[1;33m)\u001b[0m\u001b[1;33m\u001b[0m\u001b[0m\n\u001b[0;32m      4\u001b[0m \u001b[1;33m\u001b[0m\u001b[0m\n\u001b[0;32m      5\u001b[0m     \u001b[0mfirnaz\u001b[0m \u001b[1;33m=\u001b[0m \u001b[0mraw_input\u001b[0m\u001b[1;33m(\u001b[0m\u001b[1;34m'first name: '\u001b[0m \u001b[1;33m)\u001b[0m\u001b[1;33m\u001b[0m\u001b[0m\n",
      "\u001b[1;31mTypeError\u001b[0m: argument of type 'NoneType' is not iterable"
     ]
    }
   ],
   "source": [
    "if 'y' in logoutz:\n",
    "    comout = raw_input('out comments: ')\n",
    "    outdic = dict()\n",
    "    \n",
    "    firnaz = raw_input('first name: ' )\n",
    "    lasnaz = raw_input('last name: ')\n",
    "    outdic.update({'signout-date': returndate()})\n",
    "    outdic.update({'signout-time': returntime()})\n",
    "    outdic.update({'signout-comment': comout})\n",
    "    conout = json.dumps(outdic)\n",
    "    signoutz = open((dayzpath + '/' + firnaz + lasnaz) + '.json', 'a')\n",
    "    signoutz.write(str(conout))\n",
    "    signoutz.close()\n",
    "else:\n",
    "    print ('not signing out')"
   ]
  },
  {
   "cell_type": "code",
   "execution_count": 481,
   "metadata": {
    "collapsed": false
   },
   "outputs": [
    {
     "data": {
      "text/plain": [
       "['williammckee.json', 'helentesting.json']"
      ]
     },
     "execution_count": 481,
     "metadata": {},
     "output_type": "execute_result"
    }
   ],
   "source": [
    "os.listdir(dayzpath)"
   ]
  },
  {
   "cell_type": "code",
   "execution_count": 481,
   "metadata": {
    "collapsed": false
   },
   "outputs": [],
   "source": []
  },
  {
   "cell_type": "code",
   "execution_count": 482,
   "metadata": {
    "collapsed": true
   },
   "outputs": [],
   "source": [
    "from walkdir import filtered_walk, dir_paths, all_paths, file_paths\n",
    "\n",
    "files = file_paths(filtered_walk('/home/wcmckee/signinlca/', depth=100, included_files=['*.json']))"
   ]
  },
  {
   "cell_type": "code",
   "execution_count": 483,
   "metadata": {
    "collapsed": false
   },
   "outputs": [
    {
     "name": "stdout",
     "output_type": "stream",
     "text": [
      "/home/wcmckee/signinlca/2015/02/12/williammckee.json\n",
      "/home/wcmckee/signinlca/2015/02/12/helentesting.json\n",
      "/home/wcmckee/signinlca/2015/Feb/12/emaaqwre.json\n",
      "/home/wcmckee/signinlca/2015/Feb/12/williammckee.json\n",
      "/home/wcmckee/signinlca/2015/Feb/12/willmckee.json\n"
     ]
    }
   ],
   "source": [
    "for fie in files:\n",
    "    #print fie\n",
    "    print fie"
   ]
  },
  {
   "cell_type": "code",
   "execution_count": 348,
   "metadata": {
    "collapsed": true
   },
   "outputs": [],
   "source": []
  },
  {
   "cell_type": "code",
   "execution_count": null,
   "metadata": {
    "collapsed": true
   },
   "outputs": [],
   "source": []
  }
 ],
 "metadata": {
  "kernelspec": {
   "display_name": "Python 2",
   "name": "python2"
  },
  "language_info": {
   "codemirror_mode": {
    "name": "ipython",
    "version": 2
   },
   "file_extension": ".py",
   "mimetype": "text/x-python",
   "name": "python",
   "nbconvert_exporter": "python",
   "pygments_lexer": "ipython2",
   "version": "2.7.8"
  }
 },
 "nbformat": 4,
 "nbformat_minor": 0
}
