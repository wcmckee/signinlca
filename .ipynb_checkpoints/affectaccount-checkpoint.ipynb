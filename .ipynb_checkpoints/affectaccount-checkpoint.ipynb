{
 "cells": [
  {
   "cell_type": "markdown",
   "metadata": {},
   "source": [
    "Affect Account\n",
    "\n",
    "Script that causes affects to users when the minutes folder reaches a certain amount.\n",
    "\n",
    "Read minutes folder. If user has less than 10 mins warn them. At 5 mins warn every 5 mins. 10 seconds count down. \n",
    "Suggest they buy more time. "
   ]
  },
  {
   "cell_type": "code",
   "execution_count": 1,
   "metadata": {
    "collapsed": true
   },
   "outputs": [],
   "source": [
    "rdminz = ('/home/wcmckee/signinlca/usernames/')"
   ]
  },
  {
   "cell_type": "code",
   "execution_count": 2,
   "metadata": {
    "collapsed": false
   },
   "outputs": [
    {
     "data": {
      "text/plain": [
       "'/home/wcmckee/signinlca/usernames/'"
      ]
     },
     "execution_count": 2,
     "metadata": {},
     "output_type": "execute_result"
    }
   ],
   "source": [
    "rdminz"
   ]
  },
  {
   "cell_type": "code",
   "execution_count": 3,
   "metadata": {
    "collapsed": true
   },
   "outputs": [],
   "source": [
    "import os"
   ]
  },
  {
   "cell_type": "code",
   "execution_count": 11,
   "metadata": {
    "collapsed": false
   },
   "outputs": [],
   "source": [
    "usrdir = os.listdir(rdminz)"
   ]
  },
  {
   "cell_type": "code",
   "execution_count": 5,
   "metadata": {
    "collapsed": true
   },
   "outputs": [],
   "source": [
    "#Make folders of usersnames from /home in /signinlca/usernames\n",
    "#make username-time etc files"
   ]
  },
  {
   "cell_type": "code",
   "execution_count": 7,
   "metadata": {
    "collapsed": false
   },
   "outputs": [],
   "source": [
    "holis = os.listdir('/home')"
   ]
  },
  {
   "cell_type": "code",
   "execution_count": 15,
   "metadata": {
    "collapsed": false
   },
   "outputs": [
    {
     "name": "stdout",
     "output_type": "stream",
     "text": [
      "tnow\n",
      "its not correct :(!\n",
      "tnow\n",
      "its not correct :(!\n",
      "sjohns\n",
      "its not correct :(!\n",
      "sjohns\n",
      "its not correct :(!\n",
      "signinlca.py\n",
      "its not correct :(!\n",
      "signinlca.py\n",
      "its not correct :(!\n",
      "charle\n",
      "its not correct :(!\n",
      "charle\n",
      "its not correct :(!\n",
      "wcm\n",
      "its not correct :(!\n",
      "wcm\n",
      "its not correct :(!\n",
      "wmen\n",
      "its not correct :(!\n",
      "wmen\n",
      "its not correct :(!\n",
      "webmck\n",
      "its not correct :(!\n",
      "webmck\n",
      "its not correct :(!\n",
      "pjohns\n",
      "its not correct :(!\n",
      "pjohns\n",
      "its not correct :(!\n",
      "red\n",
      "its not correct :(!\n",
      "red\n",
      "its not correct :(!\n",
      "wez\n",
      "its not correct :(!\n",
      "wez\n",
      "its not correct :(!\n",
      "checkthis\n",
      "its not correct :(!\n",
      "checkthis\n",
      "its not correct :(!\n",
      "blah\n",
      "its not correct :(!\n",
      "blah\n",
      "its not correct :(!\n",
      "joeman\n",
      "its not correct :(!\n",
      "joeman\n",
      "its not correct :(!\n",
      "wkee\n",
      "its not correct :(!\n",
      "wkee\n",
      "its not correct :(!\n",
      "jchick\n",
      "its not correct :(!\n",
      "jchick\n",
      "its not correct :(!\n",
      "wcmckee\n",
      "its not correct :(!\n",
      "wcmckee\n",
      "its not correct :(!\n",
      "wblack\n",
      "its not correct :(!\n",
      "wblack\n",
      "its not correct :(!\n",
      "joemanz\n",
      "its not correct :(!\n",
      "joemanz\n",
      "its not correct :(!\n",
      "poiu\n",
      "its not correct :(!\n",
      "poiu\n",
      "its not correct :(!\n",
      "poi\n",
      "its not correct :(!\n",
      "poi\n",
      "its not correct :(!\n",
      "qwe\n",
      "its not correct :(!\n",
      "qwe\n",
      "its not correct :(!\n",
      "point\n",
      "its not correct :(!\n",
      "point\n",
      "its not correct :(!\n",
      "pytest\n",
      "its not correct :(!\n",
      "pytest\n",
      "its not correct :(!\n",
      "figlet\n",
      "its not correct :(!\n",
      "figlet\n",
      "its not correct :(!\n",
      "blag\n",
      "its not correct :(!\n",
      "blag\n",
      "its not correct :(!\n",
      "gerty\n",
      "its not correct :(!\n",
      "gerty\n",
      "its not correct :(!\n",
      "jblog\n",
      "its not correct :(!\n",
      "jblog\n",
      "its not correct :(!\n",
      "ssung\n",
      "its not correct :(!\n",
      "ssung\n",
      "its not correct :(!\n",
      "clittle\n",
      "its not correct :(!\n",
      "clittle\n",
      "its not correct :(!\n",
      "joecheck\n",
      "its not correct :(!\n",
      "joecheck\n",
      "its not correct :(!\n"
     ]
    }
   ],
   "source": [
    "for hol in holis:\n",
    "    #print hol\n",
    "    for usrd in usrdir:\n",
    "        if hol == usrd:\n",
    "            #print('its correct!')\n",
    "            print hol\n",
    "        else:\n",
    "            print hol\n",
    "            print('its not correct :(!')\n",
    "\n",
    "#compare two lists - home and usernames. if home item isnt in \n",
    "#username item - add it make folder/files etc."
   ]
  },
  {
   "cell_type": "code",
   "execution_count": null,
   "metadata": {
    "collapsed": true
   },
   "outputs": [],
   "source": []
  }
 ],
 "metadata": {
  "kernelspec": {
   "display_name": "Python 2",
   "name": "python2"
  },
  "language_info": {
   "codemirror_mode": {
    "name": "ipython",
    "version": 2
   },
   "file_extension": ".py",
   "mimetype": "text/x-python",
   "name": "python",
   "nbconvert_exporter": "python",
   "pygments_lexer": "ipython2",
   "version": "2.7.8"
  }
 },
 "nbformat": 4,
 "nbformat_minor": 0
}
