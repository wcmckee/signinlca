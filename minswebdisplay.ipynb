{
 "cells": [
  {
   "cell_type": "markdown",
   "metadata": {},
   "source": [
    "Mins Web Display\n",
    "\n",
    "Display hostname and mins data on a web site.\n",
    "\n"
   ]
  },
  {
   "cell_type": "code",
   "execution_count": 18,
   "metadata": {
    "collapsed": false
   },
   "outputs": [],
   "source": [
    "import os\n",
    "from datetime import datetime\n",
    "import json\n",
    "import dominate\n",
    "#import gimpfu\n",
    " \n",
    "minsfold = \"/home/wcmckee/sellcoffee/mins/\"\n",
    "#modifiedTime = os.path.getmtime(filePath)\n",
    " \n",
    "#print datetime.fromtimestamp(modifiedTime).strftime(\"%d%b%Y %H:%M:%S\")"
   ]
  },
  {
   "cell_type": "code",
   "execution_count": 19,
   "metadata": {
    "collapsed": false
   },
   "outputs": [],
   "source": [
    "minlis = os.listdir(minsfold)"
   ]
  },
  {
   "cell_type": "code",
   "execution_count": 20,
   "metadata": {
    "collapsed": true
   },
   "outputs": [],
   "source": [
    "rdminz = []"
   ]
  },
  {
   "cell_type": "code",
   "execution_count": 21,
   "metadata": {
    "collapsed": true
   },
   "outputs": [],
   "source": [
    "mindictz = dict()"
   ]
  },
  {
   "cell_type": "code",
   "execution_count": 22,
   "metadata": {
    "collapsed": false
   },
   "outputs": [
    {
     "name": "stdout",
     "output_type": "stream",
     "text": [
      "wcm\n",
      "wcmckee\n",
      "pi\n",
      "poi\n",
      "zincwhite\n"
     ]
    }
   ],
   "source": [
    "for minl in minlis:\n",
    "    print minl\n",
    "    opminza = open('/home/wcmckee/sellcoffee/mins/' + minl)\n",
    "    #rdminz.append(opminza.read())\n",
    "    mindictz.update({minl : opminza.read()})\n",
    "    opminza.close()"
   ]
  },
  {
   "cell_type": "code",
   "execution_count": 23,
   "metadata": {
    "collapsed": false
   },
   "outputs": [
    {
     "data": {
      "text/plain": [
       "[]"
      ]
     },
     "execution_count": 23,
     "metadata": {},
     "output_type": "execute_result"
    }
   ],
   "source": [
    "rdminz"
   ]
  },
  {
   "cell_type": "code",
   "execution_count": 24,
   "metadata": {
    "collapsed": false
   },
   "outputs": [
    {
     "data": {
      "text/plain": [
       "{'pi': '0', 'poi': '94', 'wcm': '0', 'wcmckee': '362', 'zincwhite': ''}"
      ]
     },
     "execution_count": 24,
     "metadata": {},
     "output_type": "execute_result"
    }
   ],
   "source": [
    "mindictz"
   ]
  },
  {
   "cell_type": "code",
   "execution_count": 25,
   "metadata": {
    "collapsed": true
   },
   "outputs": [],
   "source": [
    "lshosnz = ('/home/wcmckee/sellcoffee/hostnames/')"
   ]
  },
  {
   "cell_type": "code",
   "execution_count": 26,
   "metadata": {
    "collapsed": false
   },
   "outputs": [],
   "source": [
    "complisz = os.listdir(lshosnz)"
   ]
  },
  {
   "cell_type": "code",
   "execution_count": 27,
   "metadata": {
    "collapsed": true
   },
   "outputs": [],
   "source": [
    "compdict = dict()"
   ]
  },
  {
   "cell_type": "code",
   "execution_count": 30,
   "metadata": {
    "collapsed": false
   },
   "outputs": [],
   "source": [
    "minjson = json.dumps(mindictz)"
   ]
  },
  {
   "cell_type": "code",
   "execution_count": 32,
   "metadata": {
    "collapsed": true
   },
   "outputs": [],
   "source": [
    "savjsmin = open('/home/wcmckee/sellcoffee/minutes.json', 'w')\n",
    "\n",
    "savjsmin.write(minjson)"
   ]
  },
  {
   "cell_type": "code",
   "execution_count": 33,
   "metadata": {
    "collapsed": true
   },
   "outputs": [],
   "source": [
    "savjsmin.close()"
   ]
  },
  {
   "cell_type": "code",
   "execution_count": 29,
   "metadata": {
    "collapsed": false
   },
   "outputs": [
    {
     "name": "stdout",
     "output_type": "stream",
     "text": [
      "bluecookies\n",
      "naplesyellow\n",
      "corlsbudcayon\n",
      "zincwhite\n"
     ]
    }
   ],
   "source": [
    "for compl in complisz:\n",
    "    print compl\n",
    "    opcompd = open(lshosnz + compl)\n",
    "    compdict.update({compl:opcompd.read().replace('\\n', '')})\n",
    "    opcompd.close()"
   ]
  },
  {
   "cell_type": "code",
   "execution_count": 17,
   "metadata": {
    "collapsed": false
   },
   "outputs": [
    {
     "name": "stdout",
     "output_type": "stream",
     "text": [
      "wcmckee\n",
      "wcmckee wcmckee\n",
      "poi wcmckee wcmckee wcmckee wcmckee wcmckee\n",
      "\n"
     ]
    }
   ],
   "source": []
  },
  {
   "cell_type": "code",
   "execution_count": 34,
   "metadata": {
    "collapsed": false
   },
   "outputs": [],
   "source": [
    "compjsq = json.dumps(compdict)"
   ]
  },
  {
   "cell_type": "code",
   "execution_count": 35,
   "metadata": {
    "collapsed": true
   },
   "outputs": [],
   "source": [
    "savjsnusr = open('/home/wcmckee/sellcoffee/comps.json', 'w')\n",
    "\n",
    "savjsnusr.write(compjsq)\n",
    "\n",
    "savjsnusr.close()"
   ]
  },
  {
   "cell_type": "code",
   "execution_count": 36,
   "metadata": {
    "collapsed": true
   },
   "outputs": [],
   "source": [
    "rdcompz = open('/home/wcmckee/sellcoffee/comps.json', 'r')\n",
    "\n",
    "rdstrza = rdcompz.read()"
   ]
  },
  {
   "cell_type": "code",
   "execution_count": 37,
   "metadata": {
    "collapsed": false
   },
   "outputs": [
    {
     "data": {
      "text/plain": [
       "'{\"corlsbudcayon\": \"wcmckee\", \"zincwhite\": \"wcmckee wcmckee\", \"bluecookies\": \"poi wcmckee wcmckee wcmckee wcmckee wcmckee\", \"naplesyellow\": \"\"}'"
      ]
     },
     "execution_count": 37,
     "metadata": {},
     "output_type": "execute_result"
    }
   ],
   "source": [
    "rdstrza"
   ]
  },
  {
   "cell_type": "code",
   "execution_count": null,
   "metadata": {
    "collapsed": true
   },
   "outputs": [],
   "source": []
  }
 ],
 "metadata": {
  "kernelspec": {
   "display_name": "Python 2",
   "language": "python",
   "name": "python2"
  },
  "language_info": {
   "codemirror_mode": {
    "name": "ipython",
    "version": 2
   },
   "file_extension": ".py",
   "mimetype": "text/x-python",
   "name": "python",
   "nbconvert_exporter": "python",
   "pygments_lexer": "ipython2",
   "version": "2.7.3"
  }
 },
 "nbformat": 4,
 "nbformat_minor": 0
}
