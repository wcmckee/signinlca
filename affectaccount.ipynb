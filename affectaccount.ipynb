{
 "cells": [
  {
   "cell_type": "markdown",
   "metadata": {},
   "source": [
    "Affect Account\n",
    "\n",
    "Script that causes affects to users when the minutes folder reaches a certain amount.\n",
    "\n",
    "Read minutes folder. If user has less than 10 mins warn them. At 5 mins warn every 5 mins. 10 seconds count down. \n",
    "Suggest they buy more time. "
   ]
  },
  {
   "cell_type": "markdown",
   "metadata": {},
   "source": [
    "minlim is a file called username-minlim. It contains a int that is the max amount of mins that user is allowed. \n",
    "\n",
    "If the user reaches their limit - they are loged out. "
   ]
  },
  {
   "cell_type": "code",
   "execution_count": 3,
   "metadata": {
    "collapsed": true
   },
   "outputs": [],
   "source": [
    "import os"
   ]
  },
  {
   "cell_type": "code",
   "execution_count": null,
   "metadata": {
    "collapsed": true
   },
   "outputs": [],
   "source": []
  },
  {
   "cell_type": "code",
   "execution_count": 1,
   "metadata": {
    "collapsed": true
   },
   "outputs": [],
   "source": [
    "minlimf = ('/home/wcmckee/sellcoffee/minlim/')"
   ]
  },
  {
   "cell_type": "code",
   "execution_count": 9,
   "metadata": {
    "collapsed": true
   },
   "outputs": [],
   "source": [
    "rdminz = ('/home/wcmckee/sellcoffee/mins/')"
   ]
  },
  {
   "cell_type": "code",
   "execution_count": 10,
   "metadata": {
    "collapsed": true
   },
   "outputs": [],
   "source": [
    "lshom = os.listdir(rdminz)"
   ]
  },
  {
   "cell_type": "code",
   "execution_count": 11,
   "metadata": {
    "collapsed": false
   },
   "outputs": [
    {
     "data": {
      "text/plain": [
       "['wcm', 'wcmckee', 'pi', 'poi', 'zincwhite']"
      ]
     },
     "execution_count": 11,
     "metadata": {},
     "output_type": "execute_result"
    }
   ],
   "source": [
    "lshom"
   ]
  },
  {
   "cell_type": "code",
   "execution_count": 15,
   "metadata": {
    "collapsed": false
   },
   "outputs": [
    {
     "name": "stdout",
     "output_type": "stream",
     "text": [
      "wcm\n",
      "wcmckee\n",
      "pi\n",
      "poi\n",
      "zincwhite\n"
     ]
    }
   ],
   "source": [
    "for lsh in lshom:\n",
    "    print lsh\n",
    "    opminz = open(minlimf + lsh, 'w')\n",
    "    #Here i write the limit that all users will be getting.\n",
    "    #Change this file for indivials/groups etc. \n",
    "    opminz.write(str(60))\n",
    "    opminz.close()"
   ]
  },
  {
   "cell_type": "code",
   "execution_count": 18,
   "metadata": {
    "collapsed": false
   },
   "outputs": [],
   "source": [
    "for lsh in lshom:\n",
    "    #print lsh\n",
    "    opminz = open(rdminz + lsh, 'r')\n",
    "    #Here i write the limit that all users will be getting.\n",
    "    #Change this file for indivials/groups etc. \n",
    "    opminz.read()\n",
    "    opminz.close()"
   ]
  },
  {
   "cell_type": "code",
   "execution_count": 13,
   "metadata": {
    "collapsed": false
   },
   "outputs": [
    {
     "data": {
      "text/plain": [
       "'/home/wcmckee/sellcoffee/minlim/'"
      ]
     },
     "execution_count": 13,
     "metadata": {},
     "output_type": "execute_result"
    }
   ],
   "source": [
    "minlimf"
   ]
  },
  {
   "cell_type": "code",
   "execution_count": 7,
   "metadata": {
    "collapsed": false
   },
   "outputs": [
    {
     "data": {
      "text/plain": [
       "'/home/wcmckee/signinlca/usernames/'"
      ]
     },
     "execution_count": 7,
     "metadata": {},
     "output_type": "execute_result"
    }
   ],
   "source": [
    "rdminz"
   ]
  },
  {
   "cell_type": "code",
   "execution_count": 9,
   "metadata": {
    "collapsed": false
   },
   "outputs": [],
   "source": [
    "usrdir = os.listdir(rdminz)"
   ]
  },
  {
   "cell_type": "code",
   "execution_count": 10,
   "metadata": {
    "collapsed": true
   },
   "outputs": [],
   "source": [
    "#Make folders of usersnames from /home in /signinlca/usernames\n",
    "#make username-time etc files"
   ]
  },
  {
   "cell_type": "code",
   "execution_count": 11,
   "metadata": {
    "collapsed": true
   },
   "outputs": [],
   "source": [
    "minz = ('/home/wcmckee/sellcoffee/usernames/')"
   ]
  },
  {
   "cell_type": "code",
   "execution_count": 12,
   "metadata": {
    "collapsed": false
   },
   "outputs": [
    {
     "data": {
      "text/plain": [
       "[]"
      ]
     },
     "execution_count": 12,
     "metadata": {},
     "output_type": "execute_result"
    }
   ],
   "source": [
    "os.listdir(minz)"
   ]
  },
  {
   "cell_type": "code",
   "execution_count": 18,
   "metadata": {
    "collapsed": true
   },
   "outputs": [],
   "source": [
    "thrlis = []"
   ]
  },
  {
   "cell_type": "code",
   "execution_count": null,
   "metadata": {
    "collapsed": true
   },
   "outputs": [],
   "source": []
  },
  {
   "cell_type": "code",
   "execution_count": 13,
   "metadata": {
    "collapsed": false
   },
   "outputs": [],
   "source": [
    "holis = os.listdir('/home')"
   ]
  },
  {
   "cell_type": "code",
   "execution_count": 20,
   "metadata": {
    "collapsed": false
   },
   "outputs": [
    {
     "name": "stdout",
     "output_type": "stream",
     "text": [
      "tnow\n",
      "sjohns\n",
      "signinlca.py\n",
      "charle\n",
      "wcm\n",
      "wmen\n",
      "we3mck\n",
      "pjohns\n",
      "red\n",
      "wez\n",
      "checkthis\n",
      "3lah\n",
      "joeman\n",
      "wkee\n",
      "jchick\n",
      "wcmckee\n",
      "w3lack\n",
      "joemanz\n",
      "poiu\n",
      "poi\n",
      "qwe\n",
      "point\n",
      "pytest\n",
      "figlet\n",
      "3lag\n",
      "gerty\n",
      "j3log\n",
      "ssung\n",
      "clittle\n",
      "joecheck\n"
     ]
    }
   ],
   "source": [
    "for hol in holis:\n",
    "    #print hol\n",
    "    #print hol.upper()\n",
    "    \n",
    "    hthr = hol.replace('b', '3')\n",
    "    print hthr\n",
    "    thrlis.append(hthr)\n",
    "    #for usrd in usrdir:\n",
    "    #    if hol == usrd:\n",
    "            #print('its correct!')\n",
    "    #        print hol\n",
    "    #    else:\n",
    "    #        print hol\n",
    "    #        print('its not correct :(!')\n",
    "\n",
    "#compare two lists - home and usernames. if home item isnt in \n",
    "#username item - add it make folder/files etc."
   ]
  },
  {
   "cell_type": "code",
   "execution_count": 21,
   "metadata": {
    "collapsed": false
   },
   "outputs": [
    {
     "data": {
      "text/plain": [
       "['tnow',\n",
       " 'sjohns',\n",
       " 'signinlca.py',\n",
       " 'charle',\n",
       " 'wcm',\n",
       " 'wmen',\n",
       " 'we3mck',\n",
       " 'pjohns',\n",
       " 'red',\n",
       " 'wez',\n",
       " 'checkthis',\n",
       " '3lah',\n",
       " 'joeman',\n",
       " 'wkee',\n",
       " 'jchick',\n",
       " 'wcmckee',\n",
       " 'w3lack',\n",
       " 'joemanz',\n",
       " 'poiu',\n",
       " 'poi',\n",
       " 'qwe',\n",
       " 'point',\n",
       " 'pytest',\n",
       " 'figlet',\n",
       " '3lag',\n",
       " 'gerty',\n",
       " 'j3log',\n",
       " 'ssung',\n",
       " 'clittle',\n",
       " 'joecheck',\n",
       " 'tnow',\n",
       " 'sjohns',\n",
       " 'signinlca.py',\n",
       " 'charle',\n",
       " 'wcm',\n",
       " 'wmen',\n",
       " 'we3mck',\n",
       " 'pjohns',\n",
       " 'red',\n",
       " 'wez',\n",
       " 'checkthis',\n",
       " '3lah',\n",
       " 'joeman',\n",
       " 'wkee',\n",
       " 'jchick',\n",
       " 'wcmckee',\n",
       " 'w3lack',\n",
       " 'joemanz',\n",
       " 'poiu',\n",
       " 'poi',\n",
       " 'qwe',\n",
       " 'point',\n",
       " 'pytest',\n",
       " 'figlet',\n",
       " '3lag',\n",
       " 'gerty',\n",
       " 'j3log',\n",
       " 'ssung',\n",
       " 'clittle',\n",
       " 'joecheck']"
      ]
     },
     "execution_count": 21,
     "metadata": {},
     "output_type": "execute_result"
    }
   ],
   "source": [
    "thrlis"
   ]
  },
  {
   "cell_type": "code",
   "execution_count": null,
   "metadata": {
    "collapsed": true
   },
   "outputs": [],
   "source": []
  },
  {
   "cell_type": "code",
   "execution_count": 16,
   "metadata": {
    "collapsed": false
   },
   "outputs": [
    {
     "data": {
      "text/plain": [
       "'joecheck'"
      ]
     },
     "execution_count": 16,
     "metadata": {},
     "output_type": "execute_result"
    }
   ],
   "source": [
    "hthr"
   ]
  },
  {
   "cell_type": "code",
   "execution_count": null,
   "metadata": {
    "collapsed": true
   },
   "outputs": [],
   "source": []
  },
  {
   "cell_type": "code",
   "execution_count": 14,
   "metadata": {
    "collapsed": true
   },
   "outputs": [],
   "source": []
  },
  {
   "cell_type": "code",
   "execution_count": null,
   "metadata": {
    "collapsed": true
   },
   "outputs": [],
   "source": [
    "\n"
   ]
  }
 ],
 "metadata": {
  "kernelspec": {
   "display_name": "Python 2",
   "language": "python",
   "name": "python2"
  },
  "language_info": {
   "codemirror_mode": {
    "name": "ipython",
    "version": 2
   },
   "file_extension": ".py",
   "mimetype": "text/x-python",
   "name": "python",
   "nbconvert_exporter": "python",
   "pygments_lexer": "ipython2",
   "version": "2.7.3"
  }
 },
 "nbformat": 4,
 "nbformat_minor": 0
}
