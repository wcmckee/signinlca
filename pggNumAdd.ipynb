{
 "cells": [
  {
   "cell_type": "code",
   "execution_count": 1,
   "metadata": {
    "collapsed": false
   },
   "outputs": [
    {
     "name": "stdout",
     "output_type": "stream",
     "text": [
      "[5, 10, 22, 33, 49, 54, 62, 79, 88, 96]\n"
     ]
    }
   ],
   "source": [
    "# IPython log file\n",
    "\n",
    "#get_ipython().magic(u'logstart')\n",
    "import random\n",
    "ranumlis = []\n",
    "ranlow = 0\n",
    "ranhigh = 9\n",
    "\n",
    "for ranez in range(10):\n",
    "      randmun = random.randint(ranlow, ranhigh)\n",
    "      ranumlis.append(randmun)\n",
    "\n",
    "      ranlow = (ranlow + 10)\n",
    "      ranhigh = (ranhigh + 10)\n",
    "\n",
    "print ranumlis\n",
    "\n",
    "savlis = open('/home/wcmckee/pgg/roll.json', 'w')      \n",
    "savlis.write(str(ranumlis))\n",
    "savlis.close()\n"
   ]
  },
  {
   "cell_type": "markdown",
   "metadata": {},
   "source": [
    "Testing of playing pyguessgame. \n",
    "Generates random numbers and plays a game.\n",
    "\n",
    "Create two random lists of numbers 0/9,10/19,20/29 etc to 100.\n",
    "Compare the two lists. If win mark, if lose mark.\n",
    "\n",
    "Debian"
   ]
  },
  {
   "cell_type": "code",
   "execution_count": 2,
   "metadata": {
    "collapsed": false
   },
   "outputs": [],
   "source": [
    "#for ronum in ranumlis:\n",
    "#    print ronum"
   ]
  },
  {
   "cell_type": "code",
   "execution_count": 3,
   "metadata": {
    "collapsed": true
   },
   "outputs": [],
   "source": [
    "randict = dict()"
   ]
  },
  {
   "cell_type": "code",
   "execution_count": 4,
   "metadata": {
    "collapsed": true
   },
   "outputs": [],
   "source": [
    "othgues = []\n",
    "othlow = 0\n",
    "othhigh = 9\n"
   ]
  },
  {
   "cell_type": "code",
   "execution_count": 5,
   "metadata": {
    "collapsed": false
   },
   "outputs": [],
   "source": [
    "for ranez in range(10):\n",
    "      randxz = random.randint(othlow, othhigh)\n",
    "      othgues.append(randxz)\n",
    "\n",
    "      othlow = (othlow + 10)\n",
    "      othhigh = (othhigh + 10)\n",
    "\n",
    "#print othgues"
   ]
  },
  {
   "cell_type": "code",
   "execution_count": 6,
   "metadata": {
    "collapsed": true
   },
   "outputs": [],
   "source": [
    "tenlis = ['zero', 'ten', 'twenty', 'thirty', 'fourty',\n",
    "          'fifty', 'sixty', 'seventy', 'eighty', \n",
    "          'ninety']"
   ]
  },
  {
   "cell_type": "code",
   "execution_count": 7,
   "metadata": {
    "collapsed": false
   },
   "outputs": [],
   "source": [
    "#for telis in tenlis:\n",
    "#    for diez in dieci:\n",
    "#        print telis"
   ]
  },
  {
   "cell_type": "code",
   "execution_count": 8,
   "metadata": {
    "collapsed": false
   },
   "outputs": [],
   "source": [
    "#randict"
   ]
  },
  {
   "cell_type": "markdown",
   "metadata": {},
   "source": [
    "Makes dict with keys pointing to the 10s numbers. \n",
    "The value needs the list of random numbers updated.\n",
    "\n",
    "Currently it just adds the number one.\n",
    "How to add the random number list?"
   ]
  },
  {
   "cell_type": "code",
   "execution_count": 9,
   "metadata": {
    "collapsed": false
   },
   "outputs": [
    {
     "name": "stdout",
     "output_type": "stream",
     "text": [
      "5 You Lose!\n",
      "10 You Lose!\n",
      "22 You Lose!\n",
      "33 You Lose!\n",
      "49 You Lose!\n",
      "54 You Lose!\n",
      "62 You Lose!\n",
      "79 You Win!\n",
      "88 You Lose!\n",
      "96 You Win!\n"
     ]
    }
   ],
   "source": [
    "for ronum in ranumlis:\n",
    "    #print ronum\n",
    "    if ronum in othgues:\n",
    "        print (str(ronum) + ' You Win!')\n",
    "    else:\n",
    "        print (str(ronum) + ' You Lose!')\n",
    "    "
   ]
  },
  {
   "cell_type": "code",
   "execution_count": 10,
   "metadata": {
    "collapsed": true
   },
   "outputs": [],
   "source": [
    "#dieci = dict()"
   ]
  },
  {
   "cell_type": "code",
   "execution_count": 11,
   "metadata": {
    "collapsed": false
   },
   "outputs": [],
   "source": [
    "#for ranz in range(10):\n",
    "    #print str(ranz) + str(1)#\n",
    "#    dieci.update({str(ranz) + str(1): str(ranz)})\n",
    "#    for numz in range(10):\n",
    "        #print str(ranz) + str(numz)\n",
    "#        print numz\n",
    "#print zetoo"
   ]
  },
  {
   "cell_type": "code",
   "execution_count": 12,
   "metadata": {
    "collapsed": false
   },
   "outputs": [],
   "source": [
    "#for diez in dieci:\n",
    "#    print diez"
   ]
  },
  {
   "cell_type": "code",
   "execution_count": 13,
   "metadata": {
    "collapsed": false
   },
   "outputs": [],
   "source": [
    "#for sinum  in ranumlis:\n",
    "#    print str(sinum) + (str('\\n'))\n",
    "    #if str(sinum) in othhigh:\n",
    "    #    print 'Win'\n",
    "        "
   ]
  },
  {
   "cell_type": "code",
   "execution_count": 14,
   "metadata": {
    "collapsed": true
   },
   "outputs": [],
   "source": [
    "#import os"
   ]
  },
  {
   "cell_type": "code",
   "execution_count": 15,
   "metadata": {
    "collapsed": false
   },
   "outputs": [],
   "source": [
    "#os.system('sudo adduser joemanz --disabled-login --quiet -D')"
   ]
  },
  {
   "cell_type": "code",
   "execution_count": 16,
   "metadata": {
    "collapsed": false
   },
   "outputs": [],
   "source": [
    "#uslis = os.listdir('/home/wcmckee/signinlca/usernames/')\n",
    "#print ('User List: ')\n",
    "#for usl in uslis:\n",
    "#    print usl\n",
    "#    os.system('sudo adduser ' + usl + ' ' + '--disabled-login --quiet')\n",
    "    \n",
    "#    os.system('sudo mv /home/wcmckee/signinlca/usernames/' + usl  + ' ' + '/home/' + usl + ' ')  \n"
   ]
  },
  {
   "cell_type": "code",
   "execution_count": 17,
   "metadata": {
    "collapsed": true
   },
   "outputs": [],
   "source": [
    "#print dieci"
   ]
  },
  {
   "cell_type": "code",
   "execution_count": 17,
   "metadata": {
    "collapsed": true
   },
   "outputs": [],
   "source": []
  },
  {
   "cell_type": "code",
   "execution_count": 17,
   "metadata": {
    "collapsed": true
   },
   "outputs": [],
   "source": []
  },
  {
   "cell_type": "code",
   "execution_count": 17,
   "metadata": {
    "collapsed": true
   },
   "outputs": [],
   "source": []
  },
  {
   "cell_type": "code",
   "execution_count": 17,
   "metadata": {
    "collapsed": true
   },
   "outputs": [],
   "source": []
  },
  {
   "cell_type": "code",
   "execution_count": 17,
   "metadata": {
    "collapsed": true
   },
   "outputs": [],
   "source": []
  },
  {
   "cell_type": "code",
   "execution_count": 17,
   "metadata": {
    "collapsed": true
   },
   "outputs": [],
   "source": []
  },
  {
   "cell_type": "code",
   "execution_count": 17,
   "metadata": {
    "collapsed": true
   },
   "outputs": [],
   "source": []
  },
  {
   "cell_type": "code",
   "execution_count": 17,
   "metadata": {
    "collapsed": true
   },
   "outputs": [],
   "source": []
  },
  {
   "cell_type": "code",
   "execution_count": null,
   "metadata": {
    "collapsed": true
   },
   "outputs": [],
   "source": []
  }
 ],
 "metadata": {
  "kernelspec": {
   "display_name": "Python 2",
   "name": "python2"
  },
  "language_info": {
   "codemirror_mode": {
    "name": "ipython",
    "version": 2
   },
   "file_extension": ".py",
   "mimetype": "text/x-python",
   "name": "python",
   "nbconvert_exporter": "python",
   "pygments_lexer": "ipython2",
   "version": "2.7.8"
  }
 },
 "nbformat": 4,
 "nbformat_minor": 0
}
