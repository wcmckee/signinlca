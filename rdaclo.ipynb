{
 "cells": [
  {
   "cell_type": "markdown",
   "metadata": {},
   "source": [
    "rdaclo\n",
    "\n",
    "read account loop\n",
    "\n",
    "Script that does things depending on how much time the user has. Reads time file that is a dict with key of user and value is time"
   ]
  },
  {
   "cell_type": "code",
   "execution_count": 41,
   "metadata": {
    "collapsed": true
   },
   "outputs": [],
   "source": [
    "import json\n",
    "import os\n",
    "import configparser"
   ]
  },
  {
   "cell_type": "code",
   "execution_count": null,
   "metadata": {
    "collapsed": true
   },
   "outputs": [],
   "source": []
  },
  {
   "cell_type": "code",
   "execution_count": 7,
   "metadata": {
    "collapsed": true
   },
   "outputs": [],
   "source": [
    "opus = open('/home/wcmckee/sellcoffee/hostnames/localhost', 'r')"
   ]
  },
  {
   "cell_type": "code",
   "execution_count": 8,
   "metadata": {
    "collapsed": false
   },
   "outputs": [],
   "source": [
    "opjsn = opus.read()"
   ]
  },
  {
   "cell_type": "code",
   "execution_count": 9,
   "metadata": {
    "collapsed": true
   },
   "outputs": [],
   "source": [
    "neza = json.loads(opjsn)"
   ]
  },
  {
   "cell_type": "code",
   "execution_count": 15,
   "metadata": {
    "collapsed": false
   },
   "outputs": [],
   "source": [
    "#os.system('sudo passwd -l ' + locusa) \n",
    "#os.system('sudo pgrep -u ' + locusa)\n",
    "#os.system('sudo killall -KILL -u ' + locusa)neza.keys()"
   ]
  },
  {
   "cell_type": "code",
   "execution_count": 23,
   "metadata": {
    "collapsed": false
   },
   "outputs": [
    {
     "data": {
      "text/plain": [
       "{u'blag': 0,\n",
       " u'blah': 0,\n",
       " u'charle': 0,\n",
       " u'checkthis': 0,\n",
       " u'clittle': 0,\n",
       " u'figlet': 0,\n",
       " u'gerty': 0,\n",
       " u'jblog': 0,\n",
       " u'jchick': 0,\n",
       " u'joecheck': 0,\n",
       " u'joeman': 0,\n",
       " u'joemanz': 0,\n",
       " u'pjohns': 0,\n",
       " u'poi': 0,\n",
       " u'point': 0,\n",
       " u'poiu': 0,\n",
       " u'pytest': 0,\n",
       " u'qwe': 0,\n",
       " u'red': 0,\n",
       " u'signinlca.py': 0,\n",
       " u'sjohns': 0,\n",
       " u'ssung': 0,\n",
       " u'tnow': 0,\n",
       " u'wblack': 0,\n",
       " u'wcm': 0,\n",
       " u'wcmckee': 0,\n",
       " u'webmck': 0,\n",
       " u'wez': 0,\n",
       " u'wkee': 0,\n",
       " u'wmen': 0}"
      ]
     },
     "execution_count": 23,
     "metadata": {},
     "output_type": "execute_result"
    }
   ],
   "source": [
    "neza"
   ]
  },
  {
   "cell_type": "code",
   "execution_count": 33,
   "metadata": {
    "collapsed": false
   },
   "outputs": [
    {
     "name": "stdout",
     "output_type": "stream",
     "text": [
      "0\n",
      "No Time!\n",
      "0\n",
      "No Time!\n",
      "0\n",
      "No Time!\n",
      "0\n",
      "No Time!\n",
      "0\n",
      "No Time!\n",
      "0\n",
      "No Time!\n",
      "0\n",
      "No Time!\n",
      "0\n",
      "No Time!\n",
      "0\n",
      "No Time!\n",
      "0\n",
      "No Time!\n",
      "0\n",
      "No Time!\n",
      "0\n",
      "No Time!\n",
      "0\n",
      "No Time!\n",
      "0\n",
      "No Time!\n",
      "0\n",
      "No Time!\n",
      "0\n",
      "No Time!\n",
      "0\n",
      "No Time!\n",
      "0\n",
      "No Time!\n",
      "0\n",
      "No Time!\n",
      "0\n",
      "No Time!\n",
      "0\n",
      "No Time!\n",
      "0\n",
      "No Time!\n",
      "0\n",
      "No Time!\n",
      "0\n",
      "No Time!\n",
      "0\n",
      "No Time!\n",
      "0\n",
      "No Time!\n",
      "0\n",
      "No Time!\n",
      "0\n",
      "No Time!\n",
      "0\n",
      "No Time!\n",
      "0\n",
      "No Time!\n"
     ]
    }
   ],
   "source": [
    "for nezf in neza.values():\n",
    "    print nezf\n",
    "    if nezf == 0:\n",
    "        print ('No Time!')\n",
    "        #print ('Logout ' + neza())"
   ]
  },
  {
   "cell_type": "code",
   "execution_count": 40,
   "metadata": {
    "collapsed": false
   },
   "outputs": [
    {
     "name": "stdout",
     "output_type": "stream",
     "text": [
      "joemanz\n",
      "point\n",
      "wkee\n",
      "blah\n",
      "charle\n",
      "poi\n",
      "wblack\n",
      "wmen\n",
      "blag\n",
      "figlet\n",
      "sjohns\n",
      "joeman\n",
      "jchick\n",
      "pytest\n",
      "jblog\n",
      "wez\n",
      "wcm\n",
      "red\n",
      "wcmckee\n",
      "qwe\n",
      "checkthis\n",
      "poiu\n",
      "pjohns\n",
      "tnow\n",
      "ssung\n",
      "signinlca.py\n",
      "gerty\n",
      "webmck\n",
      "joecheck\n",
      "clittle\n"
     ]
    }
   ],
   "source": [
    "for naez in neza.keys():\n",
    "    print naez"
   ]
  },
  {
   "cell_type": "code",
   "execution_count": 38,
   "metadata": {
    "collapsed": false
   },
   "outputs": [
    {
     "name": "stdout",
     "output_type": "stream",
     "text": [
      "0\n",
      "No Time!\n",
      "[u'joemanz', u'point', u'wkee', u'blah', u'charle', u'poi', u'wblack', u'wmen', u'blag', u'figlet', u'sjohns', u'joeman', u'jchick', u'pytest', u'jblog', u'wez', u'wcm', u'red', u'wcmckee', u'qwe', u'checkthis', u'poiu', u'pjohns', u'tnow', u'ssung', u'signinlca.py', u'gerty', u'webmck', u'joecheck', u'clittle']\n",
      "0\n",
      "No Time!\n",
      "[u'joemanz', u'point', u'wkee', u'blah', u'charle', u'poi', u'wblack', u'wmen', u'blag', u'figlet', u'sjohns', u'joeman', u'jchick', u'pytest', u'jblog', u'wez', u'wcm', u'red', u'wcmckee', u'qwe', u'checkthis', u'poiu', u'pjohns', u'tnow', u'ssung', u'signinlca.py', u'gerty', u'webmck', u'joecheck', u'clittle']\n",
      "0\n",
      "No Time!\n",
      "[u'joemanz', u'point', u'wkee', u'blah', u'charle', u'poi', u'wblack', u'wmen', u'blag', u'figlet', u'sjohns', u'joeman', u'jchick', u'pytest', u'jblog', u'wez', u'wcm', u'red', u'wcmckee', u'qwe', u'checkthis', u'poiu', u'pjohns', u'tnow', u'ssung', u'signinlca.py', u'gerty', u'webmck', u'joecheck', u'clittle']\n",
      "0\n",
      "No Time!\n",
      "[u'joemanz', u'point', u'wkee', u'blah', u'charle', u'poi', u'wblack', u'wmen', u'blag', u'figlet', u'sjohns', u'joeman', u'jchick', u'pytest', u'jblog', u'wez', u'wcm', u'red', u'wcmckee', u'qwe', u'checkthis', u'poiu', u'pjohns', u'tnow', u'ssung', u'signinlca.py', u'gerty', u'webmck', u'joecheck', u'clittle']\n",
      "0\n",
      "No Time!\n",
      "[u'joemanz', u'point', u'wkee', u'blah', u'charle', u'poi', u'wblack', u'wmen', u'blag', u'figlet', u'sjohns', u'joeman', u'jchick', u'pytest', u'jblog', u'wez', u'wcm', u'red', u'wcmckee', u'qwe', u'checkthis', u'poiu', u'pjohns', u'tnow', u'ssung', u'signinlca.py', u'gerty', u'webmck', u'joecheck', u'clittle']\n",
      "0\n",
      "No Time!\n",
      "[u'joemanz', u'point', u'wkee', u'blah', u'charle', u'poi', u'wblack', u'wmen', u'blag', u'figlet', u'sjohns', u'joeman', u'jchick', u'pytest', u'jblog', u'wez', u'wcm', u'red', u'wcmckee', u'qwe', u'checkthis', u'poiu', u'pjohns', u'tnow', u'ssung', u'signinlca.py', u'gerty', u'webmck', u'joecheck', u'clittle']\n",
      "0\n",
      "No Time!\n",
      "[u'joemanz', u'point', u'wkee', u'blah', u'charle', u'poi', u'wblack', u'wmen', u'blag', u'figlet', u'sjohns', u'joeman', u'jchick', u'pytest', u'jblog', u'wez', u'wcm', u'red', u'wcmckee', u'qwe', u'checkthis', u'poiu', u'pjohns', u'tnow', u'ssung', u'signinlca.py', u'gerty', u'webmck', u'joecheck', u'clittle']\n",
      "0\n",
      "No Time!\n",
      "[u'joemanz', u'point', u'wkee', u'blah', u'charle', u'poi', u'wblack', u'wmen', u'blag', u'figlet', u'sjohns', u'joeman', u'jchick', u'pytest', u'jblog', u'wez', u'wcm', u'red', u'wcmckee', u'qwe', u'checkthis', u'poiu', u'pjohns', u'tnow', u'ssung', u'signinlca.py', u'gerty', u'webmck', u'joecheck', u'clittle']\n",
      "0\n",
      "No Time!\n",
      "[u'joemanz', u'point', u'wkee', u'blah', u'charle', u'poi', u'wblack', u'wmen', u'blag', u'figlet', u'sjohns', u'joeman', u'jchick', u'pytest', u'jblog', u'wez', u'wcm', u'red', u'wcmckee', u'qwe', u'checkthis', u'poiu', u'pjohns', u'tnow', u'ssung', u'signinlca.py', u'gerty', u'webmck', u'joecheck', u'clittle']\n",
      "0\n",
      "No Time!\n",
      "[u'joemanz', u'point', u'wkee', u'blah', u'charle', u'poi', u'wblack', u'wmen', u'blag', u'figlet', u'sjohns', u'joeman', u'jchick', u'pytest', u'jblog', u'wez', u'wcm', u'red', u'wcmckee', u'qwe', u'checkthis', u'poiu', u'pjohns', u'tnow', u'ssung', u'signinlca.py', u'gerty', u'webmck', u'joecheck', u'clittle']\n",
      "0\n",
      "No Time!\n",
      "[u'joemanz', u'point', u'wkee', u'blah', u'charle', u'poi', u'wblack', u'wmen', u'blag', u'figlet', u'sjohns', u'joeman', u'jchick', u'pytest', u'jblog', u'wez', u'wcm', u'red', u'wcmckee', u'qwe', u'checkthis', u'poiu', u'pjohns', u'tnow', u'ssung', u'signinlca.py', u'gerty', u'webmck', u'joecheck', u'clittle']\n",
      "0\n",
      "No Time!\n",
      "[u'joemanz', u'point', u'wkee', u'blah', u'charle', u'poi', u'wblack', u'wmen', u'blag', u'figlet', u'sjohns', u'joeman', u'jchick', u'pytest', u'jblog', u'wez', u'wcm', u'red', u'wcmckee', u'qwe', u'checkthis', u'poiu', u'pjohns', u'tnow', u'ssung', u'signinlca.py', u'gerty', u'webmck', u'joecheck', u'clittle']\n",
      "0\n",
      "No Time!\n",
      "[u'joemanz', u'point', u'wkee', u'blah', u'charle', u'poi', u'wblack', u'wmen', u'blag', u'figlet', u'sjohns', u'joeman', u'jchick', u'pytest', u'jblog', u'wez', u'wcm', u'red', u'wcmckee', u'qwe', u'checkthis', u'poiu', u'pjohns', u'tnow', u'ssung', u'signinlca.py', u'gerty', u'webmck', u'joecheck', u'clittle']\n",
      "0\n",
      "No Time!\n",
      "[u'joemanz', u'point', u'wkee', u'blah', u'charle', u'poi', u'wblack', u'wmen', u'blag', u'figlet', u'sjohns', u'joeman', u'jchick', u'pytest', u'jblog', u'wez', u'wcm', u'red', u'wcmckee', u'qwe', u'checkthis', u'poiu', u'pjohns', u'tnow', u'ssung', u'signinlca.py', u'gerty', u'webmck', u'joecheck', u'clittle']\n",
      "0\n",
      "No Time!\n",
      "[u'joemanz', u'point', u'wkee', u'blah', u'charle', u'poi', u'wblack', u'wmen', u'blag', u'figlet', u'sjohns', u'joeman', u'jchick', u'pytest', u'jblog', u'wez', u'wcm', u'red', u'wcmckee', u'qwe', u'checkthis', u'poiu', u'pjohns', u'tnow', u'ssung', u'signinlca.py', u'gerty', u'webmck', u'joecheck', u'clittle']\n",
      "0\n",
      "No Time!\n",
      "[u'joemanz', u'point', u'wkee', u'blah', u'charle', u'poi', u'wblack', u'wmen', u'blag', u'figlet', u'sjohns', u'joeman', u'jchick', u'pytest', u'jblog', u'wez', u'wcm', u'red', u'wcmckee', u'qwe', u'checkthis', u'poiu', u'pjohns', u'tnow', u'ssung', u'signinlca.py', u'gerty', u'webmck', u'joecheck', u'clittle']\n",
      "0\n",
      "No Time!\n",
      "[u'joemanz', u'point', u'wkee', u'blah', u'charle', u'poi', u'wblack', u'wmen', u'blag', u'figlet', u'sjohns', u'joeman', u'jchick', u'pytest', u'jblog', u'wez', u'wcm', u'red', u'wcmckee', u'qwe', u'checkthis', u'poiu', u'pjohns', u'tnow', u'ssung', u'signinlca.py', u'gerty', u'webmck', u'joecheck', u'clittle']\n",
      "0\n",
      "No Time!\n",
      "[u'joemanz', u'point', u'wkee', u'blah', u'charle', u'poi', u'wblack', u'wmen', u'blag', u'figlet', u'sjohns', u'joeman', u'jchick', u'pytest', u'jblog', u'wez', u'wcm', u'red', u'wcmckee', u'qwe', u'checkthis', u'poiu', u'pjohns', u'tnow', u'ssung', u'signinlca.py', u'gerty', u'webmck', u'joecheck', u'clittle']\n",
      "0\n",
      "No Time!\n",
      "[u'joemanz', u'point', u'wkee', u'blah', u'charle', u'poi', u'wblack', u'wmen', u'blag', u'figlet', u'sjohns', u'joeman', u'jchick', u'pytest', u'jblog', u'wez', u'wcm', u'red', u'wcmckee', u'qwe', u'checkthis', u'poiu', u'pjohns', u'tnow', u'ssung', u'signinlca.py', u'gerty', u'webmck', u'joecheck', u'clittle']\n",
      "0\n",
      "No Time!\n",
      "[u'joemanz', u'point', u'wkee', u'blah', u'charle', u'poi', u'wblack', u'wmen', u'blag', u'figlet', u'sjohns', u'joeman', u'jchick', u'pytest', u'jblog', u'wez', u'wcm', u'red', u'wcmckee', u'qwe', u'checkthis', u'poiu', u'pjohns', u'tnow', u'ssung', u'signinlca.py', u'gerty', u'webmck', u'joecheck', u'clittle']\n",
      "0\n",
      "No Time!\n",
      "[u'joemanz', u'point', u'wkee', u'blah', u'charle', u'poi', u'wblack', u'wmen', u'blag', u'figlet', u'sjohns', u'joeman', u'jchick', u'pytest', u'jblog', u'wez', u'wcm', u'red', u'wcmckee', u'qwe', u'checkthis', u'poiu', u'pjohns', u'tnow', u'ssung', u'signinlca.py', u'gerty', u'webmck', u'joecheck', u'clittle']\n",
      "0\n",
      "No Time!\n",
      "[u'joemanz', u'point', u'wkee', u'blah', u'charle', u'poi', u'wblack', u'wmen', u'blag', u'figlet', u'sjohns', u'joeman', u'jchick', u'pytest', u'jblog', u'wez', u'wcm', u'red', u'wcmckee', u'qwe', u'checkthis', u'poiu', u'pjohns', u'tnow', u'ssung', u'signinlca.py', u'gerty', u'webmck', u'joecheck', u'clittle']\n",
      "0\n",
      "No Time!\n",
      "[u'joemanz', u'point', u'wkee', u'blah', u'charle', u'poi', u'wblack', u'wmen', u'blag', u'figlet', u'sjohns', u'joeman', u'jchick', u'pytest', u'jblog', u'wez', u'wcm', u'red', u'wcmckee', u'qwe', u'checkthis', u'poiu', u'pjohns', u'tnow', u'ssung', u'signinlca.py', u'gerty', u'webmck', u'joecheck', u'clittle']\n",
      "0\n",
      "No Time!\n",
      "[u'joemanz', u'point', u'wkee', u'blah', u'charle', u'poi', u'wblack', u'wmen', u'blag', u'figlet', u'sjohns', u'joeman', u'jchick', u'pytest', u'jblog', u'wez', u'wcm', u'red', u'wcmckee', u'qwe', u'checkthis', u'poiu', u'pjohns', u'tnow', u'ssung', u'signinlca.py', u'gerty', u'webmck', u'joecheck', u'clittle']\n",
      "0\n",
      "No Time!\n",
      "[u'joemanz', u'point', u'wkee', u'blah', u'charle', u'poi', u'wblack', u'wmen', u'blag', u'figlet', u'sjohns', u'joeman', u'jchick', u'pytest', u'jblog', u'wez', u'wcm', u'red', u'wcmckee', u'qwe', u'checkthis', u'poiu', u'pjohns', u'tnow', u'ssung', u'signinlca.py', u'gerty', u'webmck', u'joecheck', u'clittle']\n",
      "0\n",
      "No Time!\n",
      "[u'joemanz', u'point', u'wkee', u'blah', u'charle', u'poi', u'wblack', u'wmen', u'blag', u'figlet', u'sjohns', u'joeman', u'jchick', u'pytest', u'jblog', u'wez', u'wcm', u'red', u'wcmckee', u'qwe', u'checkthis', u'poiu', u'pjohns', u'tnow', u'ssung', u'signinlca.py', u'gerty', u'webmck', u'joecheck', u'clittle']\n",
      "0\n",
      "No Time!\n",
      "[u'joemanz', u'point', u'wkee', u'blah', u'charle', u'poi', u'wblack', u'wmen', u'blag', u'figlet', u'sjohns', u'joeman', u'jchick', u'pytest', u'jblog', u'wez', u'wcm', u'red', u'wcmckee', u'qwe', u'checkthis', u'poiu', u'pjohns', u'tnow', u'ssung', u'signinlca.py', u'gerty', u'webmck', u'joecheck', u'clittle']\n",
      "0\n",
      "No Time!\n",
      "[u'joemanz', u'point', u'wkee', u'blah', u'charle', u'poi', u'wblack', u'wmen', u'blag', u'figlet', u'sjohns', u'joeman', u'jchick', u'pytest', u'jblog', u'wez', u'wcm', u'red', u'wcmckee', u'qwe', u'checkthis', u'poiu', u'pjohns', u'tnow', u'ssung', u'signinlca.py', u'gerty', u'webmck', u'joecheck', u'clittle']\n",
      "0\n",
      "No Time!\n",
      "[u'joemanz', u'point', u'wkee', u'blah', u'charle', u'poi', u'wblack', u'wmen', u'blag', u'figlet', u'sjohns', u'joeman', u'jchick', u'pytest', u'jblog', u'wez', u'wcm', u'red', u'wcmckee', u'qwe', u'checkthis', u'poiu', u'pjohns', u'tnow', u'ssung', u'signinlca.py', u'gerty', u'webmck', u'joecheck', u'clittle']\n",
      "0\n",
      "No Time!\n",
      "[u'joemanz', u'point', u'wkee', u'blah', u'charle', u'poi', u'wblack', u'wmen', u'blag', u'figlet', u'sjohns', u'joeman', u'jchick', u'pytest', u'jblog', u'wez', u'wcm', u'red', u'wcmckee', u'qwe', u'checkthis', u'poiu', u'pjohns', u'tnow', u'ssung', u'signinlca.py', u'gerty', u'webmck', u'joecheck', u'clittle']\n"
     ]
    }
   ],
   "source": [
    "for nezf in neza.values():\n",
    "    print nezf\n",
    "    if nezf == 0:\n",
    "        print ('No Time!')\n",
    "        #print ('Logout ' + neza())\n",
    "        \n"
   ]
  },
  {
   "cell_type": "markdown",
   "metadata": {},
   "source": [
    "Write a config file that has each user and their time. "
   ]
  },
  {
   "cell_type": "code",
   "execution_count": 43,
   "metadata": {
    "collapsed": true
   },
   "outputs": [],
   "source": [
    "config = configparser.RawConfigParser()"
   ]
  },
  {
   "cell_type": "code",
   "execution_count": 44,
   "metadata": {
    "collapsed": false
   },
   "outputs": [
    {
     "data": {
      "text/plain": [
       "[]"
      ]
     },
     "execution_count": 44,
     "metadata": {},
     "output_type": "execute_result"
    }
   ],
   "source": [
    "config.read('/home/wcmckee/signinlca/usertime.cfg')"
   ]
  },
  {
   "cell_type": "code",
   "execution_count": 45,
   "metadata": {
    "collapsed": true
   },
   "outputs": [],
   "source": [
    "config.add_section('users')"
   ]
  },
  {
   "cell_type": "code",
   "execution_count": 46,
   "metadata": {
    "collapsed": false
   },
   "outputs": [
    {
     "name": "stdout",
     "output_type": "stream",
     "text": [
      "joemanz\n",
      "point\n",
      "wkee\n",
      "blah\n",
      "charle\n",
      "poi\n",
      "wblack\n",
      "wmen\n",
      "blag\n",
      "figlet\n",
      "sjohns\n",
      "joeman\n",
      "jchick\n",
      "pytest\n",
      "jblog\n",
      "wez\n",
      "wcm\n",
      "red\n",
      "wcmckee\n",
      "qwe\n",
      "checkthis\n",
      "poiu\n",
      "pjohns\n",
      "tnow\n",
      "ssung\n",
      "signinlca.py\n",
      "gerty\n",
      "webmck\n",
      "joecheck\n",
      "clittle\n"
     ]
    }
   ],
   "source": [
    "for naez in neza.keys():\n",
    "    print naez\n",
    "    config.set('users', naez, 0)\n"
   ]
  },
  {
   "cell_type": "code",
   "execution_count": 48,
   "metadata": {
    "collapsed": false
   },
   "outputs": [],
   "source": [
    "with open('/home/wcmckee/signinlca/users.cfg', 'wb') as configfile:\n",
    "    config.write(configfile)"
   ]
  },
  {
   "cell_type": "code",
   "execution_count": null,
   "metadata": {
    "collapsed": true
   },
   "outputs": [],
   "source": []
  }
 ],
 "metadata": {
  "kernelspec": {
   "display_name": "Python 2",
   "name": "python2"
  },
  "language_info": {
   "codemirror_mode": {
    "name": "ipython",
    "version": 2
   },
   "file_extension": ".py",
   "mimetype": "text/x-python",
   "name": "python",
   "nbconvert_exporter": "python",
   "pygments_lexer": "ipython2",
   "version": "2.7.9"
  }
 },
 "nbformat": 4,
 "nbformat_minor": 0
}
