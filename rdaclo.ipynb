{
 "cells": [
  {
   "cell_type": "markdown",
   "metadata": {},
   "source": [
    "rdaclo\n",
    "\n",
    "read account loop\n",
    "\n",
    "Script that does things depending on how much time the user has. Reads time file that is a dict with key of user and value is time"
   ]
  },
  {
   "cell_type": "code",
   "execution_count": 24,
   "metadata": {
    "collapsed": false
   },
   "outputs": [],
   "source": [
    "import json\n",
    "import os\n",
    "import configparser"
   ]
  },
  {
   "cell_type": "code",
   "execution_count": 25,
   "metadata": {
    "collapsed": false
   },
   "outputs": [],
   "source": [
    "allhost = os.listdir('/home/wcmckee/sellcoffee/hostnames/')"
   ]
  },
  {
   "cell_type": "code",
   "execution_count": 32,
   "metadata": {
    "collapsed": true
   },
   "outputs": [],
   "source": [
    "usrzlogd = []\n",
    "usrdict = dict()"
   ]
  },
  {
   "cell_type": "code",
   "execution_count": 27,
   "metadata": {
    "collapsed": false
   },
   "outputs": [
    {
     "name": "stdout",
     "output_type": "stream",
     "text": [
      "bluecookies\n",
      "naplesyellow\n",
      "corlsbudcayon\n",
      "zincwhite\n"
     ]
    }
   ],
   "source": [
    "for alhos in allhost:\n",
    "    print alhos\n",
    "    rdza = open('/home/wcmckee/sellcoffee/hostnames/' + alhos, 'r')\n",
    "    usrzlogd.append(rdza.read().replace('\\n', ''))\n",
    "    \n",
    "    "
   ]
  },
  {
   "cell_type": "code",
   "execution_count": 28,
   "metadata": {
    "collapsed": true
   },
   "outputs": [],
   "source": [
    "rdza.close()"
   ]
  },
  {
   "cell_type": "code",
   "execution_count": 61,
   "metadata": {
    "collapsed": false
   },
   "outputs": [
    {
     "name": "stdout",
     "output_type": "stream",
     "text": [
      "bluecookies\n",
      "naplesyellow\n",
      "corlsbudcayon\n",
      "zincwhite\n"
     ]
    }
   ],
   "source": [
    "for alhos in allhost:\n",
    "    print alhos\n",
    "    rdza = open('/home/wcmckee/sellcoffee/hostnames/' + alhos, 'r')\n",
    "    usrdict.update({alhos : rdza.read().replace('\\n', '').split()})\n",
    "    \n",
    "    "
   ]
  },
  {
   "cell_type": "code",
   "execution_count": 62,
   "metadata": {
    "collapsed": false
   },
   "outputs": [],
   "source": [
    "usrzlogz = usrdict.values()"
   ]
  },
  {
   "cell_type": "code",
   "execution_count": 97,
   "metadata": {
    "collapsed": true
   },
   "outputs": [],
   "source": [
    "thusrz = []\n",
    "chedct = dict()\n",
    "usrzlogedin = []\n"
   ]
  },
  {
   "cell_type": "code",
   "execution_count": 65,
   "metadata": {
    "collapsed": false
   },
   "outputs": [
    {
     "data": {
      "text/plain": [
       "{'bluecookies': ['wcmckee', 'wcmckee', 'wcmckee', 'wcmckee'],\n",
       " 'corlsbudcayon': ['wcmckee'],\n",
       " 'naplesyellow': ['wcmckee', 'wcmckee', 'wcmckee'],\n",
       " 'zincwhite': ['wcmckee', 'wcmckee', 'wcmckee']}"
      ]
     },
     "execution_count": 65,
     "metadata": {},
     "output_type": "execute_result"
    }
   ],
   "source": [
    "usrdict\n",
    "#The lists of each computer only need "
   ]
  },
  {
   "cell_type": "code",
   "execution_count": 104,
   "metadata": {
    "collapsed": false
   },
   "outputs": [
    {
     "name": "stdout",
     "output_type": "stream",
     "text": [
      "corlsbudcayon\n",
      "zincwhite\n",
      "bluecookies\n",
      "naplesyellow\n"
     ]
    }
   ],
   "source": [
    "for usrtz in usrdict.keys():\n",
    "    print usrtz"
   ]
  },
  {
   "cell_type": "code",
   "execution_count": 98,
   "metadata": {
    "collapsed": false
   },
   "outputs": [
    {
     "name": "stdout",
     "output_type": "stream",
     "text": [
      "wcmckee\n",
      "wcmckee\n",
      "wcmckee\n",
      "wcmckee\n"
     ]
    }
   ],
   "source": [
    "for usrza in usrdict.values():\n",
    "    seusr = set(usrza)\n",
    "    #print list(seusr)\n",
    "    strsrtr = list(seusr)\n",
    "    for strz in strsrtr:\n",
    "        print strz\n",
    "        usrzlogedin.append(strz)\n",
    "        #chedct.update({usrdict.keys() : strz})"
   ]
  },
  {
   "cell_type": "code",
   "execution_count": 105,
   "metadata": {
    "collapsed": false
   },
   "outputs": [
    {
     "name": "stdout",
     "output_type": "stream",
     "text": [
      "wcmckee\n",
      "corlsbudcayon\n",
      "zincwhite\n",
      "bluecookies\n",
      "naplesyellow\n",
      "wcmckee\n",
      "corlsbudcayon\n",
      "zincwhite\n",
      "bluecookies\n",
      "naplesyellow\n",
      "wcmckee\n",
      "corlsbudcayon\n",
      "zincwhite\n",
      "bluecookies\n",
      "naplesyellow\n",
      "wcmckee\n",
      "corlsbudcayon\n",
      "zincwhite\n",
      "bluecookies\n",
      "naplesyellow\n"
     ]
    }
   ],
   "source": [
    "for usrot in usrzlogedin:\n",
    "    print usrot\n",
    "    for usrtz in usrdict.keys():\n",
    "        print usrtz \n",
    "        opminsfil = open('/home/wcmckee/sellcoffee/usernames/' + usrtz + '-minutes', 'w')\n",
    "        opminsfil.write(usrot)\n",
    "        opminsfil.close()"
   ]
  },
  {
   "cell_type": "code",
   "execution_count": null,
   "metadata": {
    "collapsed": true
   },
   "outputs": [],
   "source": []
  },
  {
   "cell_type": "code",
   "execution_count": null,
   "metadata": {
    "collapsed": true
   },
   "outputs": [],
   "source": [
    "chdict.update()"
   ]
  },
  {
   "cell_type": "code",
   "execution_count": 71,
   "metadata": {
    "collapsed": true
   },
   "outputs": [],
   "source": [
    "usrslogedindic = dict()"
   ]
  },
  {
   "cell_type": "code",
   "execution_count": 75,
   "metadata": {
    "collapsed": false
   },
   "outputs": [
    {
     "name": "stdout",
     "output_type": "stream",
     "text": [
      "wcmckee\n",
      "wcmckee\n",
      "wcmckee\n",
      "wcmckee\n",
      "wcmckee\n",
      "wcmckee\n",
      "wcmckee\n",
      "wcmckee\n",
      "wcmckee\n",
      "wcmckee\n",
      "wcmckee\n"
     ]
    }
   ],
   "source": [
    "for usrva in usrdict.values():\n",
    "    #print usrva\n",
    "    for usrv in usrva:\n",
    "        print usrv\n",
    "        #cycles though printing out each user loged in. \n",
    "        #I want to add one min to their name if their name \n",
    "        #shows up here. \n",
    "        #create a dict that is\n",
    "        #{username : +1 (number increases their \n",
    "        #loged in on multimachines)}"
   ]
  },
  {
   "cell_type": "code",
   "execution_count": 74,
   "metadata": {
    "collapsed": false
   },
   "outputs": [
    {
     "data": {
      "text/plain": [
       "{'wcmckee': 'test'}"
      ]
     },
     "execution_count": 74,
     "metadata": {},
     "output_type": "execute_result"
    }
   ],
   "source": [
    "usrslogedindic"
   ]
  },
  {
   "cell_type": "code",
   "execution_count": 7,
   "metadata": {
    "collapsed": true
   },
   "outputs": [],
   "source": [
    "opus = open('/home/wcmckee/sellcoffee/hostnames/localhost', 'r')"
   ]
  },
  {
   "cell_type": "code",
   "execution_count": 8,
   "metadata": {
    "collapsed": false
   },
   "outputs": [],
   "source": [
    "opjsn = opus.read()"
   ]
  },
  {
   "cell_type": "code",
   "execution_count": 9,
   "metadata": {
    "collapsed": true
   },
   "outputs": [],
   "source": [
    "neza = json.loads(opjsn)"
   ]
  },
  {
   "cell_type": "code",
   "execution_count": 15,
   "metadata": {
    "collapsed": false
   },
   "outputs": [],
   "source": [
    "#os.system('sudo passwd -l ' + locusa) \n",
    "#os.system('sudo pgrep -u ' + locusa)\n",
    "#os.system('sudo killall -KILL -u ' + locusa)neza.keys()"
   ]
  },
  {
   "cell_type": "code",
   "execution_count": 23,
   "metadata": {
    "collapsed": false
   },
   "outputs": [
    {
     "data": {
      "text/plain": [
       "{u'blag': 0,\n",
       " u'blah': 0,\n",
       " u'charle': 0,\n",
       " u'checkthis': 0,\n",
       " u'clittle': 0,\n",
       " u'figlet': 0,\n",
       " u'gerty': 0,\n",
       " u'jblog': 0,\n",
       " u'jchick': 0,\n",
       " u'joecheck': 0,\n",
       " u'joeman': 0,\n",
       " u'joemanz': 0,\n",
       " u'pjohns': 0,\n",
       " u'poi': 0,\n",
       " u'point': 0,\n",
       " u'poiu': 0,\n",
       " u'pytest': 0,\n",
       " u'qwe': 0,\n",
       " u'red': 0,\n",
       " u'signinlca.py': 0,\n",
       " u'sjohns': 0,\n",
       " u'ssung': 0,\n",
       " u'tnow': 0,\n",
       " u'wblack': 0,\n",
       " u'wcm': 0,\n",
       " u'wcmckee': 0,\n",
       " u'webmck': 0,\n",
       " u'wez': 0,\n",
       " u'wkee': 0,\n",
       " u'wmen': 0}"
      ]
     },
     "execution_count": 23,
     "metadata": {},
     "output_type": "execute_result"
    }
   ],
   "source": [
    "neza"
   ]
  },
  {
   "cell_type": "code",
   "execution_count": 33,
   "metadata": {
    "collapsed": false
   },
   "outputs": [
    {
     "name": "stdout",
     "output_type": "stream",
     "text": [
      "0\n",
      "No Time!\n",
      "0\n",
      "No Time!\n",
      "0\n",
      "No Time!\n",
      "0\n",
      "No Time!\n",
      "0\n",
      "No Time!\n",
      "0\n",
      "No Time!\n",
      "0\n",
      "No Time!\n",
      "0\n",
      "No Time!\n",
      "0\n",
      "No Time!\n",
      "0\n",
      "No Time!\n",
      "0\n",
      "No Time!\n",
      "0\n",
      "No Time!\n",
      "0\n",
      "No Time!\n",
      "0\n",
      "No Time!\n",
      "0\n",
      "No Time!\n",
      "0\n",
      "No Time!\n",
      "0\n",
      "No Time!\n",
      "0\n",
      "No Time!\n",
      "0\n",
      "No Time!\n",
      "0\n",
      "No Time!\n",
      "0\n",
      "No Time!\n",
      "0\n",
      "No Time!\n",
      "0\n",
      "No Time!\n",
      "0\n",
      "No Time!\n",
      "0\n",
      "No Time!\n",
      "0\n",
      "No Time!\n",
      "0\n",
      "No Time!\n",
      "0\n",
      "No Time!\n",
      "0\n",
      "No Time!\n",
      "0\n",
      "No Time!\n"
     ]
    }
   ],
   "source": [
    "for nezf in neza.values():\n",
    "    print nezf\n",
    "    if nezf == 0:\n",
    "        print ('No Time!')\n",
    "        #print ('Logout ' + neza())"
   ]
  },
  {
   "cell_type": "code",
   "execution_count": 40,
   "metadata": {
    "collapsed": false
   },
   "outputs": [
    {
     "name": "stdout",
     "output_type": "stream",
     "text": [
      "joemanz\n",
      "point\n",
      "wkee\n",
      "blah\n",
      "charle\n",
      "poi\n",
      "wblack\n",
      "wmen\n",
      "blag\n",
      "figlet\n",
      "sjohns\n",
      "joeman\n",
      "jchick\n",
      "pytest\n",
      "jblog\n",
      "wez\n",
      "wcm\n",
      "red\n",
      "wcmckee\n",
      "qwe\n",
      "checkthis\n",
      "poiu\n",
      "pjohns\n",
      "tnow\n",
      "ssung\n",
      "signinlca.py\n",
      "gerty\n",
      "webmck\n",
      "joecheck\n",
      "clittle\n"
     ]
    }
   ],
   "source": [
    "for naez in neza.keys():\n",
    "    print naez"
   ]
  },
  {
   "cell_type": "code",
   "execution_count": 38,
   "metadata": {
    "collapsed": false
   },
   "outputs": [
    {
     "name": "stdout",
     "output_type": "stream",
     "text": [
      "0\n",
      "No Time!\n",
      "[u'joemanz', u'point', u'wkee', u'blah', u'charle', u'poi', u'wblack', u'wmen', u'blag', u'figlet', u'sjohns', u'joeman', u'jchick', u'pytest', u'jblog', u'wez', u'wcm', u'red', u'wcmckee', u'qwe', u'checkthis', u'poiu', u'pjohns', u'tnow', u'ssung', u'signinlca.py', u'gerty', u'webmck', u'joecheck', u'clittle']\n",
      "0\n",
      "No Time!\n",
      "[u'joemanz', u'point', u'wkee', u'blah', u'charle', u'poi', u'wblack', u'wmen', u'blag', u'figlet', u'sjohns', u'joeman', u'jchick', u'pytest', u'jblog', u'wez', u'wcm', u'red', u'wcmckee', u'qwe', u'checkthis', u'poiu', u'pjohns', u'tnow', u'ssung', u'signinlca.py', u'gerty', u'webmck', u'joecheck', u'clittle']\n",
      "0\n",
      "No Time!\n",
      "[u'joemanz', u'point', u'wkee', u'blah', u'charle', u'poi', u'wblack', u'wmen', u'blag', u'figlet', u'sjohns', u'joeman', u'jchick', u'pytest', u'jblog', u'wez', u'wcm', u'red', u'wcmckee', u'qwe', u'checkthis', u'poiu', u'pjohns', u'tnow', u'ssung', u'signinlca.py', u'gerty', u'webmck', u'joecheck', u'clittle']\n",
      "0\n",
      "No Time!\n",
      "[u'joemanz', u'point', u'wkee', u'blah', u'charle', u'poi', u'wblack', u'wmen', u'blag', u'figlet', u'sjohns', u'joeman', u'jchick', u'pytest', u'jblog', u'wez', u'wcm', u'red', u'wcmckee', u'qwe', u'checkthis', u'poiu', u'pjohns', u'tnow', u'ssung', u'signinlca.py', u'gerty', u'webmck', u'joecheck', u'clittle']\n",
      "0\n",
      "No Time!\n",
      "[u'joemanz', u'point', u'wkee', u'blah', u'charle', u'poi', u'wblack', u'wmen', u'blag', u'figlet', u'sjohns', u'joeman', u'jchick', u'pytest', u'jblog', u'wez', u'wcm', u'red', u'wcmckee', u'qwe', u'checkthis', u'poiu', u'pjohns', u'tnow', u'ssung', u'signinlca.py', u'gerty', u'webmck', u'joecheck', u'clittle']\n",
      "0\n",
      "No Time!\n",
      "[u'joemanz', u'point', u'wkee', u'blah', u'charle', u'poi', u'wblack', u'wmen', u'blag', u'figlet', u'sjohns', u'joeman', u'jchick', u'pytest', u'jblog', u'wez', u'wcm', u'red', u'wcmckee', u'qwe', u'checkthis', u'poiu', u'pjohns', u'tnow', u'ssung', u'signinlca.py', u'gerty', u'webmck', u'joecheck', u'clittle']\n",
      "0\n",
      "No Time!\n",
      "[u'joemanz', u'point', u'wkee', u'blah', u'charle', u'poi', u'wblack', u'wmen', u'blag', u'figlet', u'sjohns', u'joeman', u'jchick', u'pytest', u'jblog', u'wez', u'wcm', u'red', u'wcmckee', u'qwe', u'checkthis', u'poiu', u'pjohns', u'tnow', u'ssung', u'signinlca.py', u'gerty', u'webmck', u'joecheck', u'clittle']\n",
      "0\n",
      "No Time!\n",
      "[u'joemanz', u'point', u'wkee', u'blah', u'charle', u'poi', u'wblack', u'wmen', u'blag', u'figlet', u'sjohns', u'joeman', u'jchick', u'pytest', u'jblog', u'wez', u'wcm', u'red', u'wcmckee', u'qwe', u'checkthis', u'poiu', u'pjohns', u'tnow', u'ssung', u'signinlca.py', u'gerty', u'webmck', u'joecheck', u'clittle']\n",
      "0\n",
      "No Time!\n",
      "[u'joemanz', u'point', u'wkee', u'blah', u'charle', u'poi', u'wblack', u'wmen', u'blag', u'figlet', u'sjohns', u'joeman', u'jchick', u'pytest', u'jblog', u'wez', u'wcm', u'red', u'wcmckee', u'qwe', u'checkthis', u'poiu', u'pjohns', u'tnow', u'ssung', u'signinlca.py', u'gerty', u'webmck', u'joecheck', u'clittle']\n",
      "0\n",
      "No Time!\n",
      "[u'joemanz', u'point', u'wkee', u'blah', u'charle', u'poi', u'wblack', u'wmen', u'blag', u'figlet', u'sjohns', u'joeman', u'jchick', u'pytest', u'jblog', u'wez', u'wcm', u'red', u'wcmckee', u'qwe', u'checkthis', u'poiu', u'pjohns', u'tnow', u'ssung', u'signinlca.py', u'gerty', u'webmck', u'joecheck', u'clittle']\n",
      "0\n",
      "No Time!\n",
      "[u'joemanz', u'point', u'wkee', u'blah', u'charle', u'poi', u'wblack', u'wmen', u'blag', u'figlet', u'sjohns', u'joeman', u'jchick', u'pytest', u'jblog', u'wez', u'wcm', u'red', u'wcmckee', u'qwe', u'checkthis', u'poiu', u'pjohns', u'tnow', u'ssung', u'signinlca.py', u'gerty', u'webmck', u'joecheck', u'clittle']\n",
      "0\n",
      "No Time!\n",
      "[u'joemanz', u'point', u'wkee', u'blah', u'charle', u'poi', u'wblack', u'wmen', u'blag', u'figlet', u'sjohns', u'joeman', u'jchick', u'pytest', u'jblog', u'wez', u'wcm', u'red', u'wcmckee', u'qwe', u'checkthis', u'poiu', u'pjohns', u'tnow', u'ssung', u'signinlca.py', u'gerty', u'webmck', u'joecheck', u'clittle']\n",
      "0\n",
      "No Time!\n",
      "[u'joemanz', u'point', u'wkee', u'blah', u'charle', u'poi', u'wblack', u'wmen', u'blag', u'figlet', u'sjohns', u'joeman', u'jchick', u'pytest', u'jblog', u'wez', u'wcm', u'red', u'wcmckee', u'qwe', u'checkthis', u'poiu', u'pjohns', u'tnow', u'ssung', u'signinlca.py', u'gerty', u'webmck', u'joecheck', u'clittle']\n",
      "0\n",
      "No Time!\n",
      "[u'joemanz', u'point', u'wkee', u'blah', u'charle', u'poi', u'wblack', u'wmen', u'blag', u'figlet', u'sjohns', u'joeman', u'jchick', u'pytest', u'jblog', u'wez', u'wcm', u'red', u'wcmckee', u'qwe', u'checkthis', u'poiu', u'pjohns', u'tnow', u'ssung', u'signinlca.py', u'gerty', u'webmck', u'joecheck', u'clittle']\n",
      "0\n",
      "No Time!\n",
      "[u'joemanz', u'point', u'wkee', u'blah', u'charle', u'poi', u'wblack', u'wmen', u'blag', u'figlet', u'sjohns', u'joeman', u'jchick', u'pytest', u'jblog', u'wez', u'wcm', u'red', u'wcmckee', u'qwe', u'checkthis', u'poiu', u'pjohns', u'tnow', u'ssung', u'signinlca.py', u'gerty', u'webmck', u'joecheck', u'clittle']\n",
      "0\n",
      "No Time!\n",
      "[u'joemanz', u'point', u'wkee', u'blah', u'charle', u'poi', u'wblack', u'wmen', u'blag', u'figlet', u'sjohns', u'joeman', u'jchick', u'pytest', u'jblog', u'wez', u'wcm', u'red', u'wcmckee', u'qwe', u'checkthis', u'poiu', u'pjohns', u'tnow', u'ssung', u'signinlca.py', u'gerty', u'webmck', u'joecheck', u'clittle']\n",
      "0\n",
      "No Time!\n",
      "[u'joemanz', u'point', u'wkee', u'blah', u'charle', u'poi', u'wblack', u'wmen', u'blag', u'figlet', u'sjohns', u'joeman', u'jchick', u'pytest', u'jblog', u'wez', u'wcm', u'red', u'wcmckee', u'qwe', u'checkthis', u'poiu', u'pjohns', u'tnow', u'ssung', u'signinlca.py', u'gerty', u'webmck', u'joecheck', u'clittle']\n",
      "0\n",
      "No Time!\n",
      "[u'joemanz', u'point', u'wkee', u'blah', u'charle', u'poi', u'wblack', u'wmen', u'blag', u'figlet', u'sjohns', u'joeman', u'jchick', u'pytest', u'jblog', u'wez', u'wcm', u'red', u'wcmckee', u'qwe', u'checkthis', u'poiu', u'pjohns', u'tnow', u'ssung', u'signinlca.py', u'gerty', u'webmck', u'joecheck', u'clittle']\n",
      "0\n",
      "No Time!\n",
      "[u'joemanz', u'point', u'wkee', u'blah', u'charle', u'poi', u'wblack', u'wmen', u'blag', u'figlet', u'sjohns', u'joeman', u'jchick', u'pytest', u'jblog', u'wez', u'wcm', u'red', u'wcmckee', u'qwe', u'checkthis', u'poiu', u'pjohns', u'tnow', u'ssung', u'signinlca.py', u'gerty', u'webmck', u'joecheck', u'clittle']\n",
      "0\n",
      "No Time!\n",
      "[u'joemanz', u'point', u'wkee', u'blah', u'charle', u'poi', u'wblack', u'wmen', u'blag', u'figlet', u'sjohns', u'joeman', u'jchick', u'pytest', u'jblog', u'wez', u'wcm', u'red', u'wcmckee', u'qwe', u'checkthis', u'poiu', u'pjohns', u'tnow', u'ssung', u'signinlca.py', u'gerty', u'webmck', u'joecheck', u'clittle']\n",
      "0\n",
      "No Time!\n",
      "[u'joemanz', u'point', u'wkee', u'blah', u'charle', u'poi', u'wblack', u'wmen', u'blag', u'figlet', u'sjohns', u'joeman', u'jchick', u'pytest', u'jblog', u'wez', u'wcm', u'red', u'wcmckee', u'qwe', u'checkthis', u'poiu', u'pjohns', u'tnow', u'ssung', u'signinlca.py', u'gerty', u'webmck', u'joecheck', u'clittle']\n",
      "0\n",
      "No Time!\n",
      "[u'joemanz', u'point', u'wkee', u'blah', u'charle', u'poi', u'wblack', u'wmen', u'blag', u'figlet', u'sjohns', u'joeman', u'jchick', u'pytest', u'jblog', u'wez', u'wcm', u'red', u'wcmckee', u'qwe', u'checkthis', u'poiu', u'pjohns', u'tnow', u'ssung', u'signinlca.py', u'gerty', u'webmck', u'joecheck', u'clittle']\n",
      "0\n",
      "No Time!\n",
      "[u'joemanz', u'point', u'wkee', u'blah', u'charle', u'poi', u'wblack', u'wmen', u'blag', u'figlet', u'sjohns', u'joeman', u'jchick', u'pytest', u'jblog', u'wez', u'wcm', u'red', u'wcmckee', u'qwe', u'checkthis', u'poiu', u'pjohns', u'tnow', u'ssung', u'signinlca.py', u'gerty', u'webmck', u'joecheck', u'clittle']\n",
      "0\n",
      "No Time!\n",
      "[u'joemanz', u'point', u'wkee', u'blah', u'charle', u'poi', u'wblack', u'wmen', u'blag', u'figlet', u'sjohns', u'joeman', u'jchick', u'pytest', u'jblog', u'wez', u'wcm', u'red', u'wcmckee', u'qwe', u'checkthis', u'poiu', u'pjohns', u'tnow', u'ssung', u'signinlca.py', u'gerty', u'webmck', u'joecheck', u'clittle']\n",
      "0\n",
      "No Time!\n",
      "[u'joemanz', u'point', u'wkee', u'blah', u'charle', u'poi', u'wblack', u'wmen', u'blag', u'figlet', u'sjohns', u'joeman', u'jchick', u'pytest', u'jblog', u'wez', u'wcm', u'red', u'wcmckee', u'qwe', u'checkthis', u'poiu', u'pjohns', u'tnow', u'ssung', u'signinlca.py', u'gerty', u'webmck', u'joecheck', u'clittle']\n",
      "0\n",
      "No Time!\n",
      "[u'joemanz', u'point', u'wkee', u'blah', u'charle', u'poi', u'wblack', u'wmen', u'blag', u'figlet', u'sjohns', u'joeman', u'jchick', u'pytest', u'jblog', u'wez', u'wcm', u'red', u'wcmckee', u'qwe', u'checkthis', u'poiu', u'pjohns', u'tnow', u'ssung', u'signinlca.py', u'gerty', u'webmck', u'joecheck', u'clittle']\n",
      "0\n",
      "No Time!\n",
      "[u'joemanz', u'point', u'wkee', u'blah', u'charle', u'poi', u'wblack', u'wmen', u'blag', u'figlet', u'sjohns', u'joeman', u'jchick', u'pytest', u'jblog', u'wez', u'wcm', u'red', u'wcmckee', u'qwe', u'checkthis', u'poiu', u'pjohns', u'tnow', u'ssung', u'signinlca.py', u'gerty', u'webmck', u'joecheck', u'clittle']\n",
      "0\n",
      "No Time!\n",
      "[u'joemanz', u'point', u'wkee', u'blah', u'charle', u'poi', u'wblack', u'wmen', u'blag', u'figlet', u'sjohns', u'joeman', u'jchick', u'pytest', u'jblog', u'wez', u'wcm', u'red', u'wcmckee', u'qwe', u'checkthis', u'poiu', u'pjohns', u'tnow', u'ssung', u'signinlca.py', u'gerty', u'webmck', u'joecheck', u'clittle']\n",
      "0\n",
      "No Time!\n",
      "[u'joemanz', u'point', u'wkee', u'blah', u'charle', u'poi', u'wblack', u'wmen', u'blag', u'figlet', u'sjohns', u'joeman', u'jchick', u'pytest', u'jblog', u'wez', u'wcm', u'red', u'wcmckee', u'qwe', u'checkthis', u'poiu', u'pjohns', u'tnow', u'ssung', u'signinlca.py', u'gerty', u'webmck', u'joecheck', u'clittle']\n",
      "0\n",
      "No Time!\n",
      "[u'joemanz', u'point', u'wkee', u'blah', u'charle', u'poi', u'wblack', u'wmen', u'blag', u'figlet', u'sjohns', u'joeman', u'jchick', u'pytest', u'jblog', u'wez', u'wcm', u'red', u'wcmckee', u'qwe', u'checkthis', u'poiu', u'pjohns', u'tnow', u'ssung', u'signinlca.py', u'gerty', u'webmck', u'joecheck', u'clittle']\n"
     ]
    }
   ],
   "source": [
    "for nezf in neza.values():\n",
    "    print nezf\n",
    "    if nezf == 0:\n",
    "        print ('No Time!')\n",
    "        #print ('Logout ' + neza())\n",
    "        \n"
   ]
  },
  {
   "cell_type": "markdown",
   "metadata": {},
   "source": [
    "Write a config file that has each user and their time. "
   ]
  },
  {
   "cell_type": "code",
   "execution_count": 43,
   "metadata": {
    "collapsed": true
   },
   "outputs": [],
   "source": [
    "config = configparser.RawConfigParser()"
   ]
  },
  {
   "cell_type": "code",
   "execution_count": 44,
   "metadata": {
    "collapsed": false
   },
   "outputs": [
    {
     "data": {
      "text/plain": [
       "[]"
      ]
     },
     "execution_count": 44,
     "metadata": {},
     "output_type": "execute_result"
    }
   ],
   "source": [
    "config.read('/home/wcmckee/signinlca/usertime.cfg')"
   ]
  },
  {
   "cell_type": "code",
   "execution_count": 45,
   "metadata": {
    "collapsed": true
   },
   "outputs": [],
   "source": [
    "config.add_section('users')"
   ]
  },
  {
   "cell_type": "code",
   "execution_count": 46,
   "metadata": {
    "collapsed": false
   },
   "outputs": [
    {
     "name": "stdout",
     "output_type": "stream",
     "text": [
      "joemanz\n",
      "point\n",
      "wkee\n",
      "blah\n",
      "charle\n",
      "poi\n",
      "wblack\n",
      "wmen\n",
      "blag\n",
      "figlet\n",
      "sjohns\n",
      "joeman\n",
      "jchick\n",
      "pytest\n",
      "jblog\n",
      "wez\n",
      "wcm\n",
      "red\n",
      "wcmckee\n",
      "qwe\n",
      "checkthis\n",
      "poiu\n",
      "pjohns\n",
      "tnow\n",
      "ssung\n",
      "signinlca.py\n",
      "gerty\n",
      "webmck\n",
      "joecheck\n",
      "clittle\n"
     ]
    }
   ],
   "source": [
    "for naez in neza.keys():\n",
    "    print naez\n",
    "    config.set('users', naez, 0)\n"
   ]
  },
  {
   "cell_type": "code",
   "execution_count": 48,
   "metadata": {
    "collapsed": false
   },
   "outputs": [],
   "source": [
    "with open('/home/wcmckee/signinlca/users.cfg', 'wb') as configfile:\n",
    "    config.write(configfile)"
   ]
  },
  {
   "cell_type": "code",
   "execution_count": null,
   "metadata": {
    "collapsed": true
   },
   "outputs": [],
   "source": []
  }
 ],
 "metadata": {
  "kernelspec": {
   "display_name": "Python 2",
   "language": "python",
   "name": "python2"
  },
  "language_info": {
   "codemirror_mode": {
    "name": "ipython",
    "version": 2
   },
   "file_extension": ".py",
   "mimetype": "text/x-python",
   "name": "python",
   "nbconvert_exporter": "python",
   "pygments_lexer": "ipython2",
   "version": "2.7.3"
  }
 },
 "nbformat": 4,
 "nbformat_minor": 0
}
